{
 "cells": [
  {
   "cell_type": "markdown",
   "metadata": {},
   "source": [
    "Problem 1\n",
    "1'den 1000'e kadar olan sayılardan mükemmel sayı olanları ekrana yazdırın. Bunun için bir sayının mükemmel olup olmadığını dönen bir tane fonksiyon yazın.\n",
    "\n",
    "Bir sayının bölenlerinin toplamı kendine eşitse bu sayı mükemmel bir sayıdır. Örnek olarak 6 mükemmel bir sayıdır (1 + 2 + 3 = 6).\n",
    "\n"
   ]
  },
  {
   "cell_type": "code",
   "execution_count": 8,
   "metadata": {},
   "outputs": [
    {
     "name": "stdout",
     "output_type": "stream",
     "text": [
      "6  mükemmel sayıdır.\n",
      "28  mükemmel sayıdır.\n",
      "496  mükemmel sayıdır.\n"
     ]
    }
   ],
   "source": [
    "def mükemmel_sayı():\n",
    "    for i in range(1,1001):\n",
    "        toplam = 0\n",
    "        for x in range(1,i):\n",
    "            if i % x == 0:\n",
    "                toplam += x\n",
    "        if toplam == i:\n",
    "            print(i,\" mükemmel sayıdır.\")\n",
    "\n",
    "mükemmel_sayı()"
   ]
  },
  {
   "cell_type": "markdown",
   "metadata": {},
   "source": [
    "Problem 2\n",
    "Kullanıcıdan 2 tane sayı alarak bu sayıların en büyük ortak bölenini (EBOB) dönen bir tane fonksiyon yazın.\n",
    "\n",
    "Problem için şu siteye bakabilirsiniz;\n",
    "\n",
    "http://www.matematikciler.com/6-sinif/matematik-konu-anlatimlari/1020-en-kucuk-ortak-kat-ve-en-buyuk-ortak-bolen-ebob-ekok\n",
    "\n"
   ]
  },
  {
   "cell_type": "code",
   "execution_count": 11,
   "metadata": {},
   "outputs": [
    {
     "name": "stdout",
     "output_type": "stream",
     "text": [
      "Sayı1:14\n",
      "Sayı2:54\n",
      "14 ile 54 nin ebobu 2 dır.\n"
     ]
    }
   ],
   "source": [
    "def ebob(a,b):\n",
    "    ebob = 1\n",
    "    min = a\n",
    "    if b < min:\n",
    "        min = b\n",
    "    for i in range(1,min):\n",
    "        if a % i == 0 and b % i == 0:\n",
    "            ebob = i\n",
    "    return ebob\n",
    "\n",
    "sayı1 = int(input(\"Sayı1:\"))\n",
    "sayı2 = int(input(\"Sayı2:\"))\n",
    "\n",
    "print(\"{} ile {} nin ebobu {} dır.\".format(sayı1,sayı2,ebob(sayı1,sayı2)))    "
   ]
  },
  {
   "cell_type": "markdown",
   "metadata": {},
   "source": [
    "Problem 3\n",
    "Kullanıcıdan 2 tane sayı alarak bu sayıların en küçük ortak katlarını (EKOK) dönen bir tane fonksiyon yazın.\n",
    "\n",
    "Problem için şu siteye bakabilirsiniz;\n",
    "\n",
    "http://www.matematikciler.com/6-sinif/matematik-konu-anlatimlari/1020-en-kucuk-ortak-kat-ve-en-buyuk-ortak-bolen-ebob-ekok"
   ]
  },
  {
   "cell_type": "code",
   "execution_count": 19,
   "metadata": {},
   "outputs": [
    {
     "name": "stdout",
     "output_type": "stream",
     "text": [
      "Sayı1:15\n",
      "Sayı2:20\n",
      "15 ile 20 nin ekoku 60 dır.\n"
     ]
    }
   ],
   "source": [
    "def ekok(a,b):\n",
    "    ekok = 1\n",
    "    i = 2\n",
    "    while a > 1 and b > 1:\n",
    "        if a % i == 0 and b % i == 0:\n",
    "            ekok *= i\n",
    "            a //= i\n",
    "            b //= i\n",
    "            continue\n",
    "        elif a % i == 0:\n",
    "            ekok *= i\n",
    "            a //= i\n",
    "        elif b % i == 0:\n",
    "            ekok *= i\n",
    "            b //= i\n",
    "        else:\n",
    "            i += 1\n",
    "    return ekok\n",
    "\n",
    "sayı1 = int(input(\"Sayı1:\"))\n",
    "sayı2 = int(input(\"Sayı2:\"))\n",
    "\n",
    "print(\"{} ile {} nin ekoku {} dır.\".format(sayı1,sayı2,ekok(sayı1,sayı2)))"
   ]
  },
  {
   "cell_type": "markdown",
   "metadata": {},
   "source": [
    "Problem 4\n",
    "Kullanıcıdan 2 basamaklı bir sayı alın ve bu sayının okunuşunu bulan bir fonksiyon yazın.\n",
    "\n",
    "Örnek: 97 ---------> Doksan Yedi"
   ]
  },
  {
   "cell_type": "code",
   "execution_count": 25,
   "metadata": {},
   "outputs": [
    {
     "name": "stdout",
     "output_type": "stream",
     "text": [
      "Sayı:23\n",
      "yirmi üç\n",
      "Sayı:55\n",
      "elli beş\n",
      "Sayı:99\n",
      "doksan dokuz\n",
      "Sayı:31\n",
      "otuz bir\n",
      "Sayı:q\n"
     ]
    }
   ],
   "source": [
    "birler = {1:\"bir\",2:\"iki\",3:\"üç\",4:\"dört\",5:\"beş\",6:\"altı\",7:\"yedi\",8:\"sekiz\",9:\"dokuz\"}\n",
    "onlar = {1:\"on\",2:\"yirmi\",3:\"otuz\",4:\"kırk\",5:\"elli\",6:\"altmış\",7:\"yetmiş\",8:\"seksen\",9:\"doksan\"}\n",
    "\n",
    "while True:\n",
    "    sayı = input(\"Sayı:\")\n",
    "    if sayı == \"q\":\n",
    "        break\n",
    "    elif len(sayı) != 2:\n",
    "        print(\"Lütfen iki basamaklı sayı giriniz\")\n",
    "    else:\n",
    "        sayı = int(sayı)\n",
    "        print(onlar[sayı // 10], birler[sayı % 10])"
   ]
  },
  {
   "cell_type": "markdown",
   "metadata": {},
   "source": [
    "Problem 5\n",
    "1'den 100'e kadar olan sayılardan pisagor üçgeni oluşturanları ekrana yazdıran bir fonksiyon yazın.(a <= 100,b <= 100)"
   ]
  },
  {
   "cell_type": "code",
   "execution_count": 31,
   "metadata": {},
   "outputs": [
    {
     "name": "stdout",
     "output_type": "stream",
     "text": [
      "a: 3 b: 4 pisagor: 5.0\n",
      "a: 5 b: 12 pisagor: 13.0\n",
      "a: 6 b: 8 pisagor: 10.0\n",
      "a: 7 b: 24 pisagor: 25.0\n",
      "a: 8 b: 15 pisagor: 17.0\n",
      "a: 9 b: 12 pisagor: 15.0\n",
      "a: 9 b: 40 pisagor: 41.0\n",
      "a: 10 b: 24 pisagor: 26.0\n",
      "a: 11 b: 60 pisagor: 61.0\n",
      "a: 12 b: 16 pisagor: 20.0\n",
      "a: 12 b: 35 pisagor: 37.0\n",
      "a: 13 b: 84 pisagor: 85.0\n",
      "a: 14 b: 48 pisagor: 50.0\n",
      "a: 15 b: 20 pisagor: 25.0\n",
      "a: 15 b: 36 pisagor: 39.0\n",
      "a: 16 b: 30 pisagor: 34.0\n",
      "a: 16 b: 63 pisagor: 65.0\n",
      "a: 18 b: 24 pisagor: 30.0\n",
      "a: 18 b: 80 pisagor: 82.0\n",
      "a: 20 b: 21 pisagor: 29.0\n",
      "a: 20 b: 48 pisagor: 52.0\n",
      "a: 20 b: 99 pisagor: 101.0\n",
      "a: 21 b: 28 pisagor: 35.0\n",
      "a: 21 b: 72 pisagor: 75.0\n",
      "a: 24 b: 32 pisagor: 40.0\n",
      "a: 24 b: 45 pisagor: 51.0\n",
      "a: 24 b: 70 pisagor: 74.0\n",
      "a: 25 b: 60 pisagor: 65.0\n",
      "a: 27 b: 36 pisagor: 45.0\n",
      "a: 28 b: 45 pisagor: 53.0\n",
      "a: 28 b: 96 pisagor: 100.0\n",
      "a: 30 b: 40 pisagor: 50.0\n",
      "a: 30 b: 72 pisagor: 78.0\n",
      "a: 32 b: 60 pisagor: 68.0\n",
      "a: 33 b: 44 pisagor: 55.0\n",
      "a: 33 b: 56 pisagor: 65.0\n",
      "a: 35 b: 84 pisagor: 91.0\n",
      "a: 36 b: 48 pisagor: 60.0\n",
      "a: 36 b: 77 pisagor: 85.0\n",
      "a: 39 b: 52 pisagor: 65.0\n",
      "a: 39 b: 80 pisagor: 89.0\n",
      "a: 40 b: 42 pisagor: 58.0\n",
      "a: 40 b: 75 pisagor: 85.0\n",
      "a: 40 b: 96 pisagor: 104.0\n",
      "a: 42 b: 56 pisagor: 70.0\n",
      "a: 45 b: 60 pisagor: 75.0\n",
      "a: 48 b: 55 pisagor: 73.0\n",
      "a: 48 b: 64 pisagor: 80.0\n",
      "a: 48 b: 90 pisagor: 102.0\n",
      "a: 51 b: 68 pisagor: 85.0\n",
      "a: 54 b: 72 pisagor: 90.0\n",
      "a: 56 b: 90 pisagor: 106.0\n",
      "a: 57 b: 76 pisagor: 95.0\n",
      "a: 60 b: 63 pisagor: 87.0\n",
      "a: 60 b: 80 pisagor: 100.0\n",
      "a: 60 b: 91 pisagor: 109.0\n",
      "a: 63 b: 84 pisagor: 105.0\n",
      "a: 65 b: 72 pisagor: 97.0\n",
      "a: 66 b: 88 pisagor: 110.0\n",
      "a: 69 b: 92 pisagor: 115.0\n",
      "a: 72 b: 96 pisagor: 120.0\n",
      "a: 75 b: 100 pisagor: 125.0\n",
      "a: 80 b: 84 pisagor: 116.0\n"
     ]
    }
   ],
   "source": [
    "def pisagor():\n",
    "    for a in range(1,101):\n",
    "        for b in range(a,101):\n",
    "            pisagor = (a ** 2 + b ** 2) ** 0.5\n",
    "            if pisagor % int(pisagor) == 0:\n",
    "                print(\"a:\",a,\"b:\",b,\"pisagor:\",pisagor)\n",
    "pisagor()"
   ]
  },
  {
   "cell_type": "code",
   "execution_count": null,
   "metadata": {},
   "outputs": [],
   "source": []
  }
 ],
 "metadata": {
  "kernelspec": {
   "display_name": "Python 3",
   "language": "python",
   "name": "python3"
  },
  "language_info": {
   "codemirror_mode": {
    "name": "ipython",
    "version": 3
   },
   "file_extension": ".py",
   "mimetype": "text/x-python",
   "name": "python",
   "nbconvert_exporter": "python",
   "pygments_lexer": "ipython3",
   "version": "3.6.4"
  }
 },
 "nbformat": 4,
 "nbformat_minor": 2
}
