{
 "cells": [
  {
   "cell_type": "markdown",
   "metadata": {},
   "source": [
    "Proje 1\n",
    "Bilgisayarınızdaki tüm mp4,txt ve pdf dosyalarını os modülüyle arayın ve bunların nerede bulunduklarını ve isimlerini ayrı ayrı \"pdf_dosyalari.txt\",\"mp4_dosyaları.txt\",\"txt_dosyaları.txt\" adlı dosyalara kaydedin.\n",
    "\n"
   ]
  },
  {
   "cell_type": "code",
   "execution_count": 6,
   "metadata": {},
   "outputs": [],
   "source": [
    "import os\n",
    "\n",
    "mp4_list = list()\n",
    "pdf_list = list()\n",
    "\n",
    "for paths,folders,files in os.walk(\"c:/\"):\n",
    "    for i in files:\n",
    "        if i.endswith(\".mp4\"):\n",
    "            mp4_list.append(i)\n",
    "        elif i.endswith(\".pdf\"):\n",
    "            pdf_list.append(i)\n",
    "\n",
    "with open(\"mp4_dosyaları.txt\",\"w\",encoding=\"utf-8\") as file:\n",
    "    for i in mp4_list:\n",
    "        file.write(i+\"\\n\")\n",
    "    \n",
    "with open(\"pdf_dosyalari.txt\",\"w\",encoding=\"utf-8\") as file:\n",
    "    for i in pdf_list:\n",
    "        file.write(i+\"\\n\")"
   ]
  },
  {
   "cell_type": "markdown",
   "metadata": {},
   "source": [
    "Proje 2\n",
    "Elinizde 5 kişinin maillerinin ve isimlerinin bulunduğu bir dosya olsun. Bu dosyayı okuyarak, her bir kişiye isimleriyle beraber mail göndermeye çalışın. Dosya formatı şu şekilde olacak.\n",
    "\n",
    "                       Mustafa Murat Coşkun,coskun.m.murat@gmail.com\n",
    "                                       //\n",
    "                                       //\n",
    "                                       //\n",
    "                                       //\n"
   ]
  },
  {
   "cell_type": "code",
   "execution_count": 19,
   "metadata": {},
   "outputs": [
    {
     "name": "stdout",
     "output_type": "stream",
     "text": [
      "Mail başarıyla gönderildi....\n",
      "Mail başarıyla gönderildi....\n"
     ]
    }
   ],
   "source": [
    "import smtplib\n",
    "from email.mime.multipart import MIMEMultipart\n",
    "from email.mime.text import MIMEText\n",
    "import sys\n",
    "\n",
    "mail_listesi = dict()\n",
    "\n",
    "with open(\"mail_listesi.txt\",\"r\",encoding=\"utf-8\") as file:\n",
    "    for i in file:\n",
    "        satır = i.replace(\"\\n\",\"\").split(\",\")\n",
    "        mail_listesi[satır[0]] = satır[1]\n",
    "\n",
    "try:\n",
    "    mail = smtplib.SMTP(\"smtp.gmail.com\",587)\n",
    "    \n",
    "    mail.ehlo()\n",
    "    \n",
    "    mail.starttls()\n",
    "    \n",
    "    mail.login(\"ugurkuzey\",\"pxygvqyggernqdmr\")\n",
    "    \n",
    "    for i in mail_listesi.items():\n",
    "        mesaj = MIMEMultipart()\n",
    "        \n",
    "        mesaj[\"From\"] = \"ugurkuzey@gmail.com\"\n",
    "        \n",
    "        mesaj[\"To\"] = i[1]\n",
    "        \n",
    "        mesaj[\"Subject\"] = \"Smtp Mail Gönderme\"\n",
    "        \n",
    "        yazı = \"Merhaba {}\".format(i[0])\n",
    "        \n",
    "        mesaj_govdesi =  MIMEText(yazı,\"plain\")\n",
    "        \n",
    "        mesaj.attach(mesaj_govdesi)\n",
    "        \n",
    "        mail.sendmail(mesaj[\"From\"],mesaj[\"To\"],mesaj.as_string())  # Mailimizi gönderiyoruz.\n",
    "        \n",
    "        print(\"Mail başarıyla gönderildi....\")\n",
    "except:\n",
    "    print(\"Mail göndermesi başarısız oldu...\")\n",
    "    print(sys.exc_info()[0])\n",
    "finally:\n",
    "    mail.close()"
   ]
  },
  {
   "cell_type": "markdown",
   "metadata": {},
   "source": [
    "Proje 3\n",
    "https://www.doviz.com/ sitesinden anlık olarak doların,euronun,altının ve borsanın değerlerini öğrenin ve bunları kullanarak bir proje geliştirmeye çalışın.\n",
    "\n",
    "Not: Bu projeyi, requests ve beautifulsoup kullanarak geliştirin."
   ]
  },
  {
   "cell_type": "code",
   "execution_count": 10,
   "metadata": {},
   "outputs": [
    {
     "name": "stdout",
     "output_type": "stream",
     "text": [
      "GRAM ALTIN: 172,3983\n",
      "DOLAR: 4,0964\n",
      "EURO: 4,9301\n",
      "BİST-100: 104.282,78\n",
      "BITCOIN: $9.070\n"
     ]
    }
   ],
   "source": [
    "import requests\n",
    "from bs4 import BeautifulSoup\n",
    "\n",
    "response = requests.get(\"https://www.doviz.com/\")\n",
    "\n",
    "html = response.content\n",
    "\n",
    "soup = BeautifulSoup(html,\"html.parser\")\n",
    "\n",
    "for i,j in zip(soup.find_all(\"span\",{\"class\":\"menu-row1\"}),soup.find_all(\"span\",{\"class\":\"menu-row2\"})):\n",
    "    print(\"{}: {}\".format(i.text,j.text))"
   ]
  },
  {
   "cell_type": "code",
   "execution_count": null,
   "metadata": {},
   "outputs": [],
   "source": []
  }
 ],
 "metadata": {
  "kernelspec": {
   "display_name": "Python 3",
   "language": "python",
   "name": "python3"
  },
  "language_info": {
   "codemirror_mode": {
    "name": "ipython",
    "version": 3
   },
   "file_extension": ".py",
   "mimetype": "text/x-python",
   "name": "python",
   "nbconvert_exporter": "python",
   "pygments_lexer": "ipython3",
   "version": "3.6.4"
  }
 },
 "nbformat": 4,
 "nbformat_minor": 2
}
