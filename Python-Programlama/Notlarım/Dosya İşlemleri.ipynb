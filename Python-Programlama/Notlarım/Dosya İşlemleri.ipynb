{
 "cells": [
  {
   "cell_type": "markdown",
   "metadata": {},
   "source": [
    "Proje 1\n",
    "Kodlama egzersizimizde bir sınıfın harf notlarını hesapladığımız programı geliştirerek kalanları \"kalanlar.txt\" dosyasında ve geçenleri \"geçenler.txt\" dosyasına yazmaya çalışın.\n",
    "\n"
   ]
  },
  {
   "cell_type": "code",
   "execution_count": 5,
   "metadata": {},
   "outputs": [],
   "source": [
    "def not_hesapla(satır):\n",
    "    \n",
    "    satır = satır[:-1]\n",
    "\n",
    "    liste = satır.split(\",\")\n",
    "\n",
    "    isim = liste[0]\n",
    "\n",
    "    not1 = int(liste[1])\n",
    "\n",
    "    not2 = int(liste[2])\n",
    "\n",
    "    not3 = int(liste[3])\n",
    "\n",
    "    son_not = not1 * (3/10) + not2 * (3/10) + not3 * (4/10)\n",
    "\n",
    "    if (son_not >= 90):\n",
    "        harf = \"AA\"\n",
    "    elif (son_not >= 85):\n",
    "        harf = \"BA\"\n",
    "    elif (son_not >= 80):\n",
    "        harf = \"BB\"\n",
    "    elif (son_not >= 75):\n",
    "        harf = \"CB\"\n",
    "    elif (son_not >= 70):\n",
    "        harf = \"CC\"\n",
    "    elif (son_not >= 65):\n",
    "        harf = \"DC\"\n",
    "    elif (son_not >= 60):\n",
    "        harf = \"DD\"\n",
    "    elif (son_not >= 55):\n",
    "        harf = \"FD\"\n",
    "    else:\n",
    "        harf = \"FF\"\n",
    "\n",
    "    return [isim, harf]\n",
    "\n",
    "with open(\"dosya.txt\",\"r\",encoding= \"utf-8\") as file:\n",
    "\n",
    "    eklenecekler_listesi = []\n",
    "\n",
    "    for i in file:\n",
    "\n",
    "        eklenecekler_listesi.append(not_hesapla(i))\n",
    "    \n",
    "    geçenler = []\n",
    "    kalanlar = []\n",
    "    \n",
    "    for i in eklenecekler_listesi:\n",
    "        if i[1] == \"AA\" or i[1] == \"BA\" or i[1] == \"BB\" or i[1] == \"CB\" or i[1] == \"CC\":\n",
    "            geçenler.append(i)\n",
    "        else:\n",
    "            kalanlar.append(i)\n",
    "\n",
    "    with open(\"geçenler.txt\",\"w\",encoding=\"utf-8\") as file2:\n",
    "\n",
    "        for i in geçenler:\n",
    "            file2.write(\"{} --> {}\\n\".format(i[0],i[1]))\n",
    "    \n",
    "    with open(\"kalanlar.txt\",\"w\",encoding=\"utf-8\") as file2:\n",
    "\n",
    "        for i in kalanlar:\n",
    "            file2.write(\"{} --> {}\\n\".format(i[0],i[1]))"
   ]
  },
  {
   "cell_type": "markdown",
   "metadata": {},
   "source": [
    "Proje 2\n",
    "\"futbolcular.txt\" şeklinde bir dosya oluşturun ve içine Galatasaray,Fenerbahçe ve Beşiktaşta oynayan futbolcuları rastgele yerleştirin. Bu dosyadan herbir takımın futbolcularını ayırarak \"gs.txt\" , \"fb.txt\", \"bjk.txt\" şeklinde 3 farklı dosyaya yazın.\n",
    "\n",
    "\"futbolcular.txt\" dosyasının başlangıç hali şu şekilde olsun.\n",
    "\n",
    "                Fernando Muslera,Galatasaray\n",
    "                Atiba Hutchinson,Beşiktaş\n",
    "                Simon Kjaer,Fenerbahçe\n",
    "                           //\n",
    "                           //\n",
    "                           //\n",
    "                           //\n",
    "                           //"
   ]
  },
  {
   "cell_type": "code",
   "execution_count": 15,
   "metadata": {},
   "outputs": [],
   "source": [
    "with open(\"futbolcular.txt\",\"r\",encoding=\"utf-8\") as file:\n",
    "    gs = []\n",
    "    bjk = []\n",
    "    fb = []\n",
    "    for i in file:\n",
    "        satır = i[:-1]\n",
    "        içerik = satır.split(\",\")\n",
    "        if içerik[1] == \"Galatasaray\":\n",
    "            gs.append(içerik[0])\n",
    "        elif içerik[1] == \"Beşiktaş\":\n",
    "            bjk.append(içerik[0])\n",
    "        elif içerik[1] == \"Fenerbahçe\":\n",
    "            fb.append(içerik[0])\n",
    "    \n",
    "    with open(\"gs.txt\",\"w\",encoding=\"utf-8\") as file2:\n",
    "        file2.writelines(gs)\n",
    "    with open(\"bjk.txt\",\"w\",encoding=\"utf-8\") as file2:\n",
    "        file2.writelines(bjk)\n",
    "    with open(\"fb.txt\",\"w\",encoding=\"utf-8\") as file2:\n",
    "        file2.writelines(fb)"
   ]
  },
  {
   "cell_type": "code",
   "execution_count": null,
   "metadata": {},
   "outputs": [],
   "source": []
  }
 ],
 "metadata": {
  "kernelspec": {
   "display_name": "Python 3",
   "language": "python",
   "name": "python3"
  },
  "language_info": {
   "codemirror_mode": {
    "name": "ipython",
    "version": 3
   },
   "file_extension": ".py",
   "mimetype": "text/x-python",
   "name": "python",
   "nbconvert_exporter": "python",
   "pygments_lexer": "ipython3",
   "version": "3.6.4"
  }
 },
 "nbformat": 4,
 "nbformat_minor": 2
}
