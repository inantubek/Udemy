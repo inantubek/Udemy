{
 "cells": [
  {
   "cell_type": "markdown",
   "metadata": {},
   "source": [
    "Problem 1\n",
    "Elinizde uzunca bir string olsun.\n",
    "\n",
    "            \"ProgramlamaÖdeviİleriSeviyeVeriYapılarıveObjeleripynb\"\n",
    "\n",
    "\n",
    "Bu string içindeki harflerin frekansını (bir harfin kaç defa geçtiği) bulmaya çalışın.\n",
    "\n",
    "İpucu : Kodlama egzersizimizde buna çok benzer bir şey yapmıştık.\n",
    "\n"
   ]
  },
  {
   "cell_type": "code",
   "execution_count": 1,
   "metadata": {},
   "outputs": [
    {
     "name": "stdout",
     "output_type": "stream",
     "text": [
      "P harfi 1 defa geçiyor.\n",
      "r harfi 6 defa geçiyor.\n",
      "o harfi 1 defa geçiyor.\n",
      "g harfi 1 defa geçiyor.\n",
      "a harfi 5 defa geçiyor.\n",
      "m harfi 2 defa geçiyor.\n",
      "l harfi 4 defa geçiyor.\n",
      "Ö harfi 1 defa geçiyor.\n",
      "d harfi 1 defa geçiyor.\n",
      "e harfi 8 defa geçiyor.\n",
      "v harfi 3 defa geçiyor.\n",
      "i harfi 5 defa geçiyor.\n",
      "İ harfi 1 defa geçiyor.\n",
      "S harfi 1 defa geçiyor.\n",
      "y harfi 2 defa geçiyor.\n",
      "V harfi 1 defa geçiyor.\n",
      "Y harfi 1 defa geçiyor.\n",
      "p harfi 2 defa geçiyor.\n",
      "ı harfi 2 defa geçiyor.\n",
      "O harfi 1 defa geçiyor.\n",
      "b harfi 2 defa geçiyor.\n",
      "j harfi 1 defa geçiyor.\n",
      "n harfi 1 defa geçiyor.\n"
     ]
    }
   ],
   "source": [
    "kelime = \"ProgramlamaÖdeviİleriSeviyeVeriYapılarıveObjeleripynb\"\n",
    "\n",
    "sözlük = dict()\n",
    "\n",
    "for i in kelime:\n",
    "    if i in sözlük:\n",
    "        sözlük[i] += 1\n",
    "    else:\n",
    "        sözlük[i] = 1\n",
    "\n",
    "for harf,sayı in sözlük.items():\n",
    "    print(\"{} harfi {} defa geçiyor.\".format(harf,sayı))"
   ]
  },
  {
   "cell_type": "markdown",
   "metadata": {},
   "source": [
    "Problem 2\n",
    "\"şiir.txt\" şeklinde bir dosya oluşturun ve içinde şu satırlar yer alsın.\n",
    "\n",
    "                    Memlekete sis çökmüş bir gece \n",
    "                    Usulca yanağıma sen düşüyorsun\n",
    "                    Sabah saat dokuzu beş geçe\n",
    "                    Terk edip bizleri gidiyorsun\n",
    "                    Ayrılık bu kadar yakmamıştı içimizi\n",
    "                    Farkında mısın bilmiyorum\n",
    "                    Aldın beraberinde cumhuriyetimizi\n",
    "                    Korkunç bir veda, sararmıştı her yer\n",
    "                    Ellerini uzat tutmak istiyoruz\n",
    "                    Masmavi gözleri kaybetmiş çocuk\n",
    "                    Aldı bir sabah ruhumuzu\n",
    "                    Lakin nasıl bölmesin yokluğun uykumuzu\n",
    "\n",
    "Bu dosyanın herbir satırını okuyun. Satırların baş harflerini birbirine ekleyerek bir string oluşturun ve bu string'i ekrana yazdırın."
   ]
  },
  {
   "cell_type": "code",
   "execution_count": 5,
   "metadata": {},
   "outputs": [
    {
     "data": {
      "text/plain": [
       "'MUSTAFAKEMAL'"
      ]
     },
     "execution_count": 5,
     "metadata": {},
     "output_type": "execute_result"
    }
   ],
   "source": [
    "kelime = str()\n",
    "\n",
    "file = open(\"şiir.txt\",\"r\",encoding=\"utf-8\")\n",
    "\n",
    "for i in file:\n",
    "    kelime += i[0]\n",
    "\n",
    "kelime"
   ]
  },
  {
   "cell_type": "markdown",
   "metadata": {},
   "source": [
    "Problem 3\n",
    "Elinizde \"mailler.txt\" adında , maillerin ve bazı yazıların bulunduğu bir dosya olsun. Bu dosyanın her bir satırını okuyun ve sadece mail formatına uygun olanları ekrana yazdırın.\n",
    "\n",
    "                    coskun.m.murat@gmail.com\n",
    "                    example@xyz.com\n",
    "                    mustafa.com\n",
    "                    mustafa@gmail\n",
    "                    kerim@yahoo.com\n",
    "\n",
    "                           //\n",
    "                           //\n",
    "                           //\n",
    "\n",
    "\n",
    "İpucu: Stringlerde bulunan endswith ve find metodlarını kullanabilirsiniz."
   ]
  },
  {
   "cell_type": "code",
   "execution_count": 10,
   "metadata": {},
   "outputs": [
    {
     "name": "stdout",
     "output_type": "stream",
     "text": [
      "coskun.m.murat@gmail.com\n",
      "example@xyz.com\n",
      "kerim@yahoo.com\n"
     ]
    }
   ],
   "source": [
    "file = open(\"mailler.txt\",\"r\",encoding=\"utf-8\")\n",
    "\n",
    "for i in file:\n",
    "    i = i.strip(\"\\n\")\n",
    "    if i.find(\"@\") > -1 and i.endswith(\".com\"):\n",
    "        print(i)"
   ]
  },
  {
   "cell_type": "markdown",
   "metadata": {},
   "source": [
    "Problem 4\n",
    "Elinizde 2 tane liste bulunsun. Bu listelerden isim ve soyisimleri birleştirerek , ekrana isim ve soyisimleri isimlere göre sıralı bir şekilde yazdırmaya çalışın.\n",
    "\n",
    "        isim -----> [\"Kerim\",\"Tarık\",\"Ezgi\",\"Kemal\",\"İlkay\",\"Şükran\",\"Merve\"]\n",
    "\n",
    "        soyisim ------> [\"Yılmaz\",\"Öztürk\",\"Dağdeviren\",\"Atatürk\",\"Dikmen\",\"Kaya\",\"Polat\"]"
   ]
  },
  {
   "cell_type": "code",
   "execution_count": 13,
   "metadata": {},
   "outputs": [
    {
     "data": {
      "text/plain": [
       "['Ezgi Dağdeviren',\n",
       " 'Kemal Atatürk',\n",
       " 'Kerim Yılmaz',\n",
       " 'Merve Polat',\n",
       " 'Tarık Öztürk',\n",
       " 'İlkay Dikmen',\n",
       " 'Şükran Kaya']"
      ]
     },
     "execution_count": 13,
     "metadata": {},
     "output_type": "execute_result"
    }
   ],
   "source": [
    "isim = [\"Kerim\",\"Tarık\",\"Ezgi\",\"Kemal\",\"İlkay\",\"Şükran\",\"Merve\"]\n",
    "soyisim = [\"Yılmaz\",\"Öztürk\",\"Dağdeviren\",\"Atatürk\",\"Dikmen\",\"Kaya\",\"Polat\"]\n",
    "liste = list()\n",
    "\n",
    "for i,j in zip(isim,soyisim):\n",
    "    liste.append(\"{} {}\".format(i,j))\n",
    "    \n",
    "liste.sort()\n",
    "\n",
    "liste"
   ]
  },
  {
   "cell_type": "code",
   "execution_count": null,
   "metadata": {},
   "outputs": [],
   "source": []
  }
 ],
 "metadata": {
  "kernelspec": {
   "display_name": "Python 3",
   "language": "python",
   "name": "python3"
  },
  "language_info": {
   "codemirror_mode": {
    "name": "ipython",
    "version": 3
   },
   "file_extension": ".py",
   "mimetype": "text/x-python",
   "name": "python",
   "nbconvert_exporter": "python",
   "pygments_lexer": "ipython3",
   "version": "3.6.4"
  }
 },
 "nbformat": 4,
 "nbformat_minor": 2
}
