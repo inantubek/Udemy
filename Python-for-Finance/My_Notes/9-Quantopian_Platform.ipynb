{
 "cells": [
  {
   "cell_type": "markdown",
   "metadata": {},
   "source": [
    "# Quantopian Research Basics\n",
    "\n",
    "**Please remember that this notebook will only work on Quantopian!**"
   ]
  },
  {
   "cell_type": "code",
   "execution_count": 9,
   "metadata": {
    "collapsed": true
   },
   "outputs": [],
   "source": [
    "import numpy as np\n",
    "import pandas as pd\n",
    "import matplotlib.pyplot as plt"
   ]
  },
  {
   "cell_type": "markdown",
   "metadata": {},
   "source": [
    "## Getting Information\n",
    "\n",
    "Let's go over a few key functions:\n",
    "\n",
    "* get_pricing()\n",
    "* symbols()\n",
    "* local_csv()\n",
    "* get_backtest()\n",
    "* get_fundamentals()"
   ]
  },
  {
   "cell_type": "markdown",
   "metadata": {},
   "source": [
    "**get_pricing()**"
   ]
  },
  {
   "cell_type": "code",
   "execution_count": 2,
   "metadata": {
    "collapsed": true
   },
   "outputs": [],
   "source": [
    "mcdon = get_pricing('MCD',\n",
    "                    start_date='2017-01-01', \n",
    "                    end_date = '2017-02-01', \n",
    "                    frequency='minute')"
   ]
  },
  {
   "cell_type": "code",
   "execution_count": 3,
   "metadata": {},
   "outputs": [
    {
     "data": {
      "text/html": [
       "<div>\n",
       "<table border=\"1\" class=\"dataframe\">\n",
       "  <thead>\n",
       "    <tr style=\"text-align: right;\">\n",
       "      <th></th>\n",
       "      <th>open_price</th>\n",
       "      <th>high</th>\n",
       "      <th>low</th>\n",
       "      <th>close_price</th>\n",
       "      <th>volume</th>\n",
       "      <th>price</th>\n",
       "    </tr>\n",
       "  </thead>\n",
       "  <tbody>\n",
       "    <tr>\n",
       "      <th>2017-01-03 14:31:00+00:00</th>\n",
       "      <td>121.86</td>\n",
       "      <td>121.86</td>\n",
       "      <td>121.57</td>\n",
       "      <td>121.63</td>\n",
       "      <td>123665.0</td>\n",
       "      <td>121.63</td>\n",
       "    </tr>\n",
       "    <tr>\n",
       "      <th>2017-01-03 14:32:00+00:00</th>\n",
       "      <td>121.73</td>\n",
       "      <td>121.92</td>\n",
       "      <td>121.41</td>\n",
       "      <td>121.45</td>\n",
       "      <td>13536.0</td>\n",
       "      <td>121.45</td>\n",
       "    </tr>\n",
       "    <tr>\n",
       "      <th>2017-01-03 14:33:00+00:00</th>\n",
       "      <td>121.45</td>\n",
       "      <td>121.79</td>\n",
       "      <td>121.45</td>\n",
       "      <td>121.52</td>\n",
       "      <td>17562.0</td>\n",
       "      <td>121.52</td>\n",
       "    </tr>\n",
       "    <tr>\n",
       "      <th>2017-01-03 14:34:00+00:00</th>\n",
       "      <td>121.45</td>\n",
       "      <td>121.80</td>\n",
       "      <td>121.44</td>\n",
       "      <td>121.75</td>\n",
       "      <td>12072.0</td>\n",
       "      <td>121.75</td>\n",
       "    </tr>\n",
       "    <tr>\n",
       "      <th>2017-01-03 14:35:00+00:00</th>\n",
       "      <td>121.74</td>\n",
       "      <td>122.00</td>\n",
       "      <td>121.66</td>\n",
       "      <td>121.99</td>\n",
       "      <td>8100.0</td>\n",
       "      <td>121.99</td>\n",
       "    </tr>\n",
       "  </tbody>\n",
       "</table>\n",
       "</div>"
      ],
      "text/plain": [
       "                           open_price    high     low  close_price    volume  \\\n",
       "2017-01-03 14:31:00+00:00      121.86  121.86  121.57       121.63  123665.0   \n",
       "2017-01-03 14:32:00+00:00      121.73  121.92  121.41       121.45   13536.0   \n",
       "2017-01-03 14:33:00+00:00      121.45  121.79  121.45       121.52   17562.0   \n",
       "2017-01-03 14:34:00+00:00      121.45  121.80  121.44       121.75   12072.0   \n",
       "2017-01-03 14:35:00+00:00      121.74  122.00  121.66       121.99    8100.0   \n",
       "\n",
       "                            price  \n",
       "2017-01-03 14:31:00+00:00  121.63  \n",
       "2017-01-03 14:32:00+00:00  121.45  \n",
       "2017-01-03 14:33:00+00:00  121.52  \n",
       "2017-01-03 14:34:00+00:00  121.75  \n",
       "2017-01-03 14:35:00+00:00  121.99  "
      ]
     },
     "execution_count": 3,
     "metadata": {},
     "output_type": "execute_result"
    }
   ],
   "source": [
    "mcdon.head()"
   ]
  },
  {
   "cell_type": "code",
   "execution_count": 4,
   "metadata": {},
   "outputs": [
    {
     "name": "stdout",
     "output_type": "stream",
     "text": [
      "<class 'pandas.core.frame.DataFrame'>\n",
      "DatetimeIndex: 8190 entries, 2017-01-03 14:31:00+00:00 to 2017-02-01 21:00:00+00:00\n",
      "Data columns (total 6 columns):\n",
      "open_price     8188 non-null float64\n",
      "high           8188 non-null float64\n",
      "low            8188 non-null float64\n",
      "close_price    8188 non-null float64\n",
      "volume         8190 non-null float64\n",
      "price          8190 non-null float64\n",
      "dtypes: float64(6)\n",
      "memory usage: 447.9 KB\n"
     ]
    }
   ],
   "source": [
    "mcdon.info()"
   ]
  },
  {
   "cell_type": "code",
   "execution_count": 5,
   "metadata": {
    "collapsed": true
   },
   "outputs": [],
   "source": [
    "mcdon = get_pricing('MCD',\n",
    "                    start_date='2005-01-01', \n",
    "                    end_date = '2017-01-01', \n",
    "                    frequency='daily')"
   ]
  },
  {
   "cell_type": "code",
   "execution_count": 6,
   "metadata": {},
   "outputs": [
    {
     "data": {
      "text/html": [
       "<div>\n",
       "<table border=\"1\" class=\"dataframe\">\n",
       "  <thead>\n",
       "    <tr style=\"text-align: right;\">\n",
       "      <th></th>\n",
       "      <th>open_price</th>\n",
       "      <th>high</th>\n",
       "      <th>low</th>\n",
       "      <th>close_price</th>\n",
       "      <th>volume</th>\n",
       "      <th>price</th>\n",
       "    </tr>\n",
       "  </thead>\n",
       "  <tbody>\n",
       "    <tr>\n",
       "      <th>2005-01-03 00:00:00+00:00</th>\n",
       "      <td>22.110</td>\n",
       "      <td>22.550</td>\n",
       "      <td>22.068</td>\n",
       "      <td>22.271</td>\n",
       "      <td>4324900.0</td>\n",
       "      <td>22.271</td>\n",
       "    </tr>\n",
       "    <tr>\n",
       "      <th>2005-01-04 00:00:00+00:00</th>\n",
       "      <td>22.208</td>\n",
       "      <td>22.606</td>\n",
       "      <td>22.208</td>\n",
       "      <td>22.424</td>\n",
       "      <td>5149200.0</td>\n",
       "      <td>22.424</td>\n",
       "    </tr>\n",
       "    <tr>\n",
       "      <th>2005-01-05 00:00:00+00:00</th>\n",
       "      <td>22.446</td>\n",
       "      <td>22.578</td>\n",
       "      <td>22.278</td>\n",
       "      <td>22.285</td>\n",
       "      <td>3840200.0</td>\n",
       "      <td>22.285</td>\n",
       "    </tr>\n",
       "    <tr>\n",
       "      <th>2005-01-06 00:00:00+00:00</th>\n",
       "      <td>22.278</td>\n",
       "      <td>22.537</td>\n",
       "      <td>22.250</td>\n",
       "      <td>22.467</td>\n",
       "      <td>3502500.0</td>\n",
       "      <td>22.467</td>\n",
       "    </tr>\n",
       "    <tr>\n",
       "      <th>2005-01-07 00:00:00+00:00</th>\n",
       "      <td>22.411</td>\n",
       "      <td>22.516</td>\n",
       "      <td>22.201</td>\n",
       "      <td>22.278</td>\n",
       "      <td>3458700.0</td>\n",
       "      <td>22.278</td>\n",
       "    </tr>\n",
       "  </tbody>\n",
       "</table>\n",
       "</div>"
      ],
      "text/plain": [
       "                           open_price    high     low  close_price     volume  \\\n",
       "2005-01-03 00:00:00+00:00      22.110  22.550  22.068       22.271  4324900.0   \n",
       "2005-01-04 00:00:00+00:00      22.208  22.606  22.208       22.424  5149200.0   \n",
       "2005-01-05 00:00:00+00:00      22.446  22.578  22.278       22.285  3840200.0   \n",
       "2005-01-06 00:00:00+00:00      22.278  22.537  22.250       22.467  3502500.0   \n",
       "2005-01-07 00:00:00+00:00      22.411  22.516  22.201       22.278  3458700.0   \n",
       "\n",
       "                            price  \n",
       "2005-01-03 00:00:00+00:00  22.271  \n",
       "2005-01-04 00:00:00+00:00  22.424  \n",
       "2005-01-05 00:00:00+00:00  22.285  \n",
       "2005-01-06 00:00:00+00:00  22.467  \n",
       "2005-01-07 00:00:00+00:00  22.278  "
      ]
     },
     "execution_count": 6,
     "metadata": {},
     "output_type": "execute_result"
    }
   ],
   "source": [
    "mcdon.head()"
   ]
  },
  {
   "cell_type": "code",
   "execution_count": 7,
   "metadata": {},
   "outputs": [
    {
     "data": {
      "text/plain": [
       "<matplotlib.axes._subplots.AxesSubplot at 0x7f076ccca6d0>"
      ]
     },
     "execution_count": 7,
     "metadata": {},
     "output_type": "execute_result"
    },
    {
     "data": {
      "image/png": "[encoded data removed]",
      "text/plain": [
       "<matplotlib.figure.Figure at 0x7f0778af9d50>"
      ]
     },
     "metadata": {},
     "output_type": "display_data"
    }
   ],
   "source": [
    "mcdon['close_price'].plot()"
   ]
  },
  {
   "cell_type": "code",
   "execution_count": 8,
   "metadata": {},
   "outputs": [
    {
     "data": {
      "text/plain": [
       "<matplotlib.axes._subplots.AxesSubplot at 0x7f077da15250>"
      ]
     },
     "execution_count": 8,
     "metadata": {},
     "output_type": "execute_result"
    },
    {
     "data": {
      "image/png": "[encoded data removed]",
      "text/plain": [
       "<matplotlib.figure.Figure at 0x7f07797a4290>"
      ]
     },
     "metadata": {},
     "output_type": "display_data"
    }
   ],
   "source": [
    "mcdon['close_price'].pct_change(1).hist(bins=100,figsize=(6,4))"
   ]
  },
  {
   "cell_type": "markdown",
   "metadata": {},
   "source": [
    "**symbols()**"
   ]
  },
  {
   "cell_type": "code",
   "execution_count": 10,
   "metadata": {
    "collapsed": true
   },
   "outputs": [],
   "source": [
    "mcdon_eq_info = symbols('MCD')"
   ]
  },
  {
   "cell_type": "code",
   "execution_count": 11,
   "metadata": {},
   "outputs": [
    {
     "data": {
      "text/plain": [
       "<type 'zipline.assets._assets.Equity'>"
      ]
     },
     "execution_count": 11,
     "metadata": {},
     "output_type": "execute_result"
    }
   ],
   "source": [
    "type(mcdon_eq_info)"
   ]
  },
  {
   "cell_type": "code",
   "execution_count": 12,
   "metadata": {},
   "outputs": [
    {
     "data": {
      "text/plain": [
       "{'asset_name': u'MCDONALDS CORP',\n",
       " 'auto_close_date': Timestamp('2018-06-14 00:00:00+0000', tz='UTC'),\n",
       " 'end_date': Timestamp('2018-06-11 00:00:00+0000', tz='UTC'),\n",
       " 'exchange': u'NYSE',\n",
       " 'exchange_full': u'NEW YORK STOCK EXCHANGE',\n",
       " 'first_traded': None,\n",
       " 'sid': 4707,\n",
       " 'start_date': Timestamp('2002-01-01 00:00:00+0000', tz='UTC'),\n",
       " 'symbol': u'MCD'}"
      ]
     },
     "execution_count": 12,
     "metadata": {},
     "output_type": "execute_result"
    }
   ],
   "source": [
    "mcdon_eq_info.to_dict()"
   ]
  },
  {
   "cell_type": "markdown",
   "metadata": {},
   "source": [
    "**get_fundamentals()**"
   ]
  },
  {
   "cell_type": "code",
   "execution_count": 15,
   "metadata": {},
   "outputs": [
    {
     "ename": "ValueError",
     "evalue": "The `init_fundamentals` method has been removed. To use fundamental data in your notebooks and algorithms, use Pipeline.\nSee: https://www.quantopian.com/help#fundamental-data",
     "output_type": "error",
     "traceback": [
      "\u001b[0;31m\u001b[0m",
      "\u001b[0;31mValueError\u001b[0mTraceback (most recent call last)",
      "\u001b[0;32m<ipython-input-15-74c0cb6ff0af>\u001b[0m in \u001b[0;36m<module>\u001b[0;34m()\u001b[0m\n\u001b[0;32m----> 1\u001b[0;31m \u001b[0mfundamentals\u001b[0m \u001b[0;34m=\u001b[0m \u001b[0minit_fundamentals\u001b[0m\u001b[0;34m(\u001b[0m\u001b[0;34m)\u001b[0m\u001b[0;34m\u001b[0m\u001b[0m\n\u001b[0m",
      "\u001b[0;32m/build/src/qexec_repo/qexec/research/api.py\u001b[0m in \u001b[0;36minit_fundamentals\u001b[0;34m()\u001b[0m\n\u001b[1;32m     58\u001b[0m \u001b[0;32mdef\u001b[0m \u001b[0minit_fundamentals\u001b[0m\u001b[0;34m(\u001b[0m\u001b[0;34m)\u001b[0m\u001b[0;34m:\u001b[0m\u001b[0;34m\u001b[0m\u001b[0m\n\u001b[1;32m     59\u001b[0m     raise ValueError(\n\u001b[0;32m---> 60\u001b[0;31m         \u001b[0;34m'The `init_fundamentals` method has been removed. To use fundamental'\u001b[0m\u001b[0;34m\u001b[0m\u001b[0m\n\u001b[0m\u001b[1;32m     61\u001b[0m         \u001b[0;34m' data in your notebooks and algorithms, use Pipeline.\\n'\u001b[0m\u001b[0;34m\u001b[0m\u001b[0m\n\u001b[1;32m     62\u001b[0m         \u001b[0;34m'See: https://www.quantopian.com/help#fundamental-data'\u001b[0m\u001b[0;34m,\u001b[0m\u001b[0;34m\u001b[0m\u001b[0m\n",
      "\u001b[0;31mValueError\u001b[0m: The `init_fundamentals` method has been removed. To use fundamental data in your notebooks and algorithms, use Pipeline.\nSee: https://www.quantopian.com/help#fundamental-data"
     ]
    }
   ],
   "source": [
    "fundamentals = init_fundamentals()"
   ]
  },
  {
   "cell_type": "code",
   "execution_count": null,
   "metadata": {
    "collapsed": true
   },
   "outputs": [],
   "source": [
    "my_funds = get_fundamentals(my_query,'2017-01-01')"
   ]
  },
  {
   "cell_type": "code",
   "execution_count": null,
   "metadata": {
    "collapsed": true
   },
   "outputs": [],
   "source": [
    "my_funds.info()"
   ]
  },
  {
   "cell_type": "code",
   "execution_count": null,
   "metadata": {
    "collapsed": true
   },
   "outputs": [],
   "source": [
    "my_funds"
   ]
  },
  {
   "cell_type": "code",
   "execution_count": null,
   "metadata": {
    "collapsed": true
   },
   "outputs": [],
   "source": [
    "big_companies = (query(fundamentals.valuation.market_cap).\n",
    "                 filter(fundamentals.valuation.market_cap > 500000000000) )"
   ]
  },
  {
   "cell_type": "code",
   "execution_count": null,
   "metadata": {
    "collapsed": true
   },
   "outputs": [],
   "source": [
    "my_big_funds = get_fundamentals(big_companies,'2017-07-19')"
   ]
  },
  {
   "cell_type": "code",
   "execution_count": null,
   "metadata": {
    "collapsed": true
   },
   "outputs": [],
   "source": [
    "my_big_funds"
   ]
  },
  {
   "cell_type": "markdown",
   "metadata": {},
   "source": [
    "# Basic Algorithm Methods"
   ]
  },
  {
   "cell_type": "markdown",
   "metadata": {},
   "source": [
    "**initialize()**\n",
    "\n",
    "initialize() is called exactly once when our algorithm starts and requires context as input.\n",
    "\n",
    "context is an augmented Python dictionary used for maintaining state during our backtest or live trading, and can be referenced in different parts of our algorithm. context should be used instead of global variables in the algorithm. Properties can be accessed using dot notation (context.some_property).\n",
    "\n",
    "** handle_data() **\n",
    "\n",
    "handle_data() is called once at the end of each minute and requires context and data as input. context is a reference to the same dictionary in initialize() and data is an object that stores several API functions."
   ]
  },
  {
   "cell_type": "markdown",
   "metadata": {},
   "source": [
    "## Our Tech Stock Optimized Portfolio"
   ]
  },
  {
   "cell_type": "code",
   "execution_count": null,
   "metadata": {
    "collapsed": true
   },
   "outputs": [],
   "source": [
    "def initialize(context):\n",
    "    # Reference to Tech Stocks\n",
    "    context.aapl = sid(24)\n",
    "    context.csco = sid(1900)\n",
    "    context.amzn = sid(16841)\n",
    "\n",
    "def handle_data(context, data):\n",
    "    # Position our portfolio optimization!\n",
    "    order_target_percent(context.aapl, .27)\n",
    "    order_target_percent(context.csco, .20)\n",
    "    order_target_percent(context.amzn, .53)"
   ]
  },
  {
   "cell_type": "markdown",
   "metadata": {},
   "source": [
    "### Grabbing Current Data"
   ]
  },
  {
   "cell_type": "markdown",
   "metadata": {},
   "source": [
    "**data.current()**\n",
    "\n",
    "data.current() can be used to retrieve the most recent value of a given field(s) for a given asset(s). data.current() requires two arguments: the asset or list of assets, and the field or list of fields being queried. Possible fields include 'price', 'open', 'high', 'low', 'close', and 'volume'. The output type will depend on the input types"
   ]
  },
  {
   "cell_type": "code",
   "execution_count": null,
   "metadata": {
    "collapsed": true
   },
   "outputs": [],
   "source": [
    "def initialize(context):\n",
    "    # Reference to Tech Stocks\n",
    "    context.techies = [sid(16841),sid(24),sid(1900)]\n",
    "\n",
    "def handle_data(context, data):\n",
    "    # Position our portfolio optimization!\n",
    "    tech_close = data.current(context.techies,'close')\n",
    "    print(tech_close) # Closing Prices\n",
    "    print(type(tech_close)) # Pandas Series"
   ]
  },
  {
   "cell_type": "markdown",
   "metadata": {},
   "source": [
    "**data.is_stale()**"
   ]
  },
  {
   "cell_type": "code",
   "execution_count": null,
   "metadata": {
    "collapsed": true
   },
   "outputs": [],
   "source": [
    "def initialize(context):\n",
    "    # Reference to Tech Stocks\n",
    "    context.techies = [sid(16841),sid(24),sid(1900)]\n",
    "\n",
    "def handle_data(context, data):\n",
    "    print(data.is_stale(sid(24)))"
   ]
  },
  {
   "cell_type": "markdown",
   "metadata": {},
   "source": [
    "### Checking for trading"
   ]
  },
  {
   "cell_type": "markdown",
   "metadata": {},
   "source": [
    "**data.can_trade()**\n",
    "\n",
    "data.can_trade() is used to determine if an asset(s) is currently listed on a supported exchange and can be ordered. If data.can_trade() returns True for a particular asset in a given minute bar, we are able to place an order for that asset in that minute. This is an important guard to have in our algorithm if we hand-pick the securities that we want to trade. It requires a single argument: an asset or a list of assets."
   ]
  },
  {
   "cell_type": "code",
   "execution_count": null,
   "metadata": {
    "collapsed": true
   },
   "outputs": [],
   "source": [
    "def initialize(context):\n",
    "    # Reference to amazn\n",
    "    context.amzn = sid(16841)\n",
    "    \n",
    "def handle_data(context, data):\n",
    "    # This insures we don't hit an exception!\n",
    "    if data.can_trade(sid(16841)):\n",
    "        order_target_percent(context.amzn, 1.0)"
   ]
  },
  {
   "cell_type": "markdown",
   "metadata": {},
   "source": [
    "## Checking Historical Data"
   ]
  },
  {
   "cell_type": "code",
   "execution_count": null,
   "metadata": {
    "collapsed": true
   },
   "outputs": [],
   "source": [
    "def initialize(context):\n",
    "    context.assets = [sid(24), sid(1900), sid(16841)]\n",
    "\n",
    "def before_trading_start(context,data):\n",
    "    price_history = data.history(context.assets,fields=\"price\", bar_count=5, frequency=\"1d\")\n",
    "    print(price_history)"
   ]
  },
  {
   "cell_type": "markdown",
   "metadata": {},
   "source": [
    "## Scheduling"
   ]
  },
  {
   "cell_type": "code",
   "execution_count": null,
   "metadata": {
    "collapsed": true
   },
   "outputs": [],
   "source": [
    "def initialize(context):\n",
    "    context.appl = sid(49051)\n",
    "\n",
    "    # At ebginning of trading week\n",
    "    # At Market Open, set 10% of portfolio to be apple\n",
    "    schedule_function(open_positions, date_rules.week_start(), time_rules.market_open())\n",
    "    \n",
    "    # At end of trading week\n",
    "    # 30 min before market close, dump all apple stock.\n",
    "    schedule_function(close_positions, date_rules.week_end(), time_rules.market_close(minutes=30))\n",
    "\n",
    "def open_positions(context, data):\n",
    "    order_target_percent(context.appl, 0.10)\n",
    "\n",
    "def close_positions(context, data):\n",
    "    order_target_percent(context.appl, 0)"
   ]
  },
  {
   "cell_type": "markdown",
   "metadata": {},
   "source": [
    "## Portfolio Information"
   ]
  },
  {
   "cell_type": "code",
   "execution_count": null,
   "metadata": {
    "collapsed": true
   },
   "outputs": [],
   "source": [
    "def initialize(context):\n",
    "    context.amzn = sid(16841)\n",
    "    context.ibm = sid(3766)\n",
    "\n",
    "    schedule_function(rebalance, date_rules.every_day(), time_rules.market_open())\n",
    "    schedule_function(record_vars, date_rules.every_day(), time_rules.market_close())\n",
    "\n",
    "def rebalance(context, data):\n",
    "    # Half of our portfolio long on amazn\n",
    "    order_target_percent(context.amzn, 0.50)\n",
    "    # Half is shorting IBM\n",
    "    order_target_percent(context.ibm, -0.50)\n",
    "\n",
    "def record_vars(context, data):\n",
    "    # Plot the counts\n",
    "    record(amzn_close=data.current(context.amzn,'close'))\n",
    "    record(ibm_close=data.current(context.ibm,'close'))"
   ]
  },
  {
   "cell_type": "markdown",
   "metadata": {},
   "source": [
    "## Slippage and Commision"
   ]
  },
  {
   "cell_type": "markdown",
   "metadata": {},
   "source": [
    "**Slippage**"
   ]
  },
  {
   "cell_type": "code",
   "execution_count": null,
   "metadata": {
    "collapsed": true
   },
   "outputs": [],
   "source": [
    "set_slippage(slippage.VolumeShareSlippage(volume_limit=0.025, price_impact=0.1))"
   ]
  },
  {
   "cell_type": "markdown",
   "metadata": {},
   "source": [
    "**Commision**"
   ]
  },
  {
   "cell_type": "code",
   "execution_count": null,
   "metadata": {
    "collapsed": true
   },
   "outputs": [],
   "source": [
    "set_commission(commission.PerShare(cost=0.0075, min_trade_cost=1))"
   ]
  },
  {
   "cell_type": "markdown",
   "metadata": {},
   "source": [
    "# First Trading Algorithm"
   ]
  },
  {
   "cell_type": "markdown",
   "metadata": {},
   "source": [
    "## Pairs Trading"
   ]
  },
  {
   "cell_type": "code",
   "execution_count": null,
   "metadata": {
    "collapsed": true
   },
   "outputs": [],
   "source": [
    "import numpy as np\n",
    "import pandas as pd\n",
    "import matplotlib.pyplot as plt"
   ]
  },
  {
   "cell_type": "code",
   "execution_count": 17,
   "metadata": {
    "collapsed": true
   },
   "outputs": [],
   "source": [
    "start = \"2015-01-01\"\n",
    "end = \"2017-01-01\"\n",
    "\n",
    "united = get_pricing(\"UAL\", start, end)\n",
    "american = get_pricing(\"AAL\", start, end)"
   ]
  },
  {
   "cell_type": "code",
   "execution_count": 18,
   "metadata": {},
   "outputs": [
    {
     "data": {
      "text/html": [
       "<div>\n",
       "<table border=\"1\" class=\"dataframe\">\n",
       "  <thead>\n",
       "    <tr style=\"text-align: right;\">\n",
       "      <th></th>\n",
       "      <th>open_price</th>\n",
       "      <th>high</th>\n",
       "      <th>low</th>\n",
       "      <th>close_price</th>\n",
       "      <th>volume</th>\n",
       "      <th>price</th>\n",
       "    </tr>\n",
       "  </thead>\n",
       "  <tbody>\n",
       "    <tr>\n",
       "      <th>2015-01-02 00:00:00+00:00</th>\n",
       "      <td>67.740</td>\n",
       "      <td>68.08</td>\n",
       "      <td>65.71</td>\n",
       "      <td>66.380</td>\n",
       "      <td>5678309.0</td>\n",
       "      <td>66.380</td>\n",
       "    </tr>\n",
       "    <tr>\n",
       "      <th>2015-01-05 00:00:00+00:00</th>\n",
       "      <td>66.870</td>\n",
       "      <td>67.35</td>\n",
       "      <td>65.50</td>\n",
       "      <td>66.140</td>\n",
       "      <td>4263592.0</td>\n",
       "      <td>66.140</td>\n",
       "    </tr>\n",
       "    <tr>\n",
       "      <th>2015-01-06 00:00:00+00:00</th>\n",
       "      <td>66.630</td>\n",
       "      <td>67.00</td>\n",
       "      <td>63.11</td>\n",
       "      <td>64.599</td>\n",
       "      <td>5422328.0</td>\n",
       "      <td>64.599</td>\n",
       "    </tr>\n",
       "    <tr>\n",
       "      <th>2015-01-07 00:00:00+00:00</th>\n",
       "      <td>64.959</td>\n",
       "      <td>66.11</td>\n",
       "      <td>64.00</td>\n",
       "      <td>65.530</td>\n",
       "      <td>4230901.0</td>\n",
       "      <td>65.530</td>\n",
       "    </tr>\n",
       "    <tr>\n",
       "      <th>2015-01-08 00:00:00+00:00</th>\n",
       "      <td>65.700</td>\n",
       "      <td>67.52</td>\n",
       "      <td>65.41</td>\n",
       "      <td>66.540</td>\n",
       "      <td>5515839.0</td>\n",
       "      <td>66.540</td>\n",
       "    </tr>\n",
       "  </tbody>\n",
       "</table>\n",
       "</div>"
      ],
      "text/plain": [
       "                           open_price   high    low  close_price     volume  \\\n",
       "2015-01-02 00:00:00+00:00      67.740  68.08  65.71       66.380  5678309.0   \n",
       "2015-01-05 00:00:00+00:00      66.870  67.35  65.50       66.140  4263592.0   \n",
       "2015-01-06 00:00:00+00:00      66.630  67.00  63.11       64.599  5422328.0   \n",
       "2015-01-07 00:00:00+00:00      64.959  66.11  64.00       65.530  4230901.0   \n",
       "2015-01-08 00:00:00+00:00      65.700  67.52  65.41       66.540  5515839.0   \n",
       "\n",
       "                            price  \n",
       "2015-01-02 00:00:00+00:00  66.380  \n",
       "2015-01-05 00:00:00+00:00  66.140  \n",
       "2015-01-06 00:00:00+00:00  64.599  \n",
       "2015-01-07 00:00:00+00:00  65.530  \n",
       "2015-01-08 00:00:00+00:00  66.540  "
      ]
     },
     "execution_count": 18,
     "metadata": {},
     "output_type": "execute_result"
    }
   ],
   "source": [
    "united.head()"
   ]
  },
  {
   "cell_type": "code",
   "execution_count": 19,
   "metadata": {},
   "outputs": [
    {
     "data": {
      "text/html": [
       "<div>\n",
       "<table border=\"1\" class=\"dataframe\">\n",
       "  <thead>\n",
       "    <tr style=\"text-align: right;\">\n",
       "      <th></th>\n",
       "      <th>open_price</th>\n",
       "      <th>high</th>\n",
       "      <th>low</th>\n",
       "      <th>close_price</th>\n",
       "      <th>volume</th>\n",
       "      <th>price</th>\n",
       "    </tr>\n",
       "  </thead>\n",
       "  <tbody>\n",
       "    <tr>\n",
       "      <th>2015-01-02 00:00:00+00:00</th>\n",
       "      <td>53.222</td>\n",
       "      <td>53.536</td>\n",
       "      <td>52.036</td>\n",
       "      <td>52.859</td>\n",
       "      <td>9507330.0</td>\n",
       "      <td>52.859</td>\n",
       "    </tr>\n",
       "    <tr>\n",
       "      <th>2015-01-05 00:00:00+00:00</th>\n",
       "      <td>53.310</td>\n",
       "      <td>53.477</td>\n",
       "      <td>52.301</td>\n",
       "      <td>52.830</td>\n",
       "      <td>10401276.0</td>\n",
       "      <td>52.830</td>\n",
       "    </tr>\n",
       "    <tr>\n",
       "      <th>2015-01-06 00:00:00+00:00</th>\n",
       "      <td>53.212</td>\n",
       "      <td>53.369</td>\n",
       "      <td>51.114</td>\n",
       "      <td>52.006</td>\n",
       "      <td>12491282.0</td>\n",
       "      <td>52.006</td>\n",
       "    </tr>\n",
       "    <tr>\n",
       "      <th>2015-01-07 00:00:00+00:00</th>\n",
       "      <td>52.340</td>\n",
       "      <td>52.605</td>\n",
       "      <td>51.104</td>\n",
       "      <td>51.967</td>\n",
       "      <td>9316925.0</td>\n",
       "      <td>51.967</td>\n",
       "    </tr>\n",
       "    <tr>\n",
       "      <th>2015-01-08 00:00:00+00:00</th>\n",
       "      <td>52.438</td>\n",
       "      <td>53.222</td>\n",
       "      <td>52.212</td>\n",
       "      <td>52.614</td>\n",
       "      <td>8802391.0</td>\n",
       "      <td>52.614</td>\n",
       "    </tr>\n",
       "  </tbody>\n",
       "</table>\n",
       "</div>"
      ],
      "text/plain": [
       "                           open_price    high     low  close_price  \\\n",
       "2015-01-02 00:00:00+00:00      53.222  53.536  52.036       52.859   \n",
       "2015-01-05 00:00:00+00:00      53.310  53.477  52.301       52.830   \n",
       "2015-01-06 00:00:00+00:00      53.212  53.369  51.114       52.006   \n",
       "2015-01-07 00:00:00+00:00      52.340  52.605  51.104       51.967   \n",
       "2015-01-08 00:00:00+00:00      52.438  53.222  52.212       52.614   \n",
       "\n",
       "                               volume   price  \n",
       "2015-01-02 00:00:00+00:00   9507330.0  52.859  \n",
       "2015-01-05 00:00:00+00:00  10401276.0  52.830  \n",
       "2015-01-06 00:00:00+00:00  12491282.0  52.006  \n",
       "2015-01-07 00:00:00+00:00   9316925.0  51.967  \n",
       "2015-01-08 00:00:00+00:00   8802391.0  52.614  "
      ]
     },
     "execution_count": 19,
     "metadata": {},
     "output_type": "execute_result"
    }
   ],
   "source": [
    "american.head()"
   ]
  },
  {
   "cell_type": "code",
   "execution_count": 20,
   "metadata": {},
   "outputs": [
    {
     "data": {
      "text/plain": [
       "<matplotlib.legend.Legend at 0x7f0759c43210>"
      ]
     },
     "execution_count": 20,
     "metadata": {},
     "output_type": "execute_result"
    },
    {
     "data": {
      "image/png": "[encoded data removed]",
      "text/plain": [
       "<matplotlib.figure.Figure at 0x7f0759a2cf90>"
      ]
     },
     "metadata": {},
     "output_type": "display_data"
    }
   ],
   "source": [
    "american[\"close_price\"].plot(label=\"American\", figsize=(12,8))\n",
    "united[\"close_price\"].plot(label=\"United\")\n",
    "plt.legend()"
   ]
  },
  {
   "cell_type": "markdown",
   "metadata": {},
   "source": [
    "## Correlation and Spread"
   ]
  },
  {
   "cell_type": "code",
   "execution_count": 21,
   "metadata": {},
   "outputs": [
    {
     "data": {
      "text/plain": [
       "array([[ 1.        ,  0.92333958],\n",
       "       [ 0.92333958,  1.        ]])"
      ]
     },
     "execution_count": 21,
     "metadata": {},
     "output_type": "execute_result"
    }
   ],
   "source": [
    "np.corrcoef(american[\"close_price\"], united[\"close_price\"])"
   ]
  },
  {
   "cell_type": "code",
   "execution_count": 22,
   "metadata": {},
   "outputs": [
    {
     "data": {
      "text/plain": [
       "<matplotlib.lines.Line2D at 0x7f075a04de10>"
      ]
     },
     "execution_count": 22,
     "metadata": {},
     "output_type": "execute_result"
    },
    {
     "data": {
      "image/png": "[encoded data removed]",
      "text/plain": [
       "<matplotlib.figure.Figure at 0x7f075a200f90>"
      ]
     },
     "metadata": {},
     "output_type": "display_data"
    }
   ],
   "source": [
    "spread = american[\"close_price\"] - united[\"close_price\"]\n",
    "spread.plot(label=\"Spread\", figsize=(12,8))\n",
    "plt.axhline(spread.mean(),c='r')"
   ]
  },
  {
   "cell_type": "markdown",
   "metadata": {},
   "source": [
    "## Normalizing with a z-score"
   ]
  },
  {
   "cell_type": "code",
   "execution_count": 23,
   "metadata": {
    "collapsed": true
   },
   "outputs": [],
   "source": [
    "def zscore(stocks):\n",
    "    return (stocks - stocks.mean()) / np.std(stocks)"
   ]
  },
  {
   "cell_type": "code",
   "execution_count": 24,
   "metadata": {},
   "outputs": [
    {
     "data": {
      "image/png": "[encoded data removed]",
      "text/plain": [
       "<matplotlib.figure.Figure at 0x7f07792bacd0>"
      ]
     },
     "metadata": {},
     "output_type": "display_data"
    }
   ],
   "source": [
    "zscore(spread).plot(figsize=(14,8))\n",
    "plt.axhline(zscore(spread).mean(), color='black')\n",
    "plt.axhline(1.0, c='g', ls='--')\n",
    "plt.axhline(-1.0, c='r', ls='--')\n",
    "plt.legend(['Spread z-score', 'Mean', '+1', '-1']);"
   ]
  },
  {
   "cell_type": "markdown",
   "metadata": {},
   "source": [
    "## Rolling Z-Score"
   ]
  },
  {
   "cell_type": "code",
   "execution_count": 25,
   "metadata": {},
   "outputs": [
    {
     "data": {
      "image/png": "[encoded data removed]",
      "text/plain": [
       "<matplotlib.figure.Figure at 0x7f07575aa710>"
      ]
     },
     "metadata": {},
     "output_type": "display_data"
    }
   ],
   "source": [
    "#1 day moving average of the price spread\n",
    "spread_mavg1 = spread.rolling(1).mean()\n",
    "\n",
    "# 30 day moving average of the price spread\n",
    "spread_mavg30 = spread.rolling(30).mean()\n",
    "\n",
    "# Take a rolling 30 day standard deviation\n",
    "std_30 = spread.rolling(30).std()\n",
    "\n",
    "# Compute the z score for each day\n",
    "zscore_30_1 = (spread_mavg1 - spread_mavg30)/std_30\n",
    "\n",
    "zscore_30_1.plot(figsize=(12,8),label='Rolling 30 day Z score')\n",
    "plt.axhline(0, color='black')\n",
    "plt.axhline(1.0, color='red', linestyle='--');"
   ]
  },
  {
   "cell_type": "markdown",
   "metadata": {},
   "source": [
    "## Implementation of Strategy"
   ]
  },
  {
   "cell_type": "code",
   "execution_count": null,
   "metadata": {
    "collapsed": true
   },
   "outputs": [],
   "source": [
    "# Quantopian Algorithms\n",
    "import numpy as np\n",
    "\n",
    "# initialize - schedule function\n",
    "def initialize(context):\n",
    "    \"\"\"\n",
    "    Called once at the start of the algorithm.\n",
    "    \"\"\"\n",
    "    # Every day we check the pair status\n",
    "    schedule_function(check_pairs, date_rules.every_day(), time_rules.market_close(minutes=60))\n",
    "    \n",
    "    # Our Two Airlines\n",
    "    context.aa = sid(45971) #aal\n",
    "    context.ual = sid(28051) #ual   \n",
    "    \n",
    "    # Flags to tell us if we're currently in a trade\n",
    "    context.long_on_spread = False\n",
    "    context.shorting_spread = False\n",
    "\n",
    "# check_pairs\n",
    "def check_pairs(context, data):\n",
    "    # For convenience\n",
    "    aa = context.aa\n",
    "    ual = context.ual\n",
    "    \n",
    "    # Get pricing history\n",
    "    prices = data.history([aa, ual], \"price\", 30, '1d')\n",
    " \n",
    "    # Need to use .iloc[-1:] to get dataframe instead of series\n",
    "    short_prices = prices.iloc[-1:]\n",
    "    \n",
    "    # SPREAD\n",
    "    \n",
    "    # Get the long 30 day mavg\n",
    "    mavg_30 = np.mean(prices[aa] - prices[ual])\n",
    "    \n",
    "    # Get the std of the 30 day long window\n",
    "    std_30 = np.std(prices[aa] - prices[ual])\n",
    "    \n",
    "    # Get the shorter span 1 day mavg\n",
    "    mavg_1 = np.mean(short_prices[aa] - short_prices[ual])\n",
    "    \n",
    "    # Compute z-score\n",
    "    if std_30 > 0:\n",
    "        zscore = (mavg_1 - mavg_30)/std_30\n",
    "    \n",
    "        # Our two entry cases\n",
    "        if zscore > 0.5 and not context.shorting_spread:\n",
    "            # spread = aa - ual\n",
    "            order_target_percent(aa, -0.5) # short top\n",
    "            order_target_percent(ual, 0.5) # long bottom\n",
    "            context.shorting_spread = True\n",
    "            context.long_on_spread = False\n",
    "            \n",
    "        elif zscore < -0.5 and not context.long_on_spread:\n",
    "            # spread = aa - ual\n",
    "            order_target_percent(aa, 0.5) # long top\n",
    "            order_target_percent(ual, -0.5) # short bottom\n",
    "            context.shorting_spread = False\n",
    "            context.long_on_spread = True\n",
    "            \n",
    "        # Our exit case\n",
    "        elif abs(zscore) < 0.1:\n",
    "            order_target_percent(aa, 0)\n",
    "            order_target_percent(ual, 0)\n",
    "            context.shorting_spread = False\n",
    "            context.long_on_spread = False\n",
    "        \n",
    "        record('zscore', zscore)"
   ]
  },
  {
   "cell_type": "markdown",
   "metadata": {},
   "source": [
    "# Trading Algorithm Exercise Solutions\n",
    "\n",
    "** This is an extremely open exercise and there are lots of ways to do it! Please feel free to just skip to the solutions to treat it as an example code along. If you attempt the exercise, do not expect the example solution to exactly match up to your solution. You may have performed much better (or much worse)! **\n",
    "\n",
    "## Your Task\n",
    "\n",
    "Your manager wants to see if [Bollinger Bands](https://en.wikipedia.org/wiki/Bollinger_Bands) are still a meaningful technical analysis strategy on their own. For this exercise, you will be testing *Johnson and Johnson* sid(4151).Specifically, your manager has decided he wants set 100% of the portfolio to go long when the stock price is below 2 times the 20 day rolling standard deviation subtracted from the 20 day moving average, and go 100% short of the portfolio on that stock when the current price is above 2 times the 20 day rolling standard deviation added on to the 20 day moving average. The check for this signal event should only happen once per day. This is probably a very unreasonable strategy, but the main point of this is to exercise your ability to write out backtest algorithms with Quantopian.\n",
    "\n",
    "## Time Frame\n",
    "\n",
    "You should use the following time frame for this exercise (so you can at least have a reasonable comparison to the solutions, but feel free to play around with this!)\n",
    "\n",
    "#### BACKTEST START:  Jul-20-2014\n",
    "#### BACKTEST END: Jul-20-2017"
   ]
  },
  {
   "cell_type": "code",
   "execution_count": null,
   "metadata": {
    "collapsed": true
   },
   "outputs": [],
   "source": [
    "# Setup our variables\n",
    "def initialize(context):\n",
    "    context.jj = sid(4151)\n",
    "\n",
    "    schedule_function(check_bands,date_rules.every_day())\n",
    "        \n",
    "def check_bands(context, data):\n",
    "    \n",
    "    cur_price = data.current(context.jj,'price')\n",
    "    \n",
    "    # Load historical data for the stocks\n",
    "    prices = data.history(context.jj,'price', 20 , '1d')\n",
    "    \n",
    "    avg = prices.mean()\n",
    "    std = prices.std()\n",
    "    lower_band = avg - 2*std\n",
    "    upper_band = avg + 2*std\n",
    "    \n",
    "    if cur_price <= lower_band:\n",
    "        order_target_percent(context.jj, 1.0)\n",
    "        print('Buying')\n",
    "        print('Current price is: ' + str(cur_price))\n",
    "        print(\"Lower band is: \"+str(lower_band))\n",
    "        \n",
    "        \n",
    "    elif cur_price >= upper_band:\n",
    "        order_target_percent(context.jj, -1.0)\n",
    "        print('Shorting')\n",
    "        print('Current price is: ' + str(cur_price))\n",
    "        print(\"Upper band is: \"+str(upper_band))\n",
    "    else:\n",
    "        pass\n",
    "        \n",
    "    record(upper=upper_band,\n",
    "           lower=lower_band,\n",
    "           mvag_20=avg,\n",
    "           price=cur_price)"
   ]
  },
  {
   "cell_type": "markdown",
   "metadata": {},
   "source": [
    "# Pipeline"
   ]
  },
  {
   "cell_type": "markdown",
   "metadata": {},
   "source": [
    "## Classifiers"
   ]
  },
  {
   "cell_type": "code",
   "execution_count": 26,
   "metadata": {
    "collapsed": true
   },
   "outputs": [],
   "source": [
    "from quantopian.pipeline import Pipeline"
   ]
  },
  {
   "cell_type": "code",
   "execution_count": 27,
   "metadata": {
    "collapsed": true
   },
   "outputs": [],
   "source": [
    "def make_pipeline():\n",
    "    return Pipeline()"
   ]
  },
  {
   "cell_type": "code",
   "execution_count": 28,
   "metadata": {
    "collapsed": true
   },
   "outputs": [],
   "source": [
    "pipe = make_pipeline()"
   ]
  },
  {
   "cell_type": "code",
   "execution_count": 29,
   "metadata": {
    "collapsed": true
   },
   "outputs": [],
   "source": [
    "from quantopian.research import run_pipeline"
   ]
  },
  {
   "cell_type": "code",
   "execution_count": 39,
   "metadata": {
    "collapsed": true
   },
   "outputs": [],
   "source": [
    "result = run_pipeline(pipe,'2017-01-03','2017-01-03')"
   ]
  },
  {
   "cell_type": "code",
   "execution_count": 31,
   "metadata": {},
   "outputs": [
    {
     "name": "stdout",
     "output_type": "stream",
     "text": [
      "<class 'pandas.core.frame.DataFrame'>\n",
      "MultiIndex: 8347 entries, (2017-01-03 00:00:00+00:00, Equity(2 [ARNC])) to (2017-01-03 00:00:00+00:00, Equity(50569 [OUSM]))\n",
      "Empty DataFrame"
     ]
    }
   ],
   "source": [
    "result.info()"
   ]
  },
  {
   "cell_type": "code",
   "execution_count": 32,
   "metadata": {},
   "outputs": [
    {
     "data": {
      "text/plain": [
       "Index([], dtype='object')"
      ]
     },
     "execution_count": 32,
     "metadata": {},
     "output_type": "execute_result"
    }
   ],
   "source": [
    "result.columns"
   ]
  },
  {
   "cell_type": "code",
   "execution_count": 33,
   "metadata": {},
   "outputs": [
    {
     "data": {
      "text/html": [
       "<div>\n",
       "<table border=\"1\" class=\"dataframe\">\n",
       "  <thead>\n",
       "    <tr style=\"text-align: right;\">\n",
       "      <th></th>\n",
       "      <th></th>\n",
       "    </tr>\n",
       "  </thead>\n",
       "  <tbody>\n",
       "    <tr>\n",
       "      <th rowspan=\"61\" valign=\"top\">2017-01-03 00:00:00+00:00</th>\n",
       "      <th>Equity(2 [ARNC])</th>\n",
       "    </tr>\n",
       "    <tr>\n",
       "      <th>Equity(21 [AAME])</th>\n",
       "    </tr>\n",
       "    <tr>\n",
       "      <th>Equity(24 [AAPL])</th>\n",
       "    </tr>\n",
       "    <tr>\n",
       "      <th>Equity(25 [ARNC_PR])</th>\n",
       "    </tr>\n",
       "    <tr>\n",
       "      <th>Equity(31 [ABAX])</th>\n",
       "    </tr>\n",
       "    <tr>\n",
       "      <th>Equity(39 [DDC])</th>\n",
       "    </tr>\n",
       "    <tr>\n",
       "      <th>Equity(41 [ARCB])</th>\n",
       "    </tr>\n",
       "    <tr>\n",
       "      <th>Equity(52 [ABM])</th>\n",
       "    </tr>\n",
       "    <tr>\n",
       "      <th>Equity(53 [ABMD])</th>\n",
       "    </tr>\n",
       "    <tr>\n",
       "      <th>Equity(62 [ABT])</th>\n",
       "    </tr>\n",
       "    <tr>\n",
       "      <th>Equity(64 [ABX])</th>\n",
       "    </tr>\n",
       "    <tr>\n",
       "      <th>Equity(66 [AB])</th>\n",
       "    </tr>\n",
       "    <tr>\n",
       "      <th>Equity(67 [ADSK])</th>\n",
       "    </tr>\n",
       "    <tr>\n",
       "      <th>Equity(69 [ACAT])</th>\n",
       "    </tr>\n",
       "    <tr>\n",
       "      <th>Equity(70 [VBF])</th>\n",
       "    </tr>\n",
       "    <tr>\n",
       "      <th>Equity(76 [TAP])</th>\n",
       "    </tr>\n",
       "    <tr>\n",
       "      <th>Equity(84 [ACET])</th>\n",
       "    </tr>\n",
       "    <tr>\n",
       "      <th>Equity(100 [IEP])</th>\n",
       "    </tr>\n",
       "    <tr>\n",
       "      <th>Equity(106 [ACU])</th>\n",
       "    </tr>\n",
       "    <tr>\n",
       "      <th>Equity(110 [ACXM])</th>\n",
       "    </tr>\n",
       "    <tr>\n",
       "      <th>Equity(112 [ACY])</th>\n",
       "    </tr>\n",
       "    <tr>\n",
       "      <th>Equity(114 [ADBE])</th>\n",
       "    </tr>\n",
       "    <tr>\n",
       "      <th>Equity(117 [AEY])</th>\n",
       "    </tr>\n",
       "    <tr>\n",
       "      <th>Equity(122 [ADI])</th>\n",
       "    </tr>\n",
       "    <tr>\n",
       "      <th>Equity(128 [ADM])</th>\n",
       "    </tr>\n",
       "    <tr>\n",
       "      <th>Equity(149 [ADX])</th>\n",
       "    </tr>\n",
       "    <tr>\n",
       "      <th>Equity(153 [AE])</th>\n",
       "    </tr>\n",
       "    <tr>\n",
       "      <th>Equity(154 [AEM])</th>\n",
       "    </tr>\n",
       "    <tr>\n",
       "      <th>Equity(157 [AEG])</th>\n",
       "    </tr>\n",
       "    <tr>\n",
       "      <th>Equity(161 [AEP])</th>\n",
       "    </tr>\n",
       "    <tr>\n",
       "      <th>...</th>\n",
       "    </tr>\n",
       "    <tr>\n",
       "      <th>Equity(50534 [HGV])</th>\n",
       "    </tr>\n",
       "    <tr>\n",
       "      <th>Equity(50535 [PK])</th>\n",
       "    </tr>\n",
       "    <tr>\n",
       "      <th>Equity(50537 [WRD])</th>\n",
       "    </tr>\n",
       "    <tr>\n",
       "      <th>Equity(50539 [TIG])</th>\n",
       "    </tr>\n",
       "    <tr>\n",
       "      <th>Equity(50540 [TRVG])</th>\n",
       "    </tr>\n",
       "    <tr>\n",
       "      <th>Equity(50541 [KEY_PRI])</th>\n",
       "    </tr>\n",
       "    <tr>\n",
       "      <th>Equity(50542 [JHMD])</th>\n",
       "    </tr>\n",
       "    <tr>\n",
       "      <th>Equity(50543 [COWZ])</th>\n",
       "    </tr>\n",
       "    <tr>\n",
       "      <th>Equity(50544 [KEG])</th>\n",
       "    </tr>\n",
       "    <tr>\n",
       "      <th>Equity(50546 [NURE])</th>\n",
       "    </tr>\n",
       "    <tr>\n",
       "      <th>Equity(50547 [YTRA])</th>\n",
       "    </tr>\n",
       "    <tr>\n",
       "      <th>Equity(50548 [RXII_W])</th>\n",
       "    </tr>\n",
       "    <tr>\n",
       "      <th>Equity(50549 [BMLP])</th>\n",
       "    </tr>\n",
       "    <tr>\n",
       "      <th>Equity(50550 [WBIY])</th>\n",
       "    </tr>\n",
       "    <tr>\n",
       "      <th>Equity(50552 [FIV])</th>\n",
       "    </tr>\n",
       "    <tr>\n",
       "      <th>Equity(50554 [HEBT])</th>\n",
       "    </tr>\n",
       "    <tr>\n",
       "      <th>Equity(50555 [UUUU_WS])</th>\n",
       "    </tr>\n",
       "    <tr>\n",
       "      <th>Equity(50556 [SAB])</th>\n",
       "    </tr>\n",
       "    <tr>\n",
       "      <th>Equity(50558 [INFR])</th>\n",
       "    </tr>\n",
       "    <tr>\n",
       "      <th>Equity(50559 [VVPR])</th>\n",
       "    </tr>\n",
       "    <tr>\n",
       "      <th>Equity(50560 [XK])</th>\n",
       "    </tr>\n",
       "    <tr>\n",
       "      <th>Equity(50561 [XE])</th>\n",
       "    </tr>\n",
       "    <tr>\n",
       "      <th>Equity(50562 [XH])</th>\n",
       "    </tr>\n",
       "    <tr>\n",
       "      <th>Equity(50563 [XM])</th>\n",
       "    </tr>\n",
       "    <tr>\n",
       "      <th>Equity(50564 [XD])</th>\n",
       "    </tr>\n",
       "    <tr>\n",
       "      <th>Equity(50565 [XI])</th>\n",
       "    </tr>\n",
       "    <tr>\n",
       "      <th>Equity(50566 [XU])</th>\n",
       "    </tr>\n",
       "    <tr>\n",
       "      <th>Equity(50567 [XF])</th>\n",
       "    </tr>\n",
       "    <tr>\n",
       "      <th>Equity(50568 [XS])</th>\n",
       "    </tr>\n",
       "    <tr>\n",
       "      <th>Equity(50569 [OUSM])</th>\n",
       "    </tr>\n",
       "  </tbody>\n",
       "</table>\n",
       "<p>8347 rows × 0 columns</p>\n",
       "</div>"
      ],
      "text/plain": [
       "Empty DataFrame\n",
       "Columns: []\n",
       "Index: [(2017-01-03 00:00:00+00:00, Equity(2 [ARNC])), (2017-01-03 00:00:00+00:00, Equity(21 [AAME])), (2017-01-03 00:00:00+00:00, Equity(24 [AAPL])), (2017-01-03 00:00:00+00:00, Equity(25 [ARNC_PR])), (2017-01-03 00:00:00+00:00, Equity(31 [ABAX])), (2017-01-03 00:00:00+00:00, Equity(39 [DDC])), (2017-01-03 00:00:00+00:00, Equity(41 [ARCB])), (2017-01-03 00:00:00+00:00, Equity(52 [ABM])), (2017-01-03 00:00:00+00:00, Equity(53 [ABMD])), (2017-01-03 00:00:00+00:00, Equity(62 [ABT])), (2017-01-03 00:00:00+00:00, Equity(64 [ABX])), (2017-01-03 00:00:00+00:00, Equity(66 [AB])), (2017-01-03 00:00:00+00:00, Equity(67 [ADSK])), (2017-01-03 00:00:00+00:00, Equity(69 [ACAT])), (2017-01-03 00:00:00+00:00, Equity(70 [VBF])), (2017-01-03 00:00:00+00:00, Equity(76 [TAP])), (2017-01-03 00:00:00+00:00, Equity(84 [ACET])), (2017-01-03 00:00:00+00:00, Equity(100 [IEP])), (2017-01-03 00:00:00+00:00, Equity(106 [ACU])), (2017-01-03 00:00:00+00:00, Equity(110 [ACXM])), (2017-01-03 00:00:00+00:00, Equity(112 [ACY])), (2017-01-03 00:00:00+00:00, Equity(114 [ADBE])), (2017-01-03 00:00:00+00:00, Equity(117 [AEY])), (2017-01-03 00:00:00+00:00, Equity(122 [ADI])), (2017-01-03 00:00:00+00:00, Equity(128 [ADM])), (2017-01-03 00:00:00+00:00, Equity(149 [ADX])), (2017-01-03 00:00:00+00:00, Equity(153 [AE])), (2017-01-03 00:00:00+00:00, Equity(154 [AEM])), (2017-01-03 00:00:00+00:00, Equity(157 [AEG])), (2017-01-03 00:00:00+00:00, Equity(161 [AEP])), (2017-01-03 00:00:00+00:00, Equity(162 [AEPI])), (2017-01-03 00:00:00+00:00, Equity(166 [AES])), (2017-01-03 00:00:00+00:00, Equity(168 [AET])), (2017-01-03 00:00:00+00:00, Equity(185 [AFL])), (2017-01-03 00:00:00+00:00, Equity(192 [ATAX])), (2017-01-03 00:00:00+00:00, Equity(197 [AGCO])), (2017-01-03 00:00:00+00:00, Equity(216 [HES])), (2017-01-03 00:00:00+00:00, Equity(225 [AHPI])), (2017-01-03 00:00:00+00:00, Equity(239 [AIG])), (2017-01-03 00:00:00+00:00, Equity(247 [AIN])), (2017-01-03 00:00:00+00:00, Equity(253 [AIR])), (2017-01-03 00:00:00+00:00, Equity(266 [AJG])), (2017-01-03 00:00:00+00:00, Equity(270 [AKRX])), (2017-01-03 00:00:00+00:00, Equity(283 [ALCO])), (2017-01-03 00:00:00+00:00, Equity(289 [MATX])), (2017-01-03 00:00:00+00:00, Equity(300 [ALK])), (2017-01-03 00:00:00+00:00, Equity(301 [ALKS])), (2017-01-03 00:00:00+00:00, Equity(311 [ALOG])), (2017-01-03 00:00:00+00:00, Equity(312 [ALOT])), (2017-01-03 00:00:00+00:00, Equity(332 [ALX])), (2017-01-03 00:00:00+00:00, Equity(337 [AMAT])), (2017-01-03 00:00:00+00:00, Equity(351 [AMD])), (2017-01-03 00:00:00+00:00, Equity(353 [AME])), (2017-01-03 00:00:00+00:00, Equity(357 [TWX])), (2017-01-03 00:00:00+00:00, Equity(366 [AVD])), (2017-01-03 00:00:00+00:00, Equity(368 [AMGN])), (2017-01-03 00:00:00+00:00, Equity(371 [TVTY])), (2017-01-03 00:00:00+00:00, Equity(392 [AMS])), (2017-01-03 00:00:00+00:00, Equity(393 [AMSC])), (2017-01-03 00:00:00+00:00, Equity(397 [AMSW_A])), (2017-01-03 00:00:00+00:00, Equity(405 [AMWD])), (2017-01-03 00:00:00+00:00, Equity(410 [AN])), (2017-01-03 00:00:00+00:00, Equity(412 [ANAT])), (2017-01-03 00:00:00+00:00, Equity(438 [AON])), (2017-01-03 00:00:00+00:00, Equity(447 [AP])), (2017-01-03 00:00:00+00:00, Equity(448 [APA])), (2017-01-03 00:00:00+00:00, Equity(450 [CLFD])), (2017-01-03 00:00:00+00:00, Equity(451 [APB])), (2017-01-03 00:00:00+00:00, Equity(455 [APC])), (2017-01-03 00:00:00+00:00, Equity(460 [APD])), (2017-01-03 00:00:00+00:00, Equity(465 [APH])), (2017-01-03 00:00:00+00:00, Equity(474 [APOG])), (2017-01-03 00:00:00+00:00, Equity(484 [ATU])), (2017-01-03 00:00:00+00:00, Equity(508 [AIRM])), (2017-01-03 00:00:00+00:00, Equity(523 [AAN])), (2017-01-03 00:00:00+00:00, Equity(526 [AROW])), (2017-01-03 00:00:00+00:00, Equity(535 [ARTW])), (2017-01-03 00:00:00+00:00, Equity(538 [ARW])), (2017-01-03 00:00:00+00:00, Equity(542 [ASA])), (2017-01-03 00:00:00+00:00, Equity(547 [ASB])), (2017-01-03 00:00:00+00:00, Equity(557 [ASGN])), (2017-01-03 00:00:00+00:00, Equity(559 [ASH])), (2017-01-03 00:00:00+00:00, Equity(576 [ASR])), (2017-01-03 00:00:00+00:00, Equity(579 [ASTE])), (2017-01-03 00:00:00+00:00, Equity(600 [OA])), (2017-01-03 00:00:00+00:00, Equity(610 [ATNI])), (2017-01-03 00:00:00+00:00, Equity(612 [ATO])), (2017-01-03 00:00:00+00:00, Equity(617 [ATRO])), (2017-01-03 00:00:00+00:00, Equity(624 [ATW])), (2017-01-03 00:00:00+00:00, Equity(629 [AU])), (2017-01-03 00:00:00+00:00, Equity(630 [ADP])), (2017-01-03 00:00:00+00:00, Equity(659 [AMAG])), (2017-01-03 00:00:00+00:00, Equity(660 [AVP])), (2017-01-03 00:00:00+00:00, Equity(661 [AVT])), (2017-01-03 00:00:00+00:00, Equity(662 [AVHI])), (2017-01-03 00:00:00+00:00, Equity(663 [AVY])), (2017-01-03 00:00:00+00:00, Equity(677 [AXAS])), (2017-01-03 00:00:00+00:00, Equity(679 [AXP])), (2017-01-03 00:00:00+00:00, Equity(680 [AXR])), (2017-01-03 00:00:00+00:00, Equity(693 [AZO])), ...]\n",
       "\n",
       "[8347 rows x 0 columns]"
      ]
     },
     "execution_count": 33,
     "metadata": {},
     "output_type": "execute_result"
    }
   ],
   "source": [
    "result"
   ]
  },
  {
   "cell_type": "markdown",
   "metadata": {},
   "source": [
    "## Data"
   ]
  },
  {
   "cell_type": "code",
   "execution_count": 34,
   "metadata": {
    "collapsed": true
   },
   "outputs": [],
   "source": [
    "from quantopian.pipeline.data.builtin import USEquityPricing"
   ]
  },
  {
   "cell_type": "markdown",
   "metadata": {},
   "source": [
    "## Factors"
   ]
  },
  {
   "cell_type": "code",
   "execution_count": 35,
   "metadata": {
    "collapsed": true
   },
   "outputs": [],
   "source": [
    "from quantopian.pipeline.factors import SimpleMovingAverage"
   ]
  },
  {
   "cell_type": "code",
   "execution_count": 36,
   "metadata": {},
   "outputs": [
    {
     "data": {
      "text/plain": [
       "SimpleMovingAverage((USEquityPricing.close::float64,), window_length=30)"
      ]
     },
     "execution_count": 36,
     "metadata": {},
     "output_type": "execute_result"
    }
   ],
   "source": [
    "SimpleMovingAverage(inputs=[USEquityPricing.close],window_length=30)"
   ]
  },
  {
   "cell_type": "code",
   "execution_count": 37,
   "metadata": {
    "collapsed": true
   },
   "outputs": [],
   "source": [
    "def make_pipeline():\n",
    "    mean_close_30 = SimpleMovingAverage(inputs=[USEquityPricing.close],window_length=30)\n",
    "    \n",
    "    return Pipeline(columns={'30 Day Mean Close':mean_close_30})"
   ]
  },
  {
   "cell_type": "code",
   "execution_count": 40,
   "metadata": {
    "collapsed": true
   },
   "outputs": [],
   "source": [
    "results = run_pipeline(make_pipeline(),'2017-01-03','2017-01-03')"
   ]
  },
  {
   "cell_type": "code",
   "execution_count": 41,
   "metadata": {},
   "outputs": [
    {
     "data": {
      "text/html": [
       "<div>\n",
       "<table border=\"1\" class=\"dataframe\">\n",
       "  <thead>\n",
       "    <tr style=\"text-align: right;\">\n",
       "      <th></th>\n",
       "      <th></th>\n",
       "      <th>30 Day Mean Close</th>\n",
       "    </tr>\n",
       "  </thead>\n",
       "  <tbody>\n",
       "    <tr>\n",
       "      <th rowspan=\"5\" valign=\"top\">2017-01-03 00:00:00+00:00</th>\n",
       "      <th>Equity(2 [ARNC])</th>\n",
       "      <td>20.110500</td>\n",
       "    </tr>\n",
       "    <tr>\n",
       "      <th>Equity(21 [AAME])</th>\n",
       "      <td>3.899241</td>\n",
       "    </tr>\n",
       "    <tr>\n",
       "      <th>Equity(24 [AAPL])</th>\n",
       "      <td>113.368433</td>\n",
       "    </tr>\n",
       "    <tr>\n",
       "      <th>Equity(25 [ARNC_PR])</th>\n",
       "      <td>86.796111</td>\n",
       "    </tr>\n",
       "    <tr>\n",
       "      <th>Equity(31 [ABAX])</th>\n",
       "      <td>52.498394</td>\n",
       "    </tr>\n",
       "  </tbody>\n",
       "</table>\n",
       "</div>"
      ],
      "text/plain": [
       "                                                30 Day Mean Close\n",
       "2017-01-03 00:00:00+00:00 Equity(2 [ARNC])              20.110500\n",
       "                          Equity(21 [AAME])              3.899241\n",
       "                          Equity(24 [AAPL])            113.368433\n",
       "                          Equity(25 [ARNC_PR])          86.796111\n",
       "                          Equity(31 [ABAX])             52.498394"
      ]
     },
     "execution_count": 41,
     "metadata": {},
     "output_type": "execute_result"
    }
   ],
   "source": [
    "results.head()"
   ]
  },
  {
   "cell_type": "code",
   "execution_count": 42,
   "metadata": {
    "collapsed": true
   },
   "outputs": [],
   "source": [
    "def make_pipeline():\n",
    "    mean_close_30 = SimpleMovingAverage(inputs=[USEquityPricing.close],window_length=30)\n",
    "    latest_close = USEquityPricing.close.latest\n",
    "    \n",
    "    return Pipeline(columns={'30 Day Mean Close':mean_close_30,\n",
    "                             'Latest Close':latest_close})"
   ]
  },
  {
   "cell_type": "code",
   "execution_count": 43,
   "metadata": {
    "collapsed": true
   },
   "outputs": [],
   "source": [
    "results = run_pipeline(make_pipeline(),'2017-01-03','2017-01-03')"
   ]
  },
  {
   "cell_type": "code",
   "execution_count": 44,
   "metadata": {},
   "outputs": [
    {
     "data": {
      "text/html": [
       "<div>\n",
       "<table border=\"1\" class=\"dataframe\">\n",
       "  <thead>\n",
       "    <tr style=\"text-align: right;\">\n",
       "      <th></th>\n",
       "      <th></th>\n",
       "      <th>30 Day Mean Close</th>\n",
       "      <th>Latest Close</th>\n",
       "    </tr>\n",
       "  </thead>\n",
       "  <tbody>\n",
       "    <tr>\n",
       "      <th rowspan=\"5\" valign=\"top\">2017-01-03 00:00:00+00:00</th>\n",
       "      <th>Equity(2 [ARNC])</th>\n",
       "      <td>20.110500</td>\n",
       "      <td>18.55</td>\n",
       "    </tr>\n",
       "    <tr>\n",
       "      <th>Equity(21 [AAME])</th>\n",
       "      <td>3.899241</td>\n",
       "      <td>4.10</td>\n",
       "    </tr>\n",
       "    <tr>\n",
       "      <th>Equity(24 [AAPL])</th>\n",
       "      <td>113.368433</td>\n",
       "      <td>115.84</td>\n",
       "    </tr>\n",
       "    <tr>\n",
       "      <th>Equity(25 [ARNC_PR])</th>\n",
       "      <td>86.796111</td>\n",
       "      <td>NaN</td>\n",
       "    </tr>\n",
       "    <tr>\n",
       "      <th>Equity(31 [ABAX])</th>\n",
       "      <td>52.498394</td>\n",
       "      <td>52.74</td>\n",
       "    </tr>\n",
       "  </tbody>\n",
       "</table>\n",
       "</div>"
      ],
      "text/plain": [
       "                                                30 Day Mean Close  \\\n",
       "2017-01-03 00:00:00+00:00 Equity(2 [ARNC])              20.110500   \n",
       "                          Equity(21 [AAME])              3.899241   \n",
       "                          Equity(24 [AAPL])            113.368433   \n",
       "                          Equity(25 [ARNC_PR])          86.796111   \n",
       "                          Equity(31 [ABAX])             52.498394   \n",
       "\n",
       "                                                Latest Close  \n",
       "2017-01-03 00:00:00+00:00 Equity(2 [ARNC])             18.55  \n",
       "                          Equity(21 [AAME])             4.10  \n",
       "                          Equity(24 [AAPL])           115.84  \n",
       "                          Equity(25 [ARNC_PR])           NaN  \n",
       "                          Equity(31 [ABAX])            52.74  "
      ]
     },
     "execution_count": 44,
     "metadata": {},
     "output_type": "execute_result"
    }
   ],
   "source": [
    "results.head()"
   ]
  },
  {
   "cell_type": "markdown",
   "metadata": {},
   "source": [
    "## Combining Factors"
   ]
  },
  {
   "cell_type": "code",
   "execution_count": 45,
   "metadata": {
    "collapsed": true
   },
   "outputs": [],
   "source": [
    "def make_pipeline():\n",
    "    mean_close_30 = SimpleMovingAverage(inputs=[USEquityPricing.close],window_length=30)\n",
    "    mean_close_10 = SimpleMovingAverage(inputs=[USEquityPricing.close],window_length=10)\n",
    "    latest_close = USEquityPricing.close.latest\n",
    "    percent_diff = (mean_close_10 - mean_close_30) / mean_close_30\n",
    "    \n",
    "    return Pipeline(columns={'30 Day Mean Close':mean_close_30,\n",
    "                             'Percent Diff':percent_diff,\n",
    "                             'Latest Close':latest_close})"
   ]
  },
  {
   "cell_type": "code",
   "execution_count": 46,
   "metadata": {
    "collapsed": true
   },
   "outputs": [],
   "source": [
    "results = run_pipeline(make_pipeline(),'2017-01-03','2017-01-03')"
   ]
  },
  {
   "cell_type": "code",
   "execution_count": 47,
   "metadata": {},
   "outputs": [
    {
     "data": {
      "text/html": [
       "<div>\n",
       "<table border=\"1\" class=\"dataframe\">\n",
       "  <thead>\n",
       "    <tr style=\"text-align: right;\">\n",
       "      <th></th>\n",
       "      <th></th>\n",
       "      <th>30 Day Mean Close</th>\n",
       "      <th>Latest Close</th>\n",
       "      <th>Percent Diff</th>\n",
       "    </tr>\n",
       "  </thead>\n",
       "  <tbody>\n",
       "    <tr>\n",
       "      <th rowspan=\"5\" valign=\"top\">2017-01-03 00:00:00+00:00</th>\n",
       "      <th>Equity(2 [ARNC])</th>\n",
       "      <td>20.110500</td>\n",
       "      <td>18.55</td>\n",
       "      <td>-0.022749</td>\n",
       "    </tr>\n",
       "    <tr>\n",
       "      <th>Equity(21 [AAME])</th>\n",
       "      <td>3.899241</td>\n",
       "      <td>4.10</td>\n",
       "      <td>-0.005499</td>\n",
       "    </tr>\n",
       "    <tr>\n",
       "      <th>Equity(24 [AAPL])</th>\n",
       "      <td>113.368433</td>\n",
       "      <td>115.84</td>\n",
       "      <td>0.028481</td>\n",
       "    </tr>\n",
       "    <tr>\n",
       "      <th>Equity(25 [ARNC_PR])</th>\n",
       "      <td>86.796111</td>\n",
       "      <td>NaN</td>\n",
       "      <td>-0.000474</td>\n",
       "    </tr>\n",
       "    <tr>\n",
       "      <th>Equity(31 [ABAX])</th>\n",
       "      <td>52.498394</td>\n",
       "      <td>52.74</td>\n",
       "      <td>-0.007665</td>\n",
       "    </tr>\n",
       "  </tbody>\n",
       "</table>\n",
       "</div>"
      ],
      "text/plain": [
       "                                                30 Day Mean Close  \\\n",
       "2017-01-03 00:00:00+00:00 Equity(2 [ARNC])              20.110500   \n",
       "                          Equity(21 [AAME])              3.899241   \n",
       "                          Equity(24 [AAPL])            113.368433   \n",
       "                          Equity(25 [ARNC_PR])          86.796111   \n",
       "                          Equity(31 [ABAX])             52.498394   \n",
       "\n",
       "                                                Latest Close  Percent Diff  \n",
       "2017-01-03 00:00:00+00:00 Equity(2 [ARNC])             18.55     -0.022749  \n",
       "                          Equity(21 [AAME])             4.10     -0.005499  \n",
       "                          Equity(24 [AAPL])           115.84      0.028481  \n",
       "                          Equity(25 [ARNC_PR])           NaN     -0.000474  \n",
       "                          Equity(31 [ABAX])            52.74     -0.007665  "
      ]
     },
     "execution_count": 47,
     "metadata": {},
     "output_type": "execute_result"
    }
   ],
   "source": [
    "results.head()"
   ]
  },
  {
   "cell_type": "markdown",
   "metadata": {},
   "source": [
    "## Filters and Screens"
   ]
  },
  {
   "cell_type": "markdown",
   "metadata": {},
   "source": [
    "**Filters**"
   ]
  },
  {
   "cell_type": "code",
   "execution_count": 48,
   "metadata": {
    "collapsed": true
   },
   "outputs": [],
   "source": [
    "def make_pipeline():\n",
    "    mean_close_30 = SimpleMovingAverage(inputs=[USEquityPricing.close],window_length=30)\n",
    "    mean_close_10 = SimpleMovingAverage(inputs=[USEquityPricing.close],window_length=10)\n",
    "    latest_close = USEquityPricing.close.latest\n",
    "    percent_diff = (mean_close_10 - mean_close_30) / mean_close_30\n",
    "    perc_filter = percent_diff > 0\n",
    "    return Pipeline(columns={'30 Day Mean Close':mean_close_30,\n",
    "                             'Percent Diff':percent_diff,\n",
    "                             'Latest Close':latest_close,\n",
    "                             'Percent Filter':perc_filter})"
   ]
  },
  {
   "cell_type": "code",
   "execution_count": 49,
   "metadata": {
    "collapsed": true
   },
   "outputs": [],
   "source": [
    "results = run_pipeline(make_pipeline(),'2017-01-03','2017-01-03')"
   ]
  },
  {
   "cell_type": "code",
   "execution_count": 50,
   "metadata": {},
   "outputs": [
    {
     "data": {
      "text/html": [
       "<div>\n",
       "<table border=\"1\" class=\"dataframe\">\n",
       "  <thead>\n",
       "    <tr style=\"text-align: right;\">\n",
       "      <th></th>\n",
       "      <th></th>\n",
       "      <th>30 Day Mean Close</th>\n",
       "      <th>Latest Close</th>\n",
       "      <th>Percent Diff</th>\n",
       "      <th>Percent Filter</th>\n",
       "    </tr>\n",
       "  </thead>\n",
       "  <tbody>\n",
       "    <tr>\n",
       "      <th rowspan=\"5\" valign=\"top\">2017-01-03 00:00:00+00:00</th>\n",
       "      <th>Equity(2 [ARNC])</th>\n",
       "      <td>20.110500</td>\n",
       "      <td>18.55</td>\n",
       "      <td>-0.022749</td>\n",
       "      <td>False</td>\n",
       "    </tr>\n",
       "    <tr>\n",
       "      <th>Equity(21 [AAME])</th>\n",
       "      <td>3.899241</td>\n",
       "      <td>4.10</td>\n",
       "      <td>-0.005499</td>\n",
       "      <td>False</td>\n",
       "    </tr>\n",
       "    <tr>\n",
       "      <th>Equity(24 [AAPL])</th>\n",
       "      <td>113.368433</td>\n",
       "      <td>115.84</td>\n",
       "      <td>0.028481</td>\n",
       "      <td>True</td>\n",
       "    </tr>\n",
       "    <tr>\n",
       "      <th>Equity(25 [ARNC_PR])</th>\n",
       "      <td>86.796111</td>\n",
       "      <td>NaN</td>\n",
       "      <td>-0.000474</td>\n",
       "      <td>False</td>\n",
       "    </tr>\n",
       "    <tr>\n",
       "      <th>Equity(31 [ABAX])</th>\n",
       "      <td>52.498394</td>\n",
       "      <td>52.74</td>\n",
       "      <td>-0.007665</td>\n",
       "      <td>False</td>\n",
       "    </tr>\n",
       "  </tbody>\n",
       "</table>\n",
       "</div>"
      ],
      "text/plain": [
       "                                                30 Day Mean Close  \\\n",
       "2017-01-03 00:00:00+00:00 Equity(2 [ARNC])              20.110500   \n",
       "                          Equity(21 [AAME])              3.899241   \n",
       "                          Equity(24 [AAPL])            113.368433   \n",
       "                          Equity(25 [ARNC_PR])          86.796111   \n",
       "                          Equity(31 [ABAX])             52.498394   \n",
       "\n",
       "                                                Latest Close  Percent Diff  \\\n",
       "2017-01-03 00:00:00+00:00 Equity(2 [ARNC])             18.55     -0.022749   \n",
       "                          Equity(21 [AAME])             4.10     -0.005499   \n",
       "                          Equity(24 [AAPL])           115.84      0.028481   \n",
       "                          Equity(25 [ARNC_PR])           NaN     -0.000474   \n",
       "                          Equity(31 [ABAX])            52.74     -0.007665   \n",
       "\n",
       "                                               Percent Filter  \n",
       "2017-01-03 00:00:00+00:00 Equity(2 [ARNC])              False  \n",
       "                          Equity(21 [AAME])             False  \n",
       "                          Equity(24 [AAPL])              True  \n",
       "                          Equity(25 [ARNC_PR])          False  \n",
       "                          Equity(31 [ABAX])             False  "
      ]
     },
     "execution_count": 50,
     "metadata": {},
     "output_type": "execute_result"
    }
   ],
   "source": [
    "results.head()"
   ]
  },
  {
   "cell_type": "markdown",
   "metadata": {},
   "source": [
    "**Screens**"
   ]
  },
  {
   "cell_type": "code",
   "execution_count": 51,
   "metadata": {
    "collapsed": true
   },
   "outputs": [],
   "source": [
    "def make_pipeline():\n",
    "    mean_close_30 = SimpleMovingAverage(inputs=[USEquityPricing.close],window_length=30)\n",
    "    mean_close_10 = SimpleMovingAverage(inputs=[USEquityPricing.close],window_length=10)\n",
    "    latest_close = USEquityPricing.close.latest\n",
    "    percent_diff = (mean_close_10 - mean_close_30) / mean_close_30\n",
    "    perc_filter = percent_diff > 0\n",
    "    return Pipeline(columns={'30 Day Mean Close':mean_close_30,\n",
    "                             'Percent Diff':percent_diff,\n",
    "                             'Latest Close':latest_close,\n",
    "                             'Percent Filter':perc_filter},\n",
    "                   screen=perc_filter)"
   ]
  },
  {
   "cell_type": "code",
   "execution_count": 52,
   "metadata": {
    "collapsed": true
   },
   "outputs": [],
   "source": [
    "results = run_pipeline(make_pipeline(),'2017-01-03','2017-01-03')"
   ]
  },
  {
   "cell_type": "code",
   "execution_count": 53,
   "metadata": {},
   "outputs": [
    {
     "data": {
      "text/html": [
       "<div>\n",
       "<table border=\"1\" class=\"dataframe\">\n",
       "  <thead>\n",
       "    <tr style=\"text-align: right;\">\n",
       "      <th></th>\n",
       "      <th></th>\n",
       "      <th>30 Day Mean Close</th>\n",
       "      <th>Latest Close</th>\n",
       "      <th>Percent Diff</th>\n",
       "      <th>Percent Filter</th>\n",
       "    </tr>\n",
       "  </thead>\n",
       "  <tbody>\n",
       "    <tr>\n",
       "      <th rowspan=\"5\" valign=\"top\">2017-01-03 00:00:00+00:00</th>\n",
       "      <th>Equity(24 [AAPL])</th>\n",
       "      <td>113.368433</td>\n",
       "      <td>115.84</td>\n",
       "      <td>0.028481</td>\n",
       "      <td>True</td>\n",
       "    </tr>\n",
       "    <tr>\n",
       "      <th>Equity(66 [AB])</th>\n",
       "      <td>23.119167</td>\n",
       "      <td>23.45</td>\n",
       "      <td>0.004578</td>\n",
       "      <td>True</td>\n",
       "    </tr>\n",
       "    <tr>\n",
       "      <th>Equity(69 [ACAT])</th>\n",
       "      <td>15.839500</td>\n",
       "      <td>15.02</td>\n",
       "      <td>0.009375</td>\n",
       "      <td>True</td>\n",
       "    </tr>\n",
       "    <tr>\n",
       "      <th>Equity(70 [VBF])</th>\n",
       "      <td>18.208480</td>\n",
       "      <td>18.49</td>\n",
       "      <td>0.011814</td>\n",
       "      <td>True</td>\n",
       "    </tr>\n",
       "    <tr>\n",
       "      <th>Equity(84 [ACET])</th>\n",
       "      <td>20.722753</td>\n",
       "      <td>21.97</td>\n",
       "      <td>0.039630</td>\n",
       "      <td>True</td>\n",
       "    </tr>\n",
       "  </tbody>\n",
       "</table>\n",
       "</div>"
      ],
      "text/plain": [
       "                                             30 Day Mean Close  Latest Close  \\\n",
       "2017-01-03 00:00:00+00:00 Equity(24 [AAPL])         113.368433        115.84   \n",
       "                          Equity(66 [AB])            23.119167         23.45   \n",
       "                          Equity(69 [ACAT])          15.839500         15.02   \n",
       "                          Equity(70 [VBF])           18.208480         18.49   \n",
       "                          Equity(84 [ACET])          20.722753         21.97   \n",
       "\n",
       "                                             Percent Diff Percent Filter  \n",
       "2017-01-03 00:00:00+00:00 Equity(24 [AAPL])      0.028481           True  \n",
       "                          Equity(66 [AB])        0.004578           True  \n",
       "                          Equity(69 [ACAT])      0.009375           True  \n",
       "                          Equity(70 [VBF])       0.011814           True  \n",
       "                          Equity(84 [ACET])      0.039630           True  "
      ]
     },
     "execution_count": 53,
     "metadata": {},
     "output_type": "execute_result"
    }
   ],
   "source": [
    "results.head()"
   ]
  },
  {
   "cell_type": "markdown",
   "metadata": {},
   "source": [
    "**Reverse a screen**"
   ]
  },
  {
   "cell_type": "code",
   "execution_count": 54,
   "metadata": {
    "collapsed": true
   },
   "outputs": [],
   "source": [
    "# perc_filter değerini < 0 olarak da yapılabilir.\n",
    "# onun yerine screen parametresine ~ işareti verilerek yapıldı.\n",
    "def make_pipeline():\n",
    "    mean_close_30 = SimpleMovingAverage(inputs=[USEquityPricing.close],window_length=30)\n",
    "    mean_close_10 = SimpleMovingAverage(inputs=[USEquityPricing.close],window_length=10)\n",
    "    latest_close = USEquityPricing.close.latest\n",
    "    percent_diff = (mean_close_10 - mean_close_30) / mean_close_30\n",
    "    perc_filter = percent_diff > 0\n",
    "    return Pipeline(columns={'30 Day Mean Close':mean_close_30,\n",
    "                             'Percent Diff':percent_diff,\n",
    "                             'Latest Close':latest_close,\n",
    "                             'Percent Filter':perc_filter},\n",
    "                   screen=~perc_filter)"
   ]
  },
  {
   "cell_type": "code",
   "execution_count": 55,
   "metadata": {
    "collapsed": true
   },
   "outputs": [],
   "source": [
    "results = run_pipeline(make_pipeline(),'2017-01-03','2017-01-03')"
   ]
  },
  {
   "cell_type": "code",
   "execution_count": 56,
   "metadata": {},
   "outputs": [
    {
     "data": {
      "text/html": [
       "<div>\n",
       "<table border=\"1\" class=\"dataframe\">\n",
       "  <thead>\n",
       "    <tr style=\"text-align: right;\">\n",
       "      <th></th>\n",
       "      <th></th>\n",
       "      <th>30 Day Mean Close</th>\n",
       "      <th>Latest Close</th>\n",
       "      <th>Percent Diff</th>\n",
       "      <th>Percent Filter</th>\n",
       "    </tr>\n",
       "  </thead>\n",
       "  <tbody>\n",
       "    <tr>\n",
       "      <th rowspan=\"5\" valign=\"top\">2017-01-03 00:00:00+00:00</th>\n",
       "      <th>Equity(2 [ARNC])</th>\n",
       "      <td>20.110500</td>\n",
       "      <td>18.55</td>\n",
       "      <td>-0.022749</td>\n",
       "      <td>False</td>\n",
       "    </tr>\n",
       "    <tr>\n",
       "      <th>Equity(21 [AAME])</th>\n",
       "      <td>3.899241</td>\n",
       "      <td>4.10</td>\n",
       "      <td>-0.005499</td>\n",
       "      <td>False</td>\n",
       "    </tr>\n",
       "    <tr>\n",
       "      <th>Equity(25 [ARNC_PR])</th>\n",
       "      <td>86.796111</td>\n",
       "      <td>NaN</td>\n",
       "      <td>-0.000474</td>\n",
       "      <td>False</td>\n",
       "    </tr>\n",
       "    <tr>\n",
       "      <th>Equity(31 [ABAX])</th>\n",
       "      <td>52.498394</td>\n",
       "      <td>52.74</td>\n",
       "      <td>-0.007665</td>\n",
       "      <td>False</td>\n",
       "    </tr>\n",
       "    <tr>\n",
       "      <th>Equity(39 [DDC])</th>\n",
       "      <td>9.523000</td>\n",
       "      <td>9.69</td>\n",
       "      <td>-0.015436</td>\n",
       "      <td>False</td>\n",
       "    </tr>\n",
       "  </tbody>\n",
       "</table>\n",
       "</div>"
      ],
      "text/plain": [
       "                                                30 Day Mean Close  \\\n",
       "2017-01-03 00:00:00+00:00 Equity(2 [ARNC])              20.110500   \n",
       "                          Equity(21 [AAME])              3.899241   \n",
       "                          Equity(25 [ARNC_PR])          86.796111   \n",
       "                          Equity(31 [ABAX])             52.498394   \n",
       "                          Equity(39 [DDC])               9.523000   \n",
       "\n",
       "                                                Latest Close  Percent Diff  \\\n",
       "2017-01-03 00:00:00+00:00 Equity(2 [ARNC])             18.55     -0.022749   \n",
       "                          Equity(21 [AAME])             4.10     -0.005499   \n",
       "                          Equity(25 [ARNC_PR])           NaN     -0.000474   \n",
       "                          Equity(31 [ABAX])            52.74     -0.007665   \n",
       "                          Equity(39 [DDC])              9.69     -0.015436   \n",
       "\n",
       "                                               Percent Filter  \n",
       "2017-01-03 00:00:00+00:00 Equity(2 [ARNC])              False  \n",
       "                          Equity(21 [AAME])             False  \n",
       "                          Equity(25 [ARNC_PR])          False  \n",
       "                          Equity(31 [ABAX])             False  \n",
       "                          Equity(39 [DDC])              False  "
      ]
     },
     "execution_count": 56,
     "metadata": {},
     "output_type": "execute_result"
    }
   ],
   "source": [
    "results.head()"
   ]
  },
  {
   "cell_type": "markdown",
   "metadata": {},
   "source": [
    "## Combine Filters"
   ]
  },
  {
   "cell_type": "code",
   "execution_count": 57,
   "metadata": {
    "collapsed": true
   },
   "outputs": [],
   "source": [
    "def make_pipeline():\n",
    "    mean_close_30 = SimpleMovingAverage(inputs=[USEquityPricing.close],window_length=30)\n",
    "    mean_close_10 = SimpleMovingAverage(inputs=[USEquityPricing.close],window_length=10)\n",
    "    latest_close = USEquityPricing.close.latest\n",
    "    \n",
    "    percent_diff = (mean_close_10 - mean_close_30) / mean_close_30\n",
    "    \n",
    "    perc_filter = percent_diff > 0\n",
    "    small_price = latest_close < 5\n",
    "    \n",
    "    return Pipeline(columns={'30 Day Mean Close':mean_close_30,\n",
    "                             'Percent Diff':percent_diff,\n",
    "                             'Latest Close':latest_close,\n",
    "                             'Percent Filter':perc_filter},\n",
    "                   screen=perc_filter & small_price)"
   ]
  },
  {
   "cell_type": "code",
   "execution_count": null,
   "metadata": {
    "collapsed": true
   },
   "outputs": [],
   "source": [
    "def make_pipeline():\n",
    "    mean_close_30 = SimpleMovingAverage(inputs=[USEquityPricing.close],window_length=30)\n",
    "    mean_close_10 = SimpleMovingAverage(inputs=[USEquityPricing.close],window_length=10)\n",
    "    latest_close = USEquityPricing.close.latest\n",
    "    \n",
    "    percent_diff = (mean_close_10 - mean_close_30) / mean_close_30\n",
    "    \n",
    "    perc_filter = percent_diff > 0\n",
    "    small_price = latest_close < 5\n",
    "    \n",
    "    # Combine filters\n",
    "    final_filter = perc_filter & small_price\n",
    "    \n",
    "    return Pipeline(columns={'30 Day Mean Close':mean_close_30,\n",
    "                             'Percent Diff':percent_diff,\n",
    "                             'Latest Close':latest_close,\n",
    "                             'Percent Filter':perc_filter},\n",
    "                   screen=final_filter)"
   ]
  },
  {
   "cell_type": "code",
   "execution_count": 58,
   "metadata": {
    "collapsed": true
   },
   "outputs": [],
   "source": [
    "results = run_pipeline(make_pipeline(),'2017-01-03','2017-01-03')"
   ]
  },
  {
   "cell_type": "code",
   "execution_count": 59,
   "metadata": {},
   "outputs": [
    {
     "data": {
      "text/html": [
       "<div>\n",
       "<table border=\"1\" class=\"dataframe\">\n",
       "  <thead>\n",
       "    <tr style=\"text-align: right;\">\n",
       "      <th></th>\n",
       "      <th></th>\n",
       "      <th>30 Day Mean Close</th>\n",
       "      <th>Latest Close</th>\n",
       "      <th>Percent Diff</th>\n",
       "      <th>Percent Filter</th>\n",
       "    </tr>\n",
       "  </thead>\n",
       "  <tbody>\n",
       "    <tr>\n",
       "      <th rowspan=\"5\" valign=\"top\">2017-01-03 00:00:00+00:00</th>\n",
       "      <th>Equity(535 [ARTW])</th>\n",
       "      <td>3.097778</td>\n",
       "      <td>3.40</td>\n",
       "      <td>0.013271</td>\n",
       "      <td>True</td>\n",
       "    </tr>\n",
       "    <tr>\n",
       "      <th>Equity(677 [AXAS])</th>\n",
       "      <td>2.265333</td>\n",
       "      <td>2.56</td>\n",
       "      <td>0.145527</td>\n",
       "      <td>True</td>\n",
       "    </tr>\n",
       "    <tr>\n",
       "      <th>Equity(1144 [BTX])</th>\n",
       "      <td>3.531167</td>\n",
       "      <td>3.62</td>\n",
       "      <td>0.065795</td>\n",
       "      <td>True</td>\n",
       "    </tr>\n",
       "    <tr>\n",
       "      <th>Equity(1323 [CAW])</th>\n",
       "      <td>2.541333</td>\n",
       "      <td>2.60</td>\n",
       "      <td>0.016002</td>\n",
       "      <td>True</td>\n",
       "    </tr>\n",
       "    <tr>\n",
       "      <th>Equity(1546 [CIF])</th>\n",
       "      <td>2.500370</td>\n",
       "      <td>2.57</td>\n",
       "      <td>0.015579</td>\n",
       "      <td>True</td>\n",
       "    </tr>\n",
       "  </tbody>\n",
       "</table>\n",
       "</div>"
      ],
      "text/plain": [
       "                                              30 Day Mean Close  Latest Close  \\\n",
       "2017-01-03 00:00:00+00:00 Equity(535 [ARTW])           3.097778          3.40   \n",
       "                          Equity(677 [AXAS])           2.265333          2.56   \n",
       "                          Equity(1144 [BTX])           3.531167          3.62   \n",
       "                          Equity(1323 [CAW])           2.541333          2.60   \n",
       "                          Equity(1546 [CIF])           2.500370          2.57   \n",
       "\n",
       "                                              Percent Diff Percent Filter  \n",
       "2017-01-03 00:00:00+00:00 Equity(535 [ARTW])      0.013271           True  \n",
       "                          Equity(677 [AXAS])      0.145527           True  \n",
       "                          Equity(1144 [BTX])      0.065795           True  \n",
       "                          Equity(1323 [CAW])      0.016002           True  \n",
       "                          Equity(1546 [CIF])      0.015579           True  "
      ]
     },
     "execution_count": 59,
     "metadata": {},
     "output_type": "execute_result"
    }
   ],
   "source": [
    "results.head()"
   ]
  },
  {
   "cell_type": "markdown",
   "metadata": {},
   "source": [
    "## Masking"
   ]
  },
  {
   "cell_type": "code",
   "execution_count": 60,
   "metadata": {
    "collapsed": true
   },
   "outputs": [],
   "source": [
    "def make_pipeline():\n",
    "    # Create Filters for Masks First\n",
    "    latest_close = USEquityPricing.close.latest\n",
    "    small_price = latest_close < 5\n",
    "    \n",
    "    # Pass in the mask\n",
    "    mean_close_10 = SimpleMovingAverage(inputs=[USEquityPricing.close],window_length=10,mask=small_price)\n",
    "    mean_close_30 = SimpleMovingAverage(inputs=[USEquityPricing.close],window_length=30,mask=small_price)\n",
    "    \n",
    "    percent_difference = (mean_close_10-mean_close_30) / mean_close_30\n",
    "    \n",
    "    perc_diff_check = percent_difference > 0\n",
    "    \n",
    "    return Pipeline(columns={\n",
    "                            'Percent Difference':percent_difference,\n",
    "                            '30 Day Mean Close':mean_close_30,\n",
    "                            'Latest Close':latest_close,\n",
    "                            'Positive Percent Diff': perc_diff_check},\n",
    "                    screen=perc_diff_check)"
   ]
  },
  {
   "cell_type": "code",
   "execution_count": 61,
   "metadata": {
    "collapsed": true
   },
   "outputs": [],
   "source": [
    "results = run_pipeline(make_pipeline(),'2017-01-03','2017-01-03')"
   ]
  },
  {
   "cell_type": "code",
   "execution_count": 62,
   "metadata": {},
   "outputs": [
    {
     "data": {
      "text/html": [
       "<div>\n",
       "<table border=\"1\" class=\"dataframe\">\n",
       "  <thead>\n",
       "    <tr style=\"text-align: right;\">\n",
       "      <th></th>\n",
       "      <th></th>\n",
       "      <th>30 Day Mean Close</th>\n",
       "      <th>Latest Close</th>\n",
       "      <th>Percent Difference</th>\n",
       "      <th>Positive Percent Diff</th>\n",
       "    </tr>\n",
       "  </thead>\n",
       "  <tbody>\n",
       "    <tr>\n",
       "      <th rowspan=\"5\" valign=\"top\">2017-01-03 00:00:00+00:00</th>\n",
       "      <th>Equity(535 [ARTW])</th>\n",
       "      <td>3.097778</td>\n",
       "      <td>3.40</td>\n",
       "      <td>0.013271</td>\n",
       "      <td>True</td>\n",
       "    </tr>\n",
       "    <tr>\n",
       "      <th>Equity(677 [AXAS])</th>\n",
       "      <td>2.265333</td>\n",
       "      <td>2.56</td>\n",
       "      <td>0.145527</td>\n",
       "      <td>True</td>\n",
       "    </tr>\n",
       "    <tr>\n",
       "      <th>Equity(1144 [BTX])</th>\n",
       "      <td>3.531167</td>\n",
       "      <td>3.62</td>\n",
       "      <td>0.065795</td>\n",
       "      <td>True</td>\n",
       "    </tr>\n",
       "    <tr>\n",
       "      <th>Equity(1323 [CAW])</th>\n",
       "      <td>2.541333</td>\n",
       "      <td>2.60</td>\n",
       "      <td>0.016002</td>\n",
       "      <td>True</td>\n",
       "    </tr>\n",
       "    <tr>\n",
       "      <th>Equity(1546 [CIF])</th>\n",
       "      <td>2.500370</td>\n",
       "      <td>2.57</td>\n",
       "      <td>0.015579</td>\n",
       "      <td>True</td>\n",
       "    </tr>\n",
       "  </tbody>\n",
       "</table>\n",
       "</div>"
      ],
      "text/plain": [
       "                                              30 Day Mean Close  Latest Close  \\\n",
       "2017-01-03 00:00:00+00:00 Equity(535 [ARTW])           3.097778          3.40   \n",
       "                          Equity(677 [AXAS])           2.265333          2.56   \n",
       "                          Equity(1144 [BTX])           3.531167          3.62   \n",
       "                          Equity(1323 [CAW])           2.541333          2.60   \n",
       "                          Equity(1546 [CIF])           2.500370          2.57   \n",
       "\n",
       "                                              Percent Difference  \\\n",
       "2017-01-03 00:00:00+00:00 Equity(535 [ARTW])            0.013271   \n",
       "                          Equity(677 [AXAS])            0.145527   \n",
       "                          Equity(1144 [BTX])            0.065795   \n",
       "                          Equity(1323 [CAW])            0.016002   \n",
       "                          Equity(1546 [CIF])            0.015579   \n",
       "\n",
       "                                             Positive Percent Diff  \n",
       "2017-01-03 00:00:00+00:00 Equity(535 [ARTW])                  True  \n",
       "                          Equity(677 [AXAS])                  True  \n",
       "                          Equity(1144 [BTX])                  True  \n",
       "                          Equity(1323 [CAW])                  True  \n",
       "                          Equity(1546 [CIF])                  True  "
      ]
     },
     "execution_count": 62,
     "metadata": {},
     "output_type": "execute_result"
    }
   ],
   "source": [
    "results.head()"
   ]
  },
  {
   "cell_type": "markdown",
   "metadata": {},
   "source": [
    "## Classifiers"
   ]
  },
  {
   "cell_type": "code",
   "execution_count": 63,
   "metadata": {
    "collapsed": true
   },
   "outputs": [],
   "source": [
    "from quantopian.pipeline.data import morningstar\n",
    "from quantopian.pipeline.classifiers.morningstar import Sector"
   ]
  },
  {
   "cell_type": "code",
   "execution_count": 64,
   "metadata": {},
   "outputs": [
    {
     "data": {
      "text/plain": [
       "Sector((asset_classification.morningstar_sector_code::int64,), window_length=1)"
      ]
     },
     "execution_count": 64,
     "metadata": {},
     "output_type": "execute_result"
    }
   ],
   "source": [
    "morningstar_sector = Sector()\n",
    "morningstar_sector"
   ]
  },
  {
   "cell_type": "code",
   "execution_count": 65,
   "metadata": {},
   "outputs": [
    {
     "data": {
      "text/plain": [
       "Latest((share_class_reference.exchange_id::object,), window_length=1)"
      ]
     },
     "execution_count": 65,
     "metadata": {},
     "output_type": "execute_result"
    }
   ],
   "source": [
    "exchange = morningstar.share_class_reference.exchange_id.latest\n",
    "exchange"
   ]
  },
  {
   "cell_type": "markdown",
   "metadata": {},
   "source": [
    "### Classifier Methods\n",
    "\n",
    "* eq (equals)\n",
    "* isnull\n",
    "* startswith"
   ]
  },
  {
   "cell_type": "code",
   "execution_count": 66,
   "metadata": {},
   "outputs": [
    {
     "data": {
      "text/plain": [
       "ArrayPredicate((Latest((share_class_reference.exchange_id::object,), window_length=1),), window_length=0)"
      ]
     },
     "execution_count": 66,
     "metadata": {},
     "output_type": "execute_result"
    }
   ],
   "source": [
    "nyse_filter = exchange.eq('NYS')\n",
    "nyse_filter"
   ]
  },
  {
   "cell_type": "code",
   "execution_count": 67,
   "metadata": {
    "collapsed": true
   },
   "outputs": [],
   "source": [
    "def make_pipeline():\n",
    "    # Create Filters for Masks First\n",
    "    latest_close = USEquityPricing.close.latest\n",
    "    small_price = latest_close < 5\n",
    "    \n",
    "    # Classifier\n",
    "    nyse_filter = exchange.eq('NYS')\n",
    "    \n",
    "    # Pass in the mask\n",
    "    mean_close_10 = SimpleMovingAverage(inputs=[USEquityPricing.close],window_length=10,mask=small_price)\n",
    "    mean_close_30 = SimpleMovingAverage(inputs=[USEquityPricing.close],window_length=30,mask=small_price)\n",
    "    \n",
    "    percent_difference = (mean_close_10-mean_close_30) / mean_close_30\n",
    "    \n",
    "    perc_diff_check = percent_difference > 0 \n",
    "    \n",
    "    final_filter = perc_diff_check & nyse_filter\n",
    "    \n",
    "    return Pipeline(columns={\n",
    "                            'Percent Difference':percent_difference,\n",
    "                            '30 Day Mean Close':mean_close_30,\n",
    "                            'Latest Close':latest_close,\n",
    "                            'Positive Percent Diff': perc_diff_check},\n",
    "                    screen=final_filter)"
   ]
  },
  {
   "cell_type": "code",
   "execution_count": 68,
   "metadata": {},
   "outputs": [
    {
     "data": {
      "text/html": [
       "<div>\n",
       "<table border=\"1\" class=\"dataframe\">\n",
       "  <thead>\n",
       "    <tr style=\"text-align: right;\">\n",
       "      <th></th>\n",
       "      <th></th>\n",
       "      <th>30 Day Mean Close</th>\n",
       "      <th>Latest Close</th>\n",
       "      <th>Percent Difference</th>\n",
       "      <th>Positive Percent Diff</th>\n",
       "    </tr>\n",
       "  </thead>\n",
       "  <tbody>\n",
       "    <tr>\n",
       "      <th rowspan=\"5\" valign=\"top\">2017-01-03 00:00:00+00:00</th>\n",
       "      <th>Equity(2586 [EQS])</th>\n",
       "      <td>1.960533</td>\n",
       "      <td>2.020</td>\n",
       "      <td>0.022120</td>\n",
       "      <td>True</td>\n",
       "    </tr>\n",
       "    <tr>\n",
       "      <th>Equity(3265 [GLF])</th>\n",
       "      <td>1.576367</td>\n",
       "      <td>1.725</td>\n",
       "      <td>0.162420</td>\n",
       "      <td>True</td>\n",
       "    </tr>\n",
       "    <tr>\n",
       "      <th>Equity(3645 [HOV])</th>\n",
       "      <td>2.406667</td>\n",
       "      <td>2.735</td>\n",
       "      <td>0.176939</td>\n",
       "      <td>True</td>\n",
       "    </tr>\n",
       "    <tr>\n",
       "      <th>Equity(4577 [LUB])</th>\n",
       "      <td>4.292333</td>\n",
       "      <td>4.270</td>\n",
       "      <td>0.004116</td>\n",
       "      <td>True</td>\n",
       "    </tr>\n",
       "    <tr>\n",
       "      <th>Equity(4971 [RT])</th>\n",
       "      <td>3.244000</td>\n",
       "      <td>3.240</td>\n",
       "      <td>0.009094</td>\n",
       "      <td>True</td>\n",
       "    </tr>\n",
       "  </tbody>\n",
       "</table>\n",
       "</div>"
      ],
      "text/plain": [
       "                                              30 Day Mean Close  Latest Close  \\\n",
       "2017-01-03 00:00:00+00:00 Equity(2586 [EQS])           1.960533         2.020   \n",
       "                          Equity(3265 [GLF])           1.576367         1.725   \n",
       "                          Equity(3645 [HOV])           2.406667         2.735   \n",
       "                          Equity(4577 [LUB])           4.292333         4.270   \n",
       "                          Equity(4971 [RT])            3.244000         3.240   \n",
       "\n",
       "                                              Percent Difference  \\\n",
       "2017-01-03 00:00:00+00:00 Equity(2586 [EQS])            0.022120   \n",
       "                          Equity(3265 [GLF])            0.162420   \n",
       "                          Equity(3645 [HOV])            0.176939   \n",
       "                          Equity(4577 [LUB])            0.004116   \n",
       "                          Equity(4971 [RT])             0.009094   \n",
       "\n",
       "                                             Positive Percent Diff  \n",
       "2017-01-03 00:00:00+00:00 Equity(2586 [EQS])                  True  \n",
       "                          Equity(3265 [GLF])                  True  \n",
       "                          Equity(3645 [HOV])                  True  \n",
       "                          Equity(4577 [LUB])                  True  \n",
       "                          Equity(4971 [RT])                   True  "
      ]
     },
     "execution_count": 68,
     "metadata": {},
     "output_type": "execute_result"
    }
   ],
   "source": [
    "results = run_pipeline(make_pipeline(),'2017-01-01','2017-01-01')\n",
    "results.head()"
   ]
  },
  {
   "cell_type": "code",
   "execution_count": 69,
   "metadata": {},
   "outputs": [
    {
     "name": "stdout",
     "output_type": "stream",
     "text": [
      "<class 'pandas.core.frame.DataFrame'>\n",
      "MultiIndex: 66 entries, (2017-01-03 00:00:00+00:00, Equity(2586 [EQS])) to (2017-01-03 00:00:00+00:00, Equity(49678 [OSG]))\n",
      "Data columns (total 4 columns):\n",
      "30 Day Mean Close        66 non-null float64\n",
      "Latest Close             66 non-null float64\n",
      "Percent Difference       66 non-null float64\n",
      "Positive Percent Diff    66 non-null bool\n",
      "dtypes: bool(1), float64(3)\n",
      "memory usage: 2.1+ KB\n"
     ]
    }
   ],
   "source": [
    "results.info()"
   ]
  },
  {
   "cell_type": "markdown",
   "metadata": {},
   "source": [
    "# Pipelines in Quantopian IDE"
   ]
  },
  {
   "cell_type": "code",
   "execution_count": null,
   "metadata": {
    "collapsed": true
   },
   "outputs": [],
   "source": [
    "from quantopian.pipeline import Pipeline\n",
    "from quantopian.algorithm import attach_pipeline, pipeline_output\n",
    "\n",
    "def initialize(context):\n",
    "    my_pipe = make_pipeline()\n",
    "    attach_pipeline(my_pipe, 'my_pipeline')\n",
    "\n",
    "def make_pipeline():\n",
    "    return Pipeline()\n",
    "\n",
    "def before_trading_start(context, data):\n",
    "    # Store our pipeline output DataFrame in context.\n",
    "    context.output = pipeline_output('my_pipeline')"
   ]
  },
  {
   "cell_type": "code",
   "execution_count": null,
   "metadata": {
    "collapsed": true
   },
   "outputs": [],
   "source": []
  }
 ],
 "metadata": {
  "kernelspec": {
   "display_name": "Python 3",
   "language": "python",
   "name": "python3"
  },
  "language_info": {
   "codemirror_mode": {
    "name": "ipython",
    "version": 3
   },
   "file_extension": ".py",
   "mimetype": "text/x-python",
   "name": "python",
   "nbconvert_exporter": "python",
   "pygments_lexer": "ipython3",
   "version": "3.6.2"
  }
 },
 "nbformat": 4,
 "nbformat_minor": 2
}
