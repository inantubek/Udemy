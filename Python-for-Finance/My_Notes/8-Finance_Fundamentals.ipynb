{
 "cells": [
  {
   "cell_type": "markdown",
   "metadata": {},
   "source": [
    "# Sharpe Ratio and Portfolio Values"
   ]
  },
  {
   "cell_type": "markdown",
   "metadata": {},
   "source": [
    "## Create a Portfolio"
   ]
  },
  {
   "cell_type": "code",
   "execution_count": 5,
   "metadata": {},
   "outputs": [],
   "source": [
    "import os\n",
    "os.environ[\"HTTP_PROXY\"] = \"http://atlasproxy.isbank\"\n",
    "os.environ[\"HTTPS_PROXY\"] = \"http://atlasproxy.isbank\""
   ]
  },
  {
   "cell_type": "code",
   "execution_count": 6,
   "metadata": {},
   "outputs": [
    {
     "data": {
      "text/plain": [
       "{'ALLUSERSPROFILE': 'C:\\\\ProgramData',\n",
       " 'APPDATA': 'C:\\\\Users\\\\IS96347\\\\AppData\\\\Roaming',\n",
       " 'CLASSPATH': '.;C:\\\\PROGRA~2\\\\IBM\\\\SQLLIB\\\\java\\\\db2java.zip;C:\\\\PROGRA~2\\\\IBM\\\\SQLLIB\\\\java\\\\db2jcc.jar;C:\\\\PROGRA~2\\\\IBM\\\\SQLLIB\\\\java\\\\sqlj.zip;C:\\\\PROGRA~2\\\\IBM\\\\SQLLIB\\\\java\\\\db2jcc_license_cu.jar;C:\\\\PROGRA~2\\\\IBM\\\\SQLLIB\\\\bin;C:\\\\PROGRA~2\\\\IBM\\\\SQLLIB\\\\java\\\\common.jar;C:\\\\IBM\\\\RationalSDLC\\\\ClearQuest\\\\cqjni.jar',\n",
       " 'CLEARQUEST_HOME': 'C:\\\\IBM\\\\RationalSDLC\\\\ClearQuest',\n",
       " 'COMMONPROGRAMFILES': 'C:\\\\Program Files\\\\Common Files',\n",
       " 'COMMONPROGRAMFILES(X86)': 'C:\\\\Program Files (x86)\\\\Common Files',\n",
       " 'COMMONPROGRAMW6432': 'C:\\\\Program Files\\\\Common Files',\n",
       " 'COMPUTERNAME': 'T2LPRVT890',\n",
       " 'COMSPEC': 'C:\\\\Windows\\\\system32\\\\cmd.exe',\n",
       " 'CONDA_DEFAULT_ENV': 'pyfinance',\n",
       " 'CONDA_EXE': 'C:\\\\Users\\\\IS96347\\\\AppData\\\\Local\\\\Continuum\\\\anaconda3\\\\Scripts\\\\conda.exe',\n",
       " 'CONDA_PREFIX': 'C:\\\\Users\\\\IS96347\\\\AppData\\\\Local\\\\Continuum\\\\anaconda3\\\\envs\\\\pyfinance',\n",
       " 'CONDA_PROMPT_MODIFIER': '(pyfinance) ',\n",
       " 'CONDA_PYTHON_EXE': 'C:\\\\Users\\\\IS96347\\\\AppData\\\\Local\\\\Continuum\\\\anaconda3\\\\python.exe',\n",
       " 'CONDA_SHLVL': '1',\n",
       " 'DB2INSTANCE': 'DB2',\n",
       " 'FP_NO_HOST_CHECK': 'NO',\n",
       " 'HOMEDRIVE': 'C:',\n",
       " 'HOMEPATH': '\\\\Users\\\\IS96347',\n",
       " 'IBMLDAP_ALTHOME': 'C:\\\\IBM\\\\RationalSDLC\\\\common\\\\codeset',\n",
       " 'INCLUDE': 'C:\\\\PROGRA~2\\\\IBM\\\\SQLLIB\\\\INCLUDE;C:\\\\PROGRA~2\\\\IBM\\\\SQLLIB\\\\LIB',\n",
       " 'JAVA_HOME': 'C:\\\\Program Files (x86)\\\\Java\\\\jdk1.8.0_121',\n",
       " 'JRE_HOME': 'C:\\\\IBM\\\\RationalSDLC\\\\Common\\\\Java5.0\\\\jre',\n",
       " 'LIB': ';C:\\\\PROGRA~2\\\\IBM\\\\SQLLIB\\\\LIB',\n",
       " 'LOCALAPPDATA': 'C:\\\\Users\\\\IS96347\\\\AppData\\\\Local',\n",
       " 'LOGONSERVER': '\\\\\\\\KWINFADC23',\n",
       " 'M2_HOME': 'C:\\\\apache-maven-3.3.9',\n",
       " 'MAVEN_HOME': 'C:\\\\apache-maven-3.3.9',\n",
       " 'NUMBER_OF_PROCESSORS': '4',\n",
       " 'OS': 'Windows_NT',\n",
       " 'PATH': 'C:\\\\Users\\\\IS96347\\\\AppData\\\\Local\\\\Continuum\\\\anaconda3\\\\envs\\\\pyfinance\\\\Library\\\\bin;C:\\\\Users\\\\IS96347\\\\AppData\\\\Local\\\\Continuum\\\\anaconda3\\\\envs\\\\pyfinance\\\\Library\\\\bin;C:\\\\Users\\\\IS96347\\\\AppData\\\\Local\\\\Continuum\\\\anaconda3\\\\envs\\\\pyfinance\\\\Library\\\\bin;C:\\\\Users\\\\IS96347\\\\AppData\\\\Local\\\\Continuum\\\\anaconda3\\\\envs\\\\pyfinance;C:\\\\Users\\\\IS96347\\\\AppData\\\\Local\\\\Continuum\\\\anaconda3\\\\envs\\\\pyfinance\\\\Library\\\\mingw-w64\\\\bin;C:\\\\Users\\\\IS96347\\\\AppData\\\\Local\\\\Continuum\\\\anaconda3\\\\envs\\\\pyfinance\\\\Library\\\\usr\\\\bin;C:\\\\Users\\\\IS96347\\\\AppData\\\\Local\\\\Continuum\\\\anaconda3\\\\envs\\\\pyfinance\\\\Library\\\\bin;C:\\\\Users\\\\IS96347\\\\AppData\\\\Local\\\\Continuum\\\\anaconda3\\\\envs\\\\pyfinance\\\\Scripts;C:\\\\Users\\\\IS96347\\\\AppData\\\\Local\\\\Continuum\\\\anaconda3\\\\envs\\\\pyfinance\\\\bin;C:\\\\Program Files\\\\Python36\\\\Scripts\\\\;C:\\\\Program Files\\\\Python36\\\\;C:\\\\oracle\\\\product\\\\11.2.0\\\\client_1\\\\bin;C:\\\\IBM\\\\RationalSDLC\\\\common;C:\\\\ProgramData\\\\Oracle\\\\Java\\\\javapath;C:\\\\Program Files (x86)\\\\Intel\\\\iCLS Client\\\\;C:\\\\Program Files\\\\Intel\\\\iCLS Client\\\\;C:\\\\Windows\\\\system32;C:\\\\Windows;C:\\\\Windows\\\\System32\\\\Wbem;C:\\\\Windows\\\\System32\\\\WindowsPowerShell\\\\v1.0\\\\;c:\\\\Program Files\\\\Intel\\\\WiFi\\\\bin\\\\;c:\\\\Program Files\\\\Common Files\\\\Intel\\\\WirelessCommon\\\\;C:\\\\Program Files (x86)\\\\Intel\\\\Intel(R) Management Engine Components\\\\DAL;C:\\\\Program Files\\\\Intel\\\\Intel(R) Management Engine Components\\\\DAL;C:\\\\Program Files (x86)\\\\Intel\\\\Intel(R) Management Engine Components\\\\IPT;C:\\\\Program Files\\\\Intel\\\\Intel(R) Management Engine Components\\\\IPT;C:\\\\Program Files (x86)\\\\Microsoft ASP.NET\\\\ASP.NET Web Pages\\\\v1.0\\\\;C:\\\\Program Files\\\\Microsoft SQL Server\\\\110\\\\Tools\\\\Binn\\\\;C:\\\\Program Files (x86)\\\\Windows Kits\\\\8.1\\\\Windows Performance Toolkit\\\\;C:\\\\Users\\\\IS96347\\\\.dnx\\\\bin;C:\\\\Program Files\\\\Microsoft DNX\\\\Dnvm\\\\;C:\\\\Program Files\\\\Microsoft SQL Server\\\\120\\\\Tools\\\\Binn\\\\;C:\\\\Program Files\\\\Microsoft SQL Server\\\\Client SDK\\\\ODBC\\\\110\\\\Tools\\\\Binn\\\\;C:\\\\Program Files (x86)\\\\Microsoft SQL Server\\\\120\\\\Tools\\\\Binn\\\\;C:\\\\Program Files\\\\Microsoft SQL Server\\\\120\\\\DTS\\\\Binn\\\\;C:\\\\Program Files (x86)\\\\Microsoft SQL Server\\\\120\\\\Tools\\\\Binn\\\\ManagementStudio\\\\;C:\\\\Program Files (x86)\\\\Microsoft SQL Server\\\\120\\\\DTS\\\\Binn\\\\;C:\\\\PROGRA~2\\\\IBM\\\\SQLLIB\\\\BIN;C:\\\\PROGRA~2\\\\IBM\\\\SQLLIB\\\\FUNCTION;C:\\\\PROGRA~2\\\\IBM\\\\SQLLIB\\\\SAMPLES\\\\REPL;C:\\\\Program Files (x86)\\\\IBM\\\\Personal Communications\\\\;C:\\\\Program Files (x86)\\\\IBM\\\\Trace Facility\\\\;C:\\\\Program Files (x86)\\\\Microsoft SDKs\\\\TypeScript\\\\1.0\\\\;C:\\\\Program Files (x86)\\\\Java\\\\jdk1.8.0_121\\\\bin;C:\\\\apache-maven-3.3.9\\\\bin;C:\\\\apache-maven-3.3.9\\\\bin;C:\\\\Program Files\\\\Microsoft SQL Server\\\\130\\\\Tools\\\\Binn\\\\;C:\\\\Program Files (x86)\\\\VanDyke Software\\\\Clients\\\\;C:\\\\Program Files (x86)\\\\IBM\\\\gsk8\\\\lib;C:\\\\Program Files (x86)\\\\IBM\\\\gsk8\\\\bin;C:\\\\Program Files\\\\Microsoft\\\\Web Platform Installer\\\\;C:\\\\Program Files\\\\dotnet\\\\;C:\\\\Program Files\\\\Git\\\\cmd;C:\\\\Program Files (x86)\\\\Sennheiser\\\\SoftphoneSDK\\\\;C:\\\\Python35\\\\Scripts\\\\;C:\\\\Python35\\\\;C:\\\\Users\\\\IS96347\\\\AppData\\\\Local\\\\Continuum\\\\anaconda3;C:\\\\Users\\\\IS96347\\\\AppData\\\\Local\\\\Continuum\\\\anaconda3\\\\Library\\\\mingw-w64\\\\bin;C:\\\\Users\\\\IS96347\\\\AppData\\\\Local\\\\Continuum\\\\anaconda3\\\\Library\\\\usr\\\\bin;C:\\\\Users\\\\IS96347\\\\AppData\\\\Local\\\\Continuum\\\\anaconda3\\\\Library\\\\bin;C:\\\\Users\\\\IS96347\\\\AppData\\\\Local\\\\Continuum\\\\anaconda3\\\\Scripts;C:\\\\Program Files\\\\Microsoft VS Code\\\\bin;C:\\\\Users\\\\IS96347\\\\AppData\\\\Local\\\\Programs\\\\Fiddler',\n",
       " 'PATHEXT': '.COM;.EXE;.BAT;.CMD;.VBS;.VBE;.JS;.JSE;.WSF;.WSH;.MSC',\n",
       " 'PCOMM_ROOT': 'C:\\\\Program Files (x86)\\\\IBM\\\\Personal Communications\\\\',\n",
       " 'PROCESSOR_ARCHITECTURE': 'AMD64',\n",
       " 'PROCESSOR_IDENTIFIER': 'Intel64 Family 6 Model 78 Stepping 3, GenuineIntel',\n",
       " 'PROCESSOR_LEVEL': '6',\n",
       " 'PROCESSOR_REVISION': '4e03',\n",
       " 'PROGRAMDATA': 'C:\\\\ProgramData',\n",
       " 'PROGRAMFILES': 'C:\\\\Program Files',\n",
       " 'PROGRAMFILES(X86)': 'C:\\\\Program Files (x86)',\n",
       " 'PROGRAMW6432': 'C:\\\\Program Files',\n",
       " 'PROMPT': '(pyfinance) $P$G',\n",
       " 'PSMODULEPATH': 'C:\\\\Windows\\\\system32\\\\WindowsPowerShell\\\\v1.0\\\\Modules\\\\;C:\\\\Program Files (x86)\\\\Microsoft SQL Server\\\\120\\\\Tools\\\\PowerShell\\\\Modules\\\\;C:\\\\Program Files\\\\Microsoft Application Virtualization\\\\Client\\\\',\n",
       " 'PUBLIC': 'C:\\\\Users\\\\Public',\n",
       " 'PYTHONIOENCODING': '1254',\n",
       " 'RATIONAL_COMMON': 'C:\\\\IBM\\\\RationalSDLC\\\\Common',\n",
       " 'RATIONAL_COMMON_LIB': 'C:\\\\IBM\\\\RationalSDLC\\\\Common\\\\lib',\n",
       " 'RATIONAL_HOME': 'C:\\\\IBM\\\\RationalSDLC',\n",
       " 'RATIONAL_ICU4J_DIR': 'C:\\\\IBM\\\\RationalSDLC\\\\common\\\\java\\\\icu',\n",
       " 'RATIONAL_ICU4J_VERSION': '4_8',\n",
       " 'SYSTEMDRIVE': 'C:',\n",
       " 'SYSTEMROOT': 'C:\\\\Windows',\n",
       " 'TEMP': 'C:\\\\Users\\\\IS96347\\\\AppData\\\\Local\\\\Temp',\n",
       " 'TISDIR': 'C:\\\\IBM\\\\RationalSDLC\\\\common',\n",
       " 'TMP': 'C:\\\\Users\\\\IS96347\\\\AppData\\\\Local\\\\Temp',\n",
       " 'UATDATA': 'C:\\\\Windows\\\\CCM\\\\UATData\\\\D9F8C395-CAB8-491d-B8AC-179A1FE1BE77',\n",
       " 'USERDNSDOMAIN': 'GM.ISBANK.COM.TR',\n",
       " 'USERDOMAIN': 'ISBANK',\n",
       " 'USERDOMAIN_ROAMINGPROFILE': 'ISBANK',\n",
       " 'USERNAME': 'IS96347',\n",
       " 'USERPROFILE': 'C:\\\\Users\\\\IS96347',\n",
       " 'VS110COMNTOOLS': 'C:\\\\Program Files (x86)\\\\Microsoft Visual Studio 11.0\\\\Common7\\\\Tools\\\\',\n",
       " 'VS120COMNTOOLS': 'C:\\\\Program Files (x86)\\\\Microsoft Visual Studio 12.0\\\\Common7\\\\Tools\\\\',\n",
       " 'VS140COMNTOOLS': 'C:\\\\Program Files (x86)\\\\Microsoft Visual Studio 14.0\\\\Common7\\\\Tools\\\\',\n",
       " 'WINDIR': 'C:\\\\Windows',\n",
       " 'JPY_INTERRUPT_EVENT': '1216',\n",
       " 'IPY_INTERRUPT_EVENT': '1216',\n",
       " 'JPY_PARENT_PID': '1472',\n",
       " 'TERM': 'xterm-color',\n",
       " 'CLICOLOR': '1',\n",
       " 'PAGER': 'cat',\n",
       " 'GIT_PAGER': 'cat',\n",
       " 'MPLBACKEND': 'module://ipykernel.pylab.backend_inline',\n",
       " 'HTTP_PROXY': 'http://atlasproxy.isbank',\n",
       " 'HTTPS_PROXY': 'http://atlasproxy.isbank'}"
      ]
     },
     "execution_count": 6,
     "metadata": {},
     "output_type": "execute_result"
    }
   ],
   "source": [
    "%env"
   ]
  },
  {
   "cell_type": "code",
   "execution_count": 7,
   "metadata": {},
   "outputs": [],
   "source": [
    "import pandas as pd\n",
    "import quandl"
   ]
  },
  {
   "cell_type": "code",
   "execution_count": 8,
   "metadata": {},
   "outputs": [],
   "source": [
    "start = pd.to_datetime('2012-01-01')\n",
    "end = pd.to_datetime('2017-01-01')"
   ]
  },
  {
   "cell_type": "code",
   "execution_count": 9,
   "metadata": {},
   "outputs": [
    {
     "ename": "ProxyError",
     "evalue": "HTTPSConnectionPool(host='www.quandl.com', port=443): Max retries exceeded with url: /api/v3/datasets/WIKI/AAPL/data?order=asc&start_date=2012-01-01+00%3A00%3A00&end_date=2017-01-01+00%3A00%3A00&column_index=11 (Caused by ProxyError('Cannot connect to proxy.', OSError('Tunnel connection failed: 501 Not Implemented',)))",
     "output_type": "error",
     "traceback": [
      "\u001b[1;31m---------------------------------------------------------------------------\u001b[0m",
      "\u001b[1;31mOSError\u001b[0m                                   Traceback (most recent call last)",
      "\u001b[1;32m~\\AppData\\Local\\Continuum\\anaconda3\\envs\\pyfinance\\lib\\site-packages\\requests\\packages\\urllib3\\connectionpool.py\u001b[0m in \u001b[0;36murlopen\u001b[1;34m(self, method, url, body, headers, retries, redirect, assert_same_host, timeout, pool_timeout, release_conn, chunked, body_pos, **response_kw)\u001b[0m\n\u001b[0;32m    593\u001b[0m             \u001b[1;32mif\u001b[0m \u001b[0mis_new_proxy_conn\u001b[0m\u001b[1;33m:\u001b[0m\u001b[1;33m\u001b[0m\u001b[0m\n\u001b[1;32m--> 594\u001b[1;33m                 \u001b[0mself\u001b[0m\u001b[1;33m.\u001b[0m\u001b[0m_prepare_proxy\u001b[0m\u001b[1;33m(\u001b[0m\u001b[0mconn\u001b[0m\u001b[1;33m)\u001b[0m\u001b[1;33m\u001b[0m\u001b[0m\n\u001b[0m\u001b[0;32m    595\u001b[0m \u001b[1;33m\u001b[0m\u001b[0m\n",
      "\u001b[1;32m~\\AppData\\Local\\Continuum\\anaconda3\\envs\\pyfinance\\lib\\site-packages\\requests\\packages\\urllib3\\connectionpool.py\u001b[0m in \u001b[0;36m_prepare_proxy\u001b[1;34m(self, conn)\u001b[0m\n\u001b[0;32m    809\u001b[0m \u001b[1;33m\u001b[0m\u001b[0m\n\u001b[1;32m--> 810\u001b[1;33m         \u001b[0mconn\u001b[0m\u001b[1;33m.\u001b[0m\u001b[0mconnect\u001b[0m\u001b[1;33m(\u001b[0m\u001b[1;33m)\u001b[0m\u001b[1;33m\u001b[0m\u001b[0m\n\u001b[0m\u001b[0;32m    811\u001b[0m \u001b[1;33m\u001b[0m\u001b[0m\n",
      "\u001b[1;32m~\\AppData\\Local\\Continuum\\anaconda3\\envs\\pyfinance\\lib\\site-packages\\requests\\packages\\urllib3\\connection.py\u001b[0m in \u001b[0;36mconnect\u001b[1;34m(self)\u001b[0m\n\u001b[0;32m    293\u001b[0m             \u001b[1;31m# self._tunnel_host below.\u001b[0m\u001b[1;33m\u001b[0m\u001b[1;33m\u001b[0m\u001b[0m\n\u001b[1;32m--> 294\u001b[1;33m             \u001b[0mself\u001b[0m\u001b[1;33m.\u001b[0m\u001b[0m_tunnel\u001b[0m\u001b[1;33m(\u001b[0m\u001b[1;33m)\u001b[0m\u001b[1;33m\u001b[0m\u001b[0m\n\u001b[0m\u001b[0;32m    295\u001b[0m             \u001b[1;31m# Mark this connection as not reusable\u001b[0m\u001b[1;33m\u001b[0m\u001b[1;33m\u001b[0m\u001b[0m\n",
      "\u001b[1;32m~\\AppData\\Local\\Continuum\\anaconda3\\envs\\pyfinance\\lib\\http\\client.py\u001b[0m in \u001b[0;36m_tunnel\u001b[1;34m(self)\u001b[0m\n\u001b[0;32m    918\u001b[0m             raise OSError(\"Tunnel connection failed: %d %s\" % (code,\n\u001b[1;32m--> 919\u001b[1;33m                                                                message.strip()))\n\u001b[0m\u001b[0;32m    920\u001b[0m         \u001b[1;32mwhile\u001b[0m \u001b[1;32mTrue\u001b[0m\u001b[1;33m:\u001b[0m\u001b[1;33m\u001b[0m\u001b[0m\n",
      "\u001b[1;31mOSError\u001b[0m: Tunnel connection failed: 501 Not Implemented",
      "\nDuring handling of the above exception, another exception occurred:\n",
      "\u001b[1;31mMaxRetryError\u001b[0m                             Traceback (most recent call last)",
      "\u001b[1;32m~\\AppData\\Local\\Continuum\\anaconda3\\envs\\pyfinance\\lib\\site-packages\\requests\\adapters.py\u001b[0m in \u001b[0;36msend\u001b[1;34m(self, request, stream, timeout, verify, cert, proxies)\u001b[0m\n\u001b[0;32m    437\u001b[0m                     \u001b[0mretries\u001b[0m\u001b[1;33m=\u001b[0m\u001b[0mself\u001b[0m\u001b[1;33m.\u001b[0m\u001b[0mmax_retries\u001b[0m\u001b[1;33m,\u001b[0m\u001b[1;33m\u001b[0m\u001b[0m\n\u001b[1;32m--> 438\u001b[1;33m                     \u001b[0mtimeout\u001b[0m\u001b[1;33m=\u001b[0m\u001b[0mtimeout\u001b[0m\u001b[1;33m\u001b[0m\u001b[0m\n\u001b[0m\u001b[0;32m    439\u001b[0m                 )\n",
      "\u001b[1;32m~\\AppData\\Local\\Continuum\\anaconda3\\envs\\pyfinance\\lib\\site-packages\\requests\\packages\\urllib3\\connectionpool.py\u001b[0m in \u001b[0;36murlopen\u001b[1;34m(self, method, url, body, headers, retries, redirect, assert_same_host, timeout, pool_timeout, release_conn, chunked, body_pos, **response_kw)\u001b[0m\n\u001b[0;32m    648\u001b[0m             retries = retries.increment(method, url, error=e, _pool=self,\n\u001b[1;32m--> 649\u001b[1;33m                                         _stacktrace=sys.exc_info()[2])\n\u001b[0m\u001b[0;32m    650\u001b[0m             \u001b[0mretries\u001b[0m\u001b[1;33m.\u001b[0m\u001b[0msleep\u001b[0m\u001b[1;33m(\u001b[0m\u001b[1;33m)\u001b[0m\u001b[1;33m\u001b[0m\u001b[0m\n",
      "\u001b[1;32m~\\AppData\\Local\\Continuum\\anaconda3\\envs\\pyfinance\\lib\\site-packages\\requests\\packages\\urllib3\\util\\retry.py\u001b[0m in \u001b[0;36mincrement\u001b[1;34m(self, method, url, response, error, _pool, _stacktrace)\u001b[0m\n\u001b[0;32m    387\u001b[0m         \u001b[1;32mif\u001b[0m \u001b[0mnew_retry\u001b[0m\u001b[1;33m.\u001b[0m\u001b[0mis_exhausted\u001b[0m\u001b[1;33m(\u001b[0m\u001b[1;33m)\u001b[0m\u001b[1;33m:\u001b[0m\u001b[1;33m\u001b[0m\u001b[0m\n\u001b[1;32m--> 388\u001b[1;33m             \u001b[1;32mraise\u001b[0m \u001b[0mMaxRetryError\u001b[0m\u001b[1;33m(\u001b[0m\u001b[0m_pool\u001b[0m\u001b[1;33m,\u001b[0m \u001b[0murl\u001b[0m\u001b[1;33m,\u001b[0m \u001b[0merror\u001b[0m \u001b[1;32mor\u001b[0m \u001b[0mResponseError\u001b[0m\u001b[1;33m(\u001b[0m\u001b[0mcause\u001b[0m\u001b[1;33m)\u001b[0m\u001b[1;33m)\u001b[0m\u001b[1;33m\u001b[0m\u001b[0m\n\u001b[0m\u001b[0;32m    389\u001b[0m \u001b[1;33m\u001b[0m\u001b[0m\n",
      "\u001b[1;31mMaxRetryError\u001b[0m: HTTPSConnectionPool(host='www.quandl.com', port=443): Max retries exceeded with url: /api/v3/datasets/WIKI/AAPL/data?order=asc&start_date=2012-01-01+00%3A00%3A00&end_date=2017-01-01+00%3A00%3A00&column_index=11 (Caused by ProxyError('Cannot connect to proxy.', OSError('Tunnel connection failed: 501 Not Implemented',)))",
      "\nDuring handling of the above exception, another exception occurred:\n",
      "\u001b[1;31mProxyError\u001b[0m                                Traceback (most recent call last)",
      "\u001b[1;32m<ipython-input-9-7a5620674c35>\u001b[0m in \u001b[0;36m<module>\u001b[1;34m()\u001b[0m\n\u001b[1;32m----> 1\u001b[1;33m \u001b[0maapl\u001b[0m \u001b[1;33m=\u001b[0m \u001b[0mquandl\u001b[0m\u001b[1;33m.\u001b[0m\u001b[0mget\u001b[0m\u001b[1;33m(\u001b[0m\u001b[1;34m'WIKI/AAPL.11'\u001b[0m\u001b[1;33m,\u001b[0m\u001b[0mstart_date\u001b[0m\u001b[1;33m=\u001b[0m\u001b[0mstart\u001b[0m\u001b[1;33m,\u001b[0m\u001b[0mend_date\u001b[0m\u001b[1;33m=\u001b[0m\u001b[0mend\u001b[0m\u001b[1;33m)\u001b[0m\u001b[1;33m\u001b[0m\u001b[0m\n\u001b[0m\u001b[0;32m      2\u001b[0m \u001b[0mcisco\u001b[0m \u001b[1;33m=\u001b[0m \u001b[0mquandl\u001b[0m\u001b[1;33m.\u001b[0m\u001b[0mget\u001b[0m\u001b[1;33m(\u001b[0m\u001b[1;34m'WIKI/CSCO.11'\u001b[0m\u001b[1;33m,\u001b[0m\u001b[0mstart_date\u001b[0m\u001b[1;33m=\u001b[0m\u001b[0mstart\u001b[0m\u001b[1;33m,\u001b[0m\u001b[0mend_date\u001b[0m\u001b[1;33m=\u001b[0m\u001b[0mend\u001b[0m\u001b[1;33m)\u001b[0m\u001b[1;33m\u001b[0m\u001b[0m\n\u001b[0;32m      3\u001b[0m \u001b[0mibm\u001b[0m \u001b[1;33m=\u001b[0m \u001b[0mquandl\u001b[0m\u001b[1;33m.\u001b[0m\u001b[0mget\u001b[0m\u001b[1;33m(\u001b[0m\u001b[1;34m'WIKI/IBM.11'\u001b[0m\u001b[1;33m,\u001b[0m\u001b[0mstart_date\u001b[0m\u001b[1;33m=\u001b[0m\u001b[0mstart\u001b[0m\u001b[1;33m,\u001b[0m\u001b[0mend_date\u001b[0m\u001b[1;33m=\u001b[0m\u001b[0mend\u001b[0m\u001b[1;33m)\u001b[0m\u001b[1;33m\u001b[0m\u001b[0m\n\u001b[0;32m      4\u001b[0m \u001b[0mamzn\u001b[0m \u001b[1;33m=\u001b[0m \u001b[0mquandl\u001b[0m\u001b[1;33m.\u001b[0m\u001b[0mget\u001b[0m\u001b[1;33m(\u001b[0m\u001b[1;34m'WIKI/AMZN.11'\u001b[0m\u001b[1;33m,\u001b[0m\u001b[0mstart_date\u001b[0m\u001b[1;33m=\u001b[0m\u001b[0mstart\u001b[0m\u001b[1;33m,\u001b[0m\u001b[0mend_date\u001b[0m\u001b[1;33m=\u001b[0m\u001b[0mend\u001b[0m\u001b[1;33m)\u001b[0m\u001b[1;33m\u001b[0m\u001b[0m\n",
      "\u001b[1;32m~\\AppData\\Local\\Continuum\\anaconda3\\envs\\pyfinance\\lib\\site-packages\\quandl\\get.py\u001b[0m in \u001b[0;36mget\u001b[1;34m(dataset, **kwargs)\u001b[0m\n\u001b[0;32m     46\u001b[0m         \u001b[1;32mif\u001b[0m \u001b[0mdataset_args\u001b[0m\u001b[1;33m[\u001b[0m\u001b[1;34m'column_index'\u001b[0m\u001b[1;33m]\u001b[0m \u001b[1;32mis\u001b[0m \u001b[1;32mnot\u001b[0m \u001b[1;32mNone\u001b[0m\u001b[1;33m:\u001b[0m\u001b[1;33m\u001b[0m\u001b[0m\n\u001b[0;32m     47\u001b[0m             \u001b[0mkwargs\u001b[0m\u001b[1;33m.\u001b[0m\u001b[0mupdate\u001b[0m\u001b[1;33m(\u001b[0m\u001b[1;33m{\u001b[0m\u001b[1;34m'column_index'\u001b[0m\u001b[1;33m:\u001b[0m \u001b[0mdataset_args\u001b[0m\u001b[1;33m[\u001b[0m\u001b[1;34m'column_index'\u001b[0m\u001b[1;33m]\u001b[0m\u001b[1;33m}\u001b[0m\u001b[1;33m)\u001b[0m\u001b[1;33m\u001b[0m\u001b[0m\n\u001b[1;32m---> 48\u001b[1;33m         \u001b[0mdata\u001b[0m \u001b[1;33m=\u001b[0m \u001b[0mDataset\u001b[0m\u001b[1;33m(\u001b[0m\u001b[0mdataset_args\u001b[0m\u001b[1;33m[\u001b[0m\u001b[1;34m'code'\u001b[0m\u001b[1;33m]\u001b[0m\u001b[1;33m)\u001b[0m\u001b[1;33m.\u001b[0m\u001b[0mdata\u001b[0m\u001b[1;33m(\u001b[0m\u001b[0mparams\u001b[0m\u001b[1;33m=\u001b[0m\u001b[0mkwargs\u001b[0m\u001b[1;33m,\u001b[0m \u001b[0mhandle_column_not_found\u001b[0m\u001b[1;33m=\u001b[0m\u001b[1;32mTrue\u001b[0m\u001b[1;33m)\u001b[0m\u001b[1;33m\u001b[0m\u001b[0m\n\u001b[0m\u001b[0;32m     49\u001b[0m     \u001b[1;31m# Array\u001b[0m\u001b[1;33m\u001b[0m\u001b[1;33m\u001b[0m\u001b[0m\n\u001b[0;32m     50\u001b[0m     \u001b[1;32melif\u001b[0m \u001b[0misinstance\u001b[0m\u001b[1;33m(\u001b[0m\u001b[0mdataset\u001b[0m\u001b[1;33m,\u001b[0m \u001b[0mlist\u001b[0m\u001b[1;33m)\u001b[0m\u001b[1;33m:\u001b[0m\u001b[1;33m\u001b[0m\u001b[0m\n",
      "\u001b[1;32m~\\AppData\\Local\\Continuum\\anaconda3\\envs\\pyfinance\\lib\\site-packages\\quandl\\model\\dataset.py\u001b[0m in \u001b[0;36mdata\u001b[1;34m(self, **options)\u001b[0m\n\u001b[0;32m     45\u001b[0m         \u001b[0mupdated_options\u001b[0m \u001b[1;33m=\u001b[0m \u001b[0mUtil\u001b[0m\u001b[1;33m.\u001b[0m\u001b[0mmerge_options\u001b[0m\u001b[1;33m(\u001b[0m\u001b[1;34m'params'\u001b[0m\u001b[1;33m,\u001b[0m \u001b[0mparams\u001b[0m\u001b[1;33m,\u001b[0m \u001b[1;33m**\u001b[0m\u001b[0moptions\u001b[0m\u001b[1;33m)\u001b[0m\u001b[1;33m\u001b[0m\u001b[0m\n\u001b[0;32m     46\u001b[0m         \u001b[1;32mtry\u001b[0m\u001b[1;33m:\u001b[0m\u001b[1;33m\u001b[0m\u001b[0m\n\u001b[1;32m---> 47\u001b[1;33m             \u001b[1;32mreturn\u001b[0m \u001b[0mData\u001b[0m\u001b[1;33m.\u001b[0m\u001b[0mall\u001b[0m\u001b[1;33m(\u001b[0m\u001b[1;33m**\u001b[0m\u001b[0mupdated_options\u001b[0m\u001b[1;33m)\u001b[0m\u001b[1;33m\u001b[0m\u001b[0m\n\u001b[0m\u001b[0;32m     48\u001b[0m         \u001b[1;32mexcept\u001b[0m \u001b[0mNotFoundError\u001b[0m\u001b[1;33m:\u001b[0m\u001b[1;33m\u001b[0m\u001b[0m\n\u001b[0;32m     49\u001b[0m             \u001b[1;32mif\u001b[0m \u001b[0mhandle_not_found_error\u001b[0m\u001b[1;33m:\u001b[0m\u001b[1;33m\u001b[0m\u001b[0m\n",
      "\u001b[1;32m~\\AppData\\Local\\Continuum\\anaconda3\\envs\\pyfinance\\lib\\site-packages\\quandl\\operations\\list.py\u001b[0m in \u001b[0;36mall\u001b[1;34m(cls, **options)\u001b[0m\n\u001b[0;32m     12\u001b[0m             \u001b[0moptions\u001b[0m\u001b[1;33m[\u001b[0m\u001b[1;34m'params'\u001b[0m\u001b[1;33m]\u001b[0m \u001b[1;33m=\u001b[0m \u001b[1;33m{\u001b[0m\u001b[1;33m}\u001b[0m\u001b[1;33m\u001b[0m\u001b[0m\n\u001b[0;32m     13\u001b[0m         \u001b[0mpath\u001b[0m \u001b[1;33m=\u001b[0m \u001b[0mUtil\u001b[0m\u001b[1;33m.\u001b[0m\u001b[0mconstructed_path\u001b[0m\u001b[1;33m(\u001b[0m\u001b[0mcls\u001b[0m\u001b[1;33m.\u001b[0m\u001b[0mlist_path\u001b[0m\u001b[1;33m(\u001b[0m\u001b[1;33m)\u001b[0m\u001b[1;33m,\u001b[0m \u001b[0moptions\u001b[0m\u001b[1;33m[\u001b[0m\u001b[1;34m'params'\u001b[0m\u001b[1;33m]\u001b[0m\u001b[1;33m)\u001b[0m\u001b[1;33m\u001b[0m\u001b[0m\n\u001b[1;32m---> 14\u001b[1;33m         \u001b[0mr\u001b[0m \u001b[1;33m=\u001b[0m \u001b[0mConnection\u001b[0m\u001b[1;33m.\u001b[0m\u001b[0mrequest\u001b[0m\u001b[1;33m(\u001b[0m\u001b[1;34m'get'\u001b[0m\u001b[1;33m,\u001b[0m \u001b[0mpath\u001b[0m\u001b[1;33m,\u001b[0m \u001b[1;33m**\u001b[0m\u001b[0moptions\u001b[0m\u001b[1;33m)\u001b[0m\u001b[1;33m\u001b[0m\u001b[0m\n\u001b[0m\u001b[0;32m     15\u001b[0m         \u001b[0mresponse_data\u001b[0m \u001b[1;33m=\u001b[0m \u001b[0mr\u001b[0m\u001b[1;33m.\u001b[0m\u001b[0mjson\u001b[0m\u001b[1;33m(\u001b[0m\u001b[1;33m)\u001b[0m\u001b[1;33m\u001b[0m\u001b[0m\n\u001b[0;32m     16\u001b[0m         \u001b[0mUtil\u001b[0m\u001b[1;33m.\u001b[0m\u001b[0mconvert_to_dates\u001b[0m\u001b[1;33m(\u001b[0m\u001b[0mresponse_data\u001b[0m\u001b[1;33m)\u001b[0m\u001b[1;33m\u001b[0m\u001b[0m\n",
      "\u001b[1;32m~\\AppData\\Local\\Continuum\\anaconda3\\envs\\pyfinance\\lib\\site-packages\\quandl\\connection.py\u001b[0m in \u001b[0;36mrequest\u001b[1;34m(cls, http_verb, url, **options)\u001b[0m\n\u001b[0;32m     34\u001b[0m         \u001b[0mabs_url\u001b[0m \u001b[1;33m=\u001b[0m \u001b[1;34m'%s/%s'\u001b[0m \u001b[1;33m%\u001b[0m \u001b[1;33m(\u001b[0m\u001b[0mApiConfig\u001b[0m\u001b[1;33m.\u001b[0m\u001b[0mapi_base\u001b[0m\u001b[1;33m,\u001b[0m \u001b[0murl\u001b[0m\u001b[1;33m)\u001b[0m\u001b[1;33m\u001b[0m\u001b[0m\n\u001b[0;32m     35\u001b[0m \u001b[1;33m\u001b[0m\u001b[0m\n\u001b[1;32m---> 36\u001b[1;33m         \u001b[1;32mreturn\u001b[0m \u001b[0mcls\u001b[0m\u001b[1;33m.\u001b[0m\u001b[0mexecute_request\u001b[0m\u001b[1;33m(\u001b[0m\u001b[0mhttp_verb\u001b[0m\u001b[1;33m,\u001b[0m \u001b[0mabs_url\u001b[0m\u001b[1;33m,\u001b[0m \u001b[1;33m**\u001b[0m\u001b[0moptions\u001b[0m\u001b[1;33m)\u001b[0m\u001b[1;33m\u001b[0m\u001b[0m\n\u001b[0m\u001b[0;32m     37\u001b[0m \u001b[1;33m\u001b[0m\u001b[0m\n\u001b[0;32m     38\u001b[0m     \u001b[1;33m@\u001b[0m\u001b[0mclassmethod\u001b[0m\u001b[1;33m\u001b[0m\u001b[0m\n",
      "\u001b[1;32m~\\AppData\\Local\\Continuum\\anaconda3\\envs\\pyfinance\\lib\\site-packages\\quandl\\connection.py\u001b[0m in \u001b[0;36mexecute_request\u001b[1;34m(cls, http_verb, url, **options)\u001b[0m\n\u001b[0;32m     48\u001b[0m             \u001b[1;32mif\u001b[0m \u001b[0me\u001b[0m\u001b[1;33m.\u001b[0m\u001b[0mresponse\u001b[0m\u001b[1;33m:\u001b[0m\u001b[1;33m\u001b[0m\u001b[0m\n\u001b[0;32m     49\u001b[0m                 \u001b[0mcls\u001b[0m\u001b[1;33m.\u001b[0m\u001b[0mhandle_api_error\u001b[0m\u001b[1;33m(\u001b[0m\u001b[0me\u001b[0m\u001b[1;33m.\u001b[0m\u001b[0mresponse\u001b[0m\u001b[1;33m)\u001b[0m\u001b[1;33m\u001b[0m\u001b[0m\n\u001b[1;32m---> 50\u001b[1;33m             \u001b[1;32mraise\u001b[0m \u001b[0me\u001b[0m\u001b[1;33m\u001b[0m\u001b[0m\n\u001b[0m\u001b[0;32m     51\u001b[0m \u001b[1;33m\u001b[0m\u001b[0m\n\u001b[0;32m     52\u001b[0m     \u001b[1;33m@\u001b[0m\u001b[0mclassmethod\u001b[0m\u001b[1;33m\u001b[0m\u001b[0m\n",
      "\u001b[1;32m~\\AppData\\Local\\Continuum\\anaconda3\\envs\\pyfinance\\lib\\site-packages\\quandl\\connection.py\u001b[0m in \u001b[0;36mexecute_request\u001b[1;34m(cls, http_verb, url, **options)\u001b[0m\n\u001b[0;32m     40\u001b[0m         \u001b[1;32mtry\u001b[0m\u001b[1;33m:\u001b[0m\u001b[1;33m\u001b[0m\u001b[0m\n\u001b[0;32m     41\u001b[0m             \u001b[0mfunc\u001b[0m \u001b[1;33m=\u001b[0m \u001b[0mgetattr\u001b[0m\u001b[1;33m(\u001b[0m\u001b[0mrequests\u001b[0m\u001b[1;33m,\u001b[0m \u001b[0mhttp_verb\u001b[0m\u001b[1;33m)\u001b[0m\u001b[1;33m\u001b[0m\u001b[0m\n\u001b[1;32m---> 42\u001b[1;33m             \u001b[0mresponse\u001b[0m \u001b[1;33m=\u001b[0m \u001b[0mfunc\u001b[0m\u001b[1;33m(\u001b[0m\u001b[0murl\u001b[0m\u001b[1;33m,\u001b[0m \u001b[1;33m**\u001b[0m\u001b[0moptions\u001b[0m\u001b[1;33m)\u001b[0m\u001b[1;33m\u001b[0m\u001b[0m\n\u001b[0m\u001b[0;32m     43\u001b[0m             \u001b[1;32mif\u001b[0m \u001b[0mresponse\u001b[0m\u001b[1;33m.\u001b[0m\u001b[0mstatus_code\u001b[0m \u001b[1;33m<\u001b[0m \u001b[1;36m200\u001b[0m \u001b[1;32mor\u001b[0m \u001b[0mresponse\u001b[0m\u001b[1;33m.\u001b[0m\u001b[0mstatus_code\u001b[0m \u001b[1;33m>=\u001b[0m \u001b[1;36m300\u001b[0m\u001b[1;33m:\u001b[0m\u001b[1;33m\u001b[0m\u001b[0m\n\u001b[0;32m     44\u001b[0m                 \u001b[0mcls\u001b[0m\u001b[1;33m.\u001b[0m\u001b[0mhandle_api_error\u001b[0m\u001b[1;33m(\u001b[0m\u001b[0mresponse\u001b[0m\u001b[1;33m)\u001b[0m\u001b[1;33m\u001b[0m\u001b[0m\n",
      "\u001b[1;32m~\\AppData\\Local\\Continuum\\anaconda3\\envs\\pyfinance\\lib\\site-packages\\requests\\api.py\u001b[0m in \u001b[0;36mget\u001b[1;34m(url, params, **kwargs)\u001b[0m\n\u001b[0;32m     70\u001b[0m \u001b[1;33m\u001b[0m\u001b[0m\n\u001b[0;32m     71\u001b[0m     \u001b[0mkwargs\u001b[0m\u001b[1;33m.\u001b[0m\u001b[0msetdefault\u001b[0m\u001b[1;33m(\u001b[0m\u001b[1;34m'allow_redirects'\u001b[0m\u001b[1;33m,\u001b[0m \u001b[1;32mTrue\u001b[0m\u001b[1;33m)\u001b[0m\u001b[1;33m\u001b[0m\u001b[0m\n\u001b[1;32m---> 72\u001b[1;33m     \u001b[1;32mreturn\u001b[0m \u001b[0mrequest\u001b[0m\u001b[1;33m(\u001b[0m\u001b[1;34m'get'\u001b[0m\u001b[1;33m,\u001b[0m \u001b[0murl\u001b[0m\u001b[1;33m,\u001b[0m \u001b[0mparams\u001b[0m\u001b[1;33m=\u001b[0m\u001b[0mparams\u001b[0m\u001b[1;33m,\u001b[0m \u001b[1;33m**\u001b[0m\u001b[0mkwargs\u001b[0m\u001b[1;33m)\u001b[0m\u001b[1;33m\u001b[0m\u001b[0m\n\u001b[0m\u001b[0;32m     73\u001b[0m \u001b[1;33m\u001b[0m\u001b[0m\n\u001b[0;32m     74\u001b[0m \u001b[1;33m\u001b[0m\u001b[0m\n",
      "\u001b[1;32m~\\AppData\\Local\\Continuum\\anaconda3\\envs\\pyfinance\\lib\\site-packages\\requests\\api.py\u001b[0m in \u001b[0;36mrequest\u001b[1;34m(method, url, **kwargs)\u001b[0m\n\u001b[0;32m     56\u001b[0m     \u001b[1;31m# cases, and look like a memory leak in others.\u001b[0m\u001b[1;33m\u001b[0m\u001b[1;33m\u001b[0m\u001b[0m\n\u001b[0;32m     57\u001b[0m     \u001b[1;32mwith\u001b[0m \u001b[0msessions\u001b[0m\u001b[1;33m.\u001b[0m\u001b[0mSession\u001b[0m\u001b[1;33m(\u001b[0m\u001b[1;33m)\u001b[0m \u001b[1;32mas\u001b[0m \u001b[0msession\u001b[0m\u001b[1;33m:\u001b[0m\u001b[1;33m\u001b[0m\u001b[0m\n\u001b[1;32m---> 58\u001b[1;33m         \u001b[1;32mreturn\u001b[0m \u001b[0msession\u001b[0m\u001b[1;33m.\u001b[0m\u001b[0mrequest\u001b[0m\u001b[1;33m(\u001b[0m\u001b[0mmethod\u001b[0m\u001b[1;33m=\u001b[0m\u001b[0mmethod\u001b[0m\u001b[1;33m,\u001b[0m \u001b[0murl\u001b[0m\u001b[1;33m=\u001b[0m\u001b[0murl\u001b[0m\u001b[1;33m,\u001b[0m \u001b[1;33m**\u001b[0m\u001b[0mkwargs\u001b[0m\u001b[1;33m)\u001b[0m\u001b[1;33m\u001b[0m\u001b[0m\n\u001b[0m\u001b[0;32m     59\u001b[0m \u001b[1;33m\u001b[0m\u001b[0m\n\u001b[0;32m     60\u001b[0m \u001b[1;33m\u001b[0m\u001b[0m\n",
      "\u001b[1;32m~\\AppData\\Local\\Continuum\\anaconda3\\envs\\pyfinance\\lib\\site-packages\\requests\\sessions.py\u001b[0m in \u001b[0;36mrequest\u001b[1;34m(self, method, url, params, data, headers, cookies, files, auth, timeout, allow_redirects, proxies, hooks, stream, verify, cert, json)\u001b[0m\n\u001b[0;32m    516\u001b[0m         }\n\u001b[0;32m    517\u001b[0m         \u001b[0msend_kwargs\u001b[0m\u001b[1;33m.\u001b[0m\u001b[0mupdate\u001b[0m\u001b[1;33m(\u001b[0m\u001b[0msettings\u001b[0m\u001b[1;33m)\u001b[0m\u001b[1;33m\u001b[0m\u001b[0m\n\u001b[1;32m--> 518\u001b[1;33m         \u001b[0mresp\u001b[0m \u001b[1;33m=\u001b[0m \u001b[0mself\u001b[0m\u001b[1;33m.\u001b[0m\u001b[0msend\u001b[0m\u001b[1;33m(\u001b[0m\u001b[0mprep\u001b[0m\u001b[1;33m,\u001b[0m \u001b[1;33m**\u001b[0m\u001b[0msend_kwargs\u001b[0m\u001b[1;33m)\u001b[0m\u001b[1;33m\u001b[0m\u001b[0m\n\u001b[0m\u001b[0;32m    519\u001b[0m \u001b[1;33m\u001b[0m\u001b[0m\n\u001b[0;32m    520\u001b[0m         \u001b[1;32mreturn\u001b[0m \u001b[0mresp\u001b[0m\u001b[1;33m\u001b[0m\u001b[0m\n",
      "\u001b[1;32m~\\AppData\\Local\\Continuum\\anaconda3\\envs\\pyfinance\\lib\\site-packages\\requests\\sessions.py\u001b[0m in \u001b[0;36msend\u001b[1;34m(self, request, **kwargs)\u001b[0m\n\u001b[0;32m    637\u001b[0m \u001b[1;33m\u001b[0m\u001b[0m\n\u001b[0;32m    638\u001b[0m         \u001b[1;31m# Send the request\u001b[0m\u001b[1;33m\u001b[0m\u001b[1;33m\u001b[0m\u001b[0m\n\u001b[1;32m--> 639\u001b[1;33m         \u001b[0mr\u001b[0m \u001b[1;33m=\u001b[0m \u001b[0madapter\u001b[0m\u001b[1;33m.\u001b[0m\u001b[0msend\u001b[0m\u001b[1;33m(\u001b[0m\u001b[0mrequest\u001b[0m\u001b[1;33m,\u001b[0m \u001b[1;33m**\u001b[0m\u001b[0mkwargs\u001b[0m\u001b[1;33m)\u001b[0m\u001b[1;33m\u001b[0m\u001b[0m\n\u001b[0m\u001b[0;32m    640\u001b[0m \u001b[1;33m\u001b[0m\u001b[0m\n\u001b[0;32m    641\u001b[0m         \u001b[1;31m# Total elapsed time of the request (approximately)\u001b[0m\u001b[1;33m\u001b[0m\u001b[1;33m\u001b[0m\u001b[0m\n",
      "\u001b[1;32m~\\AppData\\Local\\Continuum\\anaconda3\\envs\\pyfinance\\lib\\site-packages\\requests\\adapters.py\u001b[0m in \u001b[0;36msend\u001b[1;34m(self, request, stream, timeout, verify, cert, proxies)\u001b[0m\n\u001b[0;32m    498\u001b[0m \u001b[1;33m\u001b[0m\u001b[0m\n\u001b[0;32m    499\u001b[0m             \u001b[1;32mif\u001b[0m \u001b[0misinstance\u001b[0m\u001b[1;33m(\u001b[0m\u001b[0me\u001b[0m\u001b[1;33m.\u001b[0m\u001b[0mreason\u001b[0m\u001b[1;33m,\u001b[0m \u001b[0m_ProxyError\u001b[0m\u001b[1;33m)\u001b[0m\u001b[1;33m:\u001b[0m\u001b[1;33m\u001b[0m\u001b[0m\n\u001b[1;32m--> 500\u001b[1;33m                 \u001b[1;32mraise\u001b[0m \u001b[0mProxyError\u001b[0m\u001b[1;33m(\u001b[0m\u001b[0me\u001b[0m\u001b[1;33m,\u001b[0m \u001b[0mrequest\u001b[0m\u001b[1;33m=\u001b[0m\u001b[0mrequest\u001b[0m\u001b[1;33m)\u001b[0m\u001b[1;33m\u001b[0m\u001b[0m\n\u001b[0m\u001b[0;32m    501\u001b[0m \u001b[1;33m\u001b[0m\u001b[0m\n\u001b[0;32m    502\u001b[0m             \u001b[1;32mraise\u001b[0m \u001b[0mConnectionError\u001b[0m\u001b[1;33m(\u001b[0m\u001b[0me\u001b[0m\u001b[1;33m,\u001b[0m \u001b[0mrequest\u001b[0m\u001b[1;33m=\u001b[0m\u001b[0mrequest\u001b[0m\u001b[1;33m)\u001b[0m\u001b[1;33m\u001b[0m\u001b[0m\n",
      "\u001b[1;31mProxyError\u001b[0m: HTTPSConnectionPool(host='www.quandl.com', port=443): Max retries exceeded with url: /api/v3/datasets/WIKI/AAPL/data?order=asc&start_date=2012-01-01+00%3A00%3A00&end_date=2017-01-01+00%3A00%3A00&column_index=11 (Caused by ProxyError('Cannot connect to proxy.', OSError('Tunnel connection failed: 501 Not Implemented',)))"
     ]
    }
   ],
   "source": [
    "aapl = quandl.get('WIKI/AAPL.11',start_date=start,end_date=end)\n",
    "cisco = quandl.get('WIKI/CSCO.11',start_date=start,end_date=end)\n",
    "ibm = quandl.get('WIKI/IBM.11',start_date=start,end_date=end)\n",
    "amzn = quandl.get('WIKI/AMZN.11',start_date=start,end_date=end)"
   ]
  },
  {
   "cell_type": "code",
   "execution_count": 12,
   "metadata": {},
   "outputs": [],
   "source": [
    "aapl = pd.read_csv(\"../09-Python-Finance-Fundamentals/AAPL_CLOSE\", index_col=\"Date\", parse_dates=True)\n",
    "cisco = pd.read_csv(\"../09-Python-Finance-Fundamentals/CISCO_CLOSE\", index_col=\"Date\", parse_dates=True)\n",
    "ibm = pd.read_csv(\"../09-Python-Finance-Fundamentals/IBM_CLOSE\", index_col=\"Date\", parse_dates=True)\n",
    "amzn = pd.read_csv(\"../09-Python-Finance-Fundamentals/AMZN_CLOSE\", index_col=\"Date\", parse_dates=True)"
   ]
  },
  {
   "cell_type": "code",
   "execution_count": 13,
   "metadata": {},
   "outputs": [
    {
     "data": {
      "text/html": [
       "<div>\n",
       "<style>\n",
       "    .dataframe thead tr:only-child th {\n",
       "        text-align: right;\n",
       "    }\n",
       "\n",
       "    .dataframe thead th {\n",
       "        text-align: left;\n",
       "    }\n",
       "\n",
       "    .dataframe tbody tr th {\n",
       "        vertical-align: top;\n",
       "    }\n",
       "</style>\n",
       "<table border=\"1\" class=\"dataframe\">\n",
       "  <thead>\n",
       "    <tr style=\"text-align: right;\">\n",
       "      <th></th>\n",
       "      <th>Adj. Close</th>\n",
       "    </tr>\n",
       "    <tr>\n",
       "      <th>Date</th>\n",
       "      <th></th>\n",
       "    </tr>\n",
       "  </thead>\n",
       "  <tbody>\n",
       "    <tr>\n",
       "      <th>2012-01-03</th>\n",
       "      <td>53.063218</td>\n",
       "    </tr>\n",
       "    <tr>\n",
       "      <th>2012-01-04</th>\n",
       "      <td>53.348386</td>\n",
       "    </tr>\n",
       "    <tr>\n",
       "      <th>2012-01-05</th>\n",
       "      <td>53.940658</td>\n",
       "    </tr>\n",
       "    <tr>\n",
       "      <th>2012-01-06</th>\n",
       "      <td>54.504543</td>\n",
       "    </tr>\n",
       "    <tr>\n",
       "      <th>2012-01-09</th>\n",
       "      <td>54.418089</td>\n",
       "    </tr>\n",
       "  </tbody>\n",
       "</table>\n",
       "</div>"
      ],
      "text/plain": [
       "            Adj. Close\n",
       "Date                  \n",
       "2012-01-03   53.063218\n",
       "2012-01-04   53.348386\n",
       "2012-01-05   53.940658\n",
       "2012-01-06   54.504543\n",
       "2012-01-09   54.418089"
      ]
     },
     "execution_count": 13,
     "metadata": {},
     "output_type": "execute_result"
    }
   ],
   "source": [
    "aapl.head()"
   ]
  },
  {
   "cell_type": "markdown",
   "metadata": {},
   "source": [
    "## Normalize Prices"
   ]
  },
  {
   "cell_type": "code",
   "execution_count": 14,
   "metadata": {},
   "outputs": [],
   "source": [
    "for stock_df in (aapl,cisco,ibm,amzn):\n",
    "    stock_df['Normed Return'] = stock_df['Adj. Close']/stock_df.iloc[0]['Adj. Close']"
   ]
  },
  {
   "cell_type": "code",
   "execution_count": 15,
   "metadata": {},
   "outputs": [
    {
     "data": {
      "text/html": [
       "<div>\n",
       "<style>\n",
       "    .dataframe thead tr:only-child th {\n",
       "        text-align: right;\n",
       "    }\n",
       "\n",
       "    .dataframe thead th {\n",
       "        text-align: left;\n",
       "    }\n",
       "\n",
       "    .dataframe tbody tr th {\n",
       "        vertical-align: top;\n",
       "    }\n",
       "</style>\n",
       "<table border=\"1\" class=\"dataframe\">\n",
       "  <thead>\n",
       "    <tr style=\"text-align: right;\">\n",
       "      <th></th>\n",
       "      <th>Adj. Close</th>\n",
       "      <th>Normed Return</th>\n",
       "    </tr>\n",
       "    <tr>\n",
       "      <th>Date</th>\n",
       "      <th></th>\n",
       "      <th></th>\n",
       "    </tr>\n",
       "  </thead>\n",
       "  <tbody>\n",
       "    <tr>\n",
       "      <th>2012-01-03</th>\n",
       "      <td>53.063218</td>\n",
       "      <td>1.000000</td>\n",
       "    </tr>\n",
       "    <tr>\n",
       "      <th>2012-01-04</th>\n",
       "      <td>53.348386</td>\n",
       "      <td>1.005374</td>\n",
       "    </tr>\n",
       "    <tr>\n",
       "      <th>2012-01-05</th>\n",
       "      <td>53.940658</td>\n",
       "      <td>1.016536</td>\n",
       "    </tr>\n",
       "    <tr>\n",
       "      <th>2012-01-06</th>\n",
       "      <td>54.504543</td>\n",
       "      <td>1.027162</td>\n",
       "    </tr>\n",
       "    <tr>\n",
       "      <th>2012-01-09</th>\n",
       "      <td>54.418089</td>\n",
       "      <td>1.025533</td>\n",
       "    </tr>\n",
       "  </tbody>\n",
       "</table>\n",
       "</div>"
      ],
      "text/plain": [
       "            Adj. Close  Normed Return\n",
       "Date                                 \n",
       "2012-01-03   53.063218       1.000000\n",
       "2012-01-04   53.348386       1.005374\n",
       "2012-01-05   53.940658       1.016536\n",
       "2012-01-06   54.504543       1.027162\n",
       "2012-01-09   54.418089       1.025533"
      ]
     },
     "execution_count": 15,
     "metadata": {},
     "output_type": "execute_result"
    }
   ],
   "source": [
    "aapl.head()"
   ]
  },
  {
   "cell_type": "code",
   "execution_count": 16,
   "metadata": {},
   "outputs": [
    {
     "data": {
      "text/html": [
       "<div>\n",
       "<style>\n",
       "    .dataframe thead tr:only-child th {\n",
       "        text-align: right;\n",
       "    }\n",
       "\n",
       "    .dataframe thead th {\n",
       "        text-align: left;\n",
       "    }\n",
       "\n",
       "    .dataframe tbody tr th {\n",
       "        vertical-align: top;\n",
       "    }\n",
       "</style>\n",
       "<table border=\"1\" class=\"dataframe\">\n",
       "  <thead>\n",
       "    <tr style=\"text-align: right;\">\n",
       "      <th></th>\n",
       "      <th>Adj. Close</th>\n",
       "      <th>Normed Return</th>\n",
       "    </tr>\n",
       "    <tr>\n",
       "      <th>Date</th>\n",
       "      <th></th>\n",
       "      <th></th>\n",
       "    </tr>\n",
       "  </thead>\n",
       "  <tbody>\n",
       "    <tr>\n",
       "      <th>2016-12-23</th>\n",
       "      <td>115.547742</td>\n",
       "      <td>2.177549</td>\n",
       "    </tr>\n",
       "    <tr>\n",
       "      <th>2016-12-27</th>\n",
       "      <td>116.281568</td>\n",
       "      <td>2.191378</td>\n",
       "    </tr>\n",
       "    <tr>\n",
       "      <th>2016-12-28</th>\n",
       "      <td>115.785740</td>\n",
       "      <td>2.182034</td>\n",
       "    </tr>\n",
       "    <tr>\n",
       "      <th>2016-12-29</th>\n",
       "      <td>115.755990</td>\n",
       "      <td>2.181473</td>\n",
       "    </tr>\n",
       "    <tr>\n",
       "      <th>2016-12-30</th>\n",
       "      <td>114.853583</td>\n",
       "      <td>2.164467</td>\n",
       "    </tr>\n",
       "  </tbody>\n",
       "</table>\n",
       "</div>"
      ],
      "text/plain": [
       "            Adj. Close  Normed Return\n",
       "Date                                 \n",
       "2016-12-23  115.547742       2.177549\n",
       "2016-12-27  116.281568       2.191378\n",
       "2016-12-28  115.785740       2.182034\n",
       "2016-12-29  115.755990       2.181473\n",
       "2016-12-30  114.853583       2.164467"
      ]
     },
     "execution_count": 16,
     "metadata": {},
     "output_type": "execute_result"
    }
   ],
   "source": [
    "aapl.tail()"
   ]
  },
  {
   "cell_type": "markdown",
   "metadata": {},
   "source": [
    "## Allocations\n",
    "\n",
    "Let's pretend we had the following allocations for our total portfolio:\n",
    "\n",
    "* 30% in Apple\n",
    "* 20% in Google/Alphabet\n",
    "* 40% in Amazon\n",
    "* 10% in IBM\n",
    "\n",
    "Let's have these values be reflected by multiplying our Norme Return by out Allocations"
   ]
  },
  {
   "cell_type": "code",
   "execution_count": 18,
   "metadata": {},
   "outputs": [
    {
     "data": {
      "text/plain": [
       "[(            Adj. Close  Normed Return\n",
       "  Date                                 \n",
       "  2012-01-03   53.063218       1.000000\n",
       "  2012-01-04   53.348386       1.005374\n",
       "  2012-01-05   53.940658       1.016536\n",
       "  2012-01-06   54.504543       1.027162\n",
       "  2012-01-09   54.418089       1.025533\n",
       "  2012-01-10   54.612933       1.029205\n",
       "  2012-01-11   54.523898       1.027527\n",
       "  2012-01-12   54.374217       1.024706\n",
       "  2012-01-13   54.170341       1.020864\n",
       "  2012-01-17   54.801324       1.032755\n",
       "  2012-01-18   55.370370       1.043479\n",
       "  2012-01-19   55.194882       1.040172\n",
       "  2012-01-20   54.233569       1.022056\n",
       "  2012-01-23   55.150881       1.039343\n",
       "  2012-01-24   54.247763       1.022323\n",
       "  2012-01-25   57.634941       1.086156\n",
       "  2012-01-26   57.372999       1.081220\n",
       "  2012-01-27   57.714943       1.087664\n",
       "  2012-01-30   58.454316       1.101598\n",
       "  2012-01-31   58.902069       1.110036\n",
       "  2012-02-01   58.864648       1.109331\n",
       "  2012-02-02   58.726580       1.106729\n",
       "  2012-02-03   59.314982       1.117817\n",
       "  2012-02-06   59.868544       1.128249\n",
       "  2012-02-07   60.495655       1.140068\n",
       "  2012-02-08   61.508583       1.159157\n",
       "  2012-02-09   63.636377       1.199256\n",
       "  2012-02-10   63.668635       1.199864\n",
       "  2012-02-13   64.853180       1.222187\n",
       "  2012-02-14   65.738363       1.238869\n",
       "  ...                ...            ...\n",
       "  2016-11-17  109.032563       2.054767\n",
       "  2016-11-18  109.141645       2.056823\n",
       "  2016-11-21  110.797711       2.088032\n",
       "  2016-11-22  110.867126       2.089340\n",
       "  2016-11-23  110.301883       2.078688\n",
       "  2016-11-25  110.857210       2.089154\n",
       "  2016-11-28  110.639046       2.085042\n",
       "  2016-11-29  110.529963       2.082986\n",
       "  2016-11-30  109.597807       2.065420\n",
       "  2016-12-01  108.576401       2.046171\n",
       "  2016-12-02  108.982980       2.053833\n",
       "  2016-12-05  108.199572       2.039069\n",
       "  2016-12-06  109.032563       2.054767\n",
       "  2016-12-07  110.103551       2.074951\n",
       "  2016-12-08  111.184456       2.095321\n",
       "  2016-12-09  112.999187       2.129520\n",
       "  2016-12-12  112.354610       2.117373\n",
       "  2016-12-13  114.228840       2.152693\n",
       "  2016-12-14  114.228840       2.152693\n",
       "  2016-12-15  114.853583       2.164467\n",
       "  2016-12-16  115.002331       2.167270\n",
       "  2016-12-19  115.666741       2.179791\n",
       "  2016-12-20  115.974154       2.185585\n",
       "  2016-12-21  116.083236       2.187640\n",
       "  2016-12-22  115.319661       2.173250\n",
       "  2016-12-23  115.547742       2.177549\n",
       "  2016-12-27  116.281568       2.191378\n",
       "  2016-12-28  115.785740       2.182034\n",
       "  2016-12-29  115.755990       2.181473\n",
       "  2016-12-30  114.853583       2.164467\n",
       "  \n",
       "  [1258 rows x 2 columns], 0.3), (            Adj. Close  Normed Return\n",
       "  Date                                 \n",
       "  2012-01-03   15.752778       1.000000\n",
       "  2012-01-04   16.057180       1.019324\n",
       "  2012-01-05   15.997991       1.015566\n",
       "  2012-01-06   15.938801       1.011809\n",
       "  2012-01-09   16.040268       1.018250\n",
       "  2012-01-10   15.921890       1.010735\n",
       "  2012-01-11   16.124824       1.023618\n",
       "  2012-01-12   16.192469       1.027912\n",
       "  2012-01-13   16.116369       1.023081\n",
       "  2012-01-17   16.323531       1.036232\n",
       "  2012-01-18   16.522238       1.048846\n",
       "  2012-01-19   16.733627       1.062265\n",
       "  2012-01-20   16.843550       1.069243\n",
       "  2012-01-23   16.767450       1.064412\n",
       "  2012-01-24   16.754766       1.063607\n",
       "  2012-01-25   16.767450       1.064412\n",
       "  2012-01-26   16.767450       1.064412\n",
       "  2012-01-27   16.539149       1.049919\n",
       "  2012-01-30   16.539149       1.049919\n",
       "  2012-01-31   16.611021       1.054482\n",
       "  2012-02-01   16.742083       1.062802\n",
       "  2012-02-02   16.742083       1.062802\n",
       "  2012-02-03   16.987295       1.078368\n",
       "  2012-02-06   17.071851       1.083736\n",
       "  2012-02-07   17.080307       1.084273\n",
       "  2012-02-08   17.274786       1.096618\n",
       "  2012-02-09   16.911195       1.073537\n",
       "  2012-02-10   16.822411       1.067901\n",
       "  2012-02-13   16.936562       1.075148\n",
       "  2012-02-14   16.970384       1.077295\n",
       "  ...                ...            ...\n",
       "  2016-11-17   29.263492       1.857672\n",
       "  2016-11-18   29.390089       1.865708\n",
       "  2016-11-21   29.263492       1.857672\n",
       "  2016-11-22   29.107679       1.847781\n",
       "  2016-11-23   28.932390       1.836653\n",
       "  2016-11-25   29.302445       1.860145\n",
       "  2016-11-28   29.136894       1.849635\n",
       "  2016-11-29   29.049250       1.844072\n",
       "  2016-11-30   29.039511       1.843453\n",
       "  2016-12-01   28.679196       1.820580\n",
       "  2016-12-02   28.484430       1.808216\n",
       "  2016-12-05   28.757102       1.825526\n",
       "  2016-12-06   28.562336       1.813162\n",
       "  2016-12-07   29.166109       1.851490\n",
       "  2016-12-08   29.166109       1.851490\n",
       "  2016-12-09   29.273230       1.858290\n",
       "  2016-12-12   29.380351       1.865090\n",
       "  2016-12-13   29.789358       1.891054\n",
       "  2016-12-14   29.662760       1.883018\n",
       "  2016-12-15   29.828311       1.893527\n",
       "  2016-12-16   29.789358       1.891054\n",
       "  2016-12-19   29.945170       1.900945\n",
       "  2016-12-20   29.760143       1.889200\n",
       "  2016-12-21   29.623807       1.880545\n",
       "  2016-12-22   29.662760       1.883018\n",
       "  2016-12-23   29.730928       1.887345\n",
       "  2016-12-27   29.877002       1.896618\n",
       "  2016-12-28   29.623807       1.880545\n",
       "  2016-12-29   29.662760       1.883018\n",
       "  2016-12-30   29.429042       1.868181\n",
       "  \n",
       "  [1258 rows x 2 columns], 0.2), (            Adj. Close  Normed Return\n",
       "  Date                                 \n",
       "  2012-01-03  160.830881       1.000000\n",
       "  2012-01-04  160.174781       0.995921\n",
       "  2012-01-05  159.415086       0.991197\n",
       "  2012-01-06  157.584912       0.979817\n",
       "  2012-01-09  156.764786       0.974718\n",
       "  2012-01-10  156.523065       0.973215\n",
       "  2012-01-11  157.394988       0.978637\n",
       "  2012-01-12  155.866965       0.969136\n",
       "  2012-01-13  154.666992       0.961675\n",
       "  2012-01-17  155.392156       0.966184\n",
       "  2012-01-18  156.315876       0.971927\n",
       "  2012-01-19  155.841066       0.968975\n",
       "  2012-01-20  162.747384       1.011916\n",
       "  2012-01-23  164.007787       1.019753\n",
       "  2012-01-24  165.691203       1.030220\n",
       "  2012-01-25  165.518545       1.029147\n",
       "  2012-01-26  164.871077       1.025121\n",
       "  2012-01-27  164.422167       1.022330\n",
       "  2012-01-30  166.183278       1.033280\n",
       "  2012-01-31  166.269607       1.033816\n",
       "  2012-02-01  166.286872       1.033924\n",
       "  2012-02-02  165.345887       1.028073\n",
       "  2012-02-03  167.167428       1.039399\n",
       "  2012-02-06  166.459530       1.034997\n",
       "  2012-02-07  166.917074       1.037842\n",
       "  2012-02-08  167.219225       1.039721\n",
       "  2012-02-09  167.375222       1.040691\n",
       "  2012-02-10  166.759903       1.036865\n",
       "  2012-02-13  166.933232       1.037943\n",
       "  2012-02-14  166.586574       1.035787\n",
       "  ...                ...            ...\n",
       "  2016-11-17  157.001177       0.976188\n",
       "  2016-11-18  157.580843       0.979792\n",
       "  2016-11-21  159.919159       0.994331\n",
       "  2016-11-22  159.820910       0.993720\n",
       "  2016-11-23  159.142995       0.989505\n",
       "  2016-11-25  160.282678       0.996591\n",
       "  2016-11-28  161.638508       1.005022\n",
       "  2016-11-29  160.665848       0.998974\n",
       "  2016-11-30  159.378792       0.990971\n",
       "  2016-12-01  157.020827       0.976310\n",
       "  2016-12-02  157.217324       0.977532\n",
       "  2016-12-05  157.040476       0.976432\n",
       "  2016-12-06  157.541544       0.979548\n",
       "  2016-12-07  161.903779       1.006671\n",
       "  2016-12-08  162.463796       1.010153\n",
       "  2016-12-09  163.603479       1.017239\n",
       "  2016-12-12  162.601344       1.011008\n",
       "  2016-12-13  165.342479       1.028052\n",
       "  2016-12-14  165.558625       1.029396\n",
       "  2016-12-15  165.077208       1.026402\n",
       "  2016-12-16  163.809801       1.018522\n",
       "  2016-12-19  163.760677       1.018217\n",
       "  2016-12-20  164.664564       1.023837\n",
       "  2016-12-21  164.399293       1.022187\n",
       "  2016-12-22  164.134021       1.020538\n",
       "  2016-12-23  163.790152       1.018400\n",
       "  2016-12-27  164.212620       1.021027\n",
       "  2016-12-28  163.279259       1.015223\n",
       "  2016-12-29  163.682078       1.017728\n",
       "  2016-12-30  163.082762       1.014002\n",
       "  \n",
       "  [1258 rows x 2 columns], 0.4), (            Adj. Close  Normed Return\n",
       "  Date                                 \n",
       "  2012-01-03     179.030       1.000000\n",
       "  2012-01-04     177.510       0.991510\n",
       "  2012-01-05     177.610       0.992068\n",
       "  2012-01-06     182.610       1.019997\n",
       "  2012-01-09     178.560       0.997375\n",
       "  2012-01-10     179.340       1.001732\n",
       "  2012-01-11     178.900       0.999274\n",
       "  2012-01-12     175.930       0.982684\n",
       "  2012-01-13     178.420       0.996593\n",
       "  2012-01-17     181.660       1.014690\n",
       "  2012-01-18     189.440       1.058147\n",
       "  2012-01-19     194.450       1.086131\n",
       "  2012-01-20     190.930       1.066469\n",
       "  2012-01-23     186.090       1.039435\n",
       "  2012-01-24     187.000       1.044518\n",
       "  2012-01-25     187.800       1.048986\n",
       "  2012-01-26     193.316       1.079797\n",
       "  2012-01-27     195.370       1.091270\n",
       "  2012-01-30     192.150       1.073284\n",
       "  2012-01-31     194.440       1.086075\n",
       "  2012-02-01     179.460       1.002402\n",
       "  2012-02-02     181.720       1.015025\n",
       "  2012-02-03     187.680       1.048316\n",
       "  2012-02-06     183.140       1.022957\n",
       "  2012-02-07     184.190       1.028822\n",
       "  2012-02-08     185.480       1.036027\n",
       "  2012-02-09     184.980       1.033235\n",
       "  2012-02-10     185.540       1.036363\n",
       "  2012-02-13     191.590       1.070156\n",
       "  2012-02-14     191.300       1.068536\n",
       "  ...                ...            ...\n",
       "  2016-11-17     756.400       4.224990\n",
       "  2016-11-18     760.160       4.245992\n",
       "  2016-11-21     780.000       4.356812\n",
       "  2016-11-22     785.330       4.386583\n",
       "  2016-11-23     780.120       4.357482\n",
       "  2016-11-25     780.370       4.358878\n",
       "  2016-11-28     766.770       4.282913\n",
       "  2016-11-29     762.520       4.259174\n",
       "  2016-11-30     750.570       4.192426\n",
       "  2016-12-01     743.650       4.153773\n",
       "  2016-12-02     740.340       4.135285\n",
       "  2016-12-05     759.360       4.241524\n",
       "  2016-12-06     764.720       4.271463\n",
       "  2016-12-07     770.420       4.303301\n",
       "  2016-12-08     767.330       4.286041\n",
       "  2016-12-09     768.660       4.293470\n",
       "  2016-12-12     760.120       4.245769\n",
       "  2016-12-13     774.340       4.325197\n",
       "  2016-12-14     768.820       4.294364\n",
       "  2016-12-15     761.000       4.250684\n",
       "  2016-12-16     757.770       4.232643\n",
       "  2016-12-19     766.000       4.278613\n",
       "  2016-12-20     771.220       4.307770\n",
       "  2016-12-21     770.600       4.304307\n",
       "  2016-12-22     766.340       4.280512\n",
       "  2016-12-23     760.590       4.248394\n",
       "  2016-12-27     771.400       4.308775\n",
       "  2016-12-28     772.130       4.312853\n",
       "  2016-12-29     765.150       4.273865\n",
       "  2016-12-30     749.870       4.188516\n",
       "  \n",
       "  [1258 rows x 2 columns], 0.1)]"
      ]
     },
     "execution_count": 18,
     "metadata": {},
     "output_type": "execute_result"
    }
   ],
   "source": [
    "list(zip([aapl,cisco,ibm,amzn],[.3,.2,.4,.1]))"
   ]
  },
  {
   "cell_type": "code",
   "execution_count": 19,
   "metadata": {},
   "outputs": [],
   "source": [
    "for stock_df,allo in zip([aapl,cisco,ibm,amzn],[.3,.2,.4,.1]):\n",
    "    stock_df['Allocation'] = stock_df['Normed Return']*allo"
   ]
  },
  {
   "cell_type": "code",
   "execution_count": 20,
   "metadata": {},
   "outputs": [
    {
     "data": {
      "text/html": [
       "<div>\n",
       "<style>\n",
       "    .dataframe thead tr:only-child th {\n",
       "        text-align: right;\n",
       "    }\n",
       "\n",
       "    .dataframe thead th {\n",
       "        text-align: left;\n",
       "    }\n",
       "\n",
       "    .dataframe tbody tr th {\n",
       "        vertical-align: top;\n",
       "    }\n",
       "</style>\n",
       "<table border=\"1\" class=\"dataframe\">\n",
       "  <thead>\n",
       "    <tr style=\"text-align: right;\">\n",
       "      <th></th>\n",
       "      <th>Adj. Close</th>\n",
       "      <th>Normed Return</th>\n",
       "      <th>Allocation</th>\n",
       "    </tr>\n",
       "    <tr>\n",
       "      <th>Date</th>\n",
       "      <th></th>\n",
       "      <th></th>\n",
       "      <th></th>\n",
       "    </tr>\n",
       "  </thead>\n",
       "  <tbody>\n",
       "    <tr>\n",
       "      <th>2012-01-03</th>\n",
       "      <td>53.063218</td>\n",
       "      <td>1.000000</td>\n",
       "      <td>0.300000</td>\n",
       "    </tr>\n",
       "    <tr>\n",
       "      <th>2012-01-04</th>\n",
       "      <td>53.348386</td>\n",
       "      <td>1.005374</td>\n",
       "      <td>0.301612</td>\n",
       "    </tr>\n",
       "    <tr>\n",
       "      <th>2012-01-05</th>\n",
       "      <td>53.940658</td>\n",
       "      <td>1.016536</td>\n",
       "      <td>0.304961</td>\n",
       "    </tr>\n",
       "    <tr>\n",
       "      <th>2012-01-06</th>\n",
       "      <td>54.504543</td>\n",
       "      <td>1.027162</td>\n",
       "      <td>0.308149</td>\n",
       "    </tr>\n",
       "    <tr>\n",
       "      <th>2012-01-09</th>\n",
       "      <td>54.418089</td>\n",
       "      <td>1.025533</td>\n",
       "      <td>0.307660</td>\n",
       "    </tr>\n",
       "  </tbody>\n",
       "</table>\n",
       "</div>"
      ],
      "text/plain": [
       "            Adj. Close  Normed Return  Allocation\n",
       "Date                                             \n",
       "2012-01-03   53.063218       1.000000    0.300000\n",
       "2012-01-04   53.348386       1.005374    0.301612\n",
       "2012-01-05   53.940658       1.016536    0.304961\n",
       "2012-01-06   54.504543       1.027162    0.308149\n",
       "2012-01-09   54.418089       1.025533    0.307660"
      ]
     },
     "execution_count": 20,
     "metadata": {},
     "output_type": "execute_result"
    }
   ],
   "source": [
    "aapl.head()"
   ]
  },
  {
   "cell_type": "markdown",
   "metadata": {},
   "source": [
    "## Investment"
   ]
  },
  {
   "cell_type": "code",
   "execution_count": 21,
   "metadata": {},
   "outputs": [],
   "source": [
    "# 1 milyon dolar yatırım yaptığımızı varsayalım\n",
    "for stock_df in [aapl,cisco,ibm,amzn]:\n",
    "    stock_df['Position Values'] = stock_df['Allocation']*1000000"
   ]
  },
  {
   "cell_type": "code",
   "execution_count": 22,
   "metadata": {},
   "outputs": [
    {
     "data": {
      "text/html": [
       "<div>\n",
       "<style>\n",
       "    .dataframe thead tr:only-child th {\n",
       "        text-align: right;\n",
       "    }\n",
       "\n",
       "    .dataframe thead th {\n",
       "        text-align: left;\n",
       "    }\n",
       "\n",
       "    .dataframe tbody tr th {\n",
       "        vertical-align: top;\n",
       "    }\n",
       "</style>\n",
       "<table border=\"1\" class=\"dataframe\">\n",
       "  <thead>\n",
       "    <tr style=\"text-align: right;\">\n",
       "      <th></th>\n",
       "      <th>Adj. Close</th>\n",
       "      <th>Normed Return</th>\n",
       "      <th>Allocation</th>\n",
       "      <th>Position Values</th>\n",
       "    </tr>\n",
       "    <tr>\n",
       "      <th>Date</th>\n",
       "      <th></th>\n",
       "      <th></th>\n",
       "      <th></th>\n",
       "      <th></th>\n",
       "    </tr>\n",
       "  </thead>\n",
       "  <tbody>\n",
       "    <tr>\n",
       "      <th>2012-01-03</th>\n",
       "      <td>53.063218</td>\n",
       "      <td>1.000000</td>\n",
       "      <td>0.300000</td>\n",
       "      <td>300000.000000</td>\n",
       "    </tr>\n",
       "    <tr>\n",
       "      <th>2012-01-04</th>\n",
       "      <td>53.348386</td>\n",
       "      <td>1.005374</td>\n",
       "      <td>0.301612</td>\n",
       "      <td>301612.236461</td>\n",
       "    </tr>\n",
       "    <tr>\n",
       "      <th>2012-01-05</th>\n",
       "      <td>53.940658</td>\n",
       "      <td>1.016536</td>\n",
       "      <td>0.304961</td>\n",
       "      <td>304960.727573</td>\n",
       "    </tr>\n",
       "    <tr>\n",
       "      <th>2012-01-06</th>\n",
       "      <td>54.504543</td>\n",
       "      <td>1.027162</td>\n",
       "      <td>0.308149</td>\n",
       "      <td>308148.724558</td>\n",
       "    </tr>\n",
       "    <tr>\n",
       "      <th>2012-01-09</th>\n",
       "      <td>54.418089</td>\n",
       "      <td>1.025533</td>\n",
       "      <td>0.307660</td>\n",
       "      <td>307659.946988</td>\n",
       "    </tr>\n",
       "  </tbody>\n",
       "</table>\n",
       "</div>"
      ],
      "text/plain": [
       "            Adj. Close  Normed Return  Allocation  Position Values\n",
       "Date                                                              \n",
       "2012-01-03   53.063218       1.000000    0.300000    300000.000000\n",
       "2012-01-04   53.348386       1.005374    0.301612    301612.236461\n",
       "2012-01-05   53.940658       1.016536    0.304961    304960.727573\n",
       "2012-01-06   54.504543       1.027162    0.308149    308148.724558\n",
       "2012-01-09   54.418089       1.025533    0.307660    307659.946988"
      ]
     },
     "execution_count": 22,
     "metadata": {},
     "output_type": "execute_result"
    }
   ],
   "source": [
    "aapl.head()"
   ]
  },
  {
   "cell_type": "code",
   "execution_count": 25,
   "metadata": {},
   "outputs": [],
   "source": [
    "portfolio_val = pd.concat([aapl['Position Values'],cisco['Position Values'],ibm['Position Values'],amzn['Position Values']], axis=1)"
   ]
  },
  {
   "cell_type": "code",
   "execution_count": 26,
   "metadata": {},
   "outputs": [
    {
     "data": {
      "text/html": [
       "<div>\n",
       "<style>\n",
       "    .dataframe thead tr:only-child th {\n",
       "        text-align: right;\n",
       "    }\n",
       "\n",
       "    .dataframe thead th {\n",
       "        text-align: left;\n",
       "    }\n",
       "\n",
       "    .dataframe tbody tr th {\n",
       "        vertical-align: top;\n",
       "    }\n",
       "</style>\n",
       "<table border=\"1\" class=\"dataframe\">\n",
       "  <thead>\n",
       "    <tr style=\"text-align: right;\">\n",
       "      <th></th>\n",
       "      <th>Position Values</th>\n",
       "      <th>Position Values</th>\n",
       "      <th>Position Values</th>\n",
       "      <th>Position Values</th>\n",
       "    </tr>\n",
       "    <tr>\n",
       "      <th>Date</th>\n",
       "      <th></th>\n",
       "      <th></th>\n",
       "      <th></th>\n",
       "      <th></th>\n",
       "    </tr>\n",
       "  </thead>\n",
       "  <tbody>\n",
       "    <tr>\n",
       "      <th>2012-01-03</th>\n",
       "      <td>300000.000000</td>\n",
       "      <td>200000.000000</td>\n",
       "      <td>400000.000000</td>\n",
       "      <td>100000.000000</td>\n",
       "    </tr>\n",
       "    <tr>\n",
       "      <th>2012-01-04</th>\n",
       "      <td>301612.236461</td>\n",
       "      <td>203864.734300</td>\n",
       "      <td>398368.223296</td>\n",
       "      <td>99150.980283</td>\n",
       "    </tr>\n",
       "    <tr>\n",
       "      <th>2012-01-05</th>\n",
       "      <td>304960.727573</td>\n",
       "      <td>203113.258186</td>\n",
       "      <td>396478.797638</td>\n",
       "      <td>99206.836843</td>\n",
       "    </tr>\n",
       "    <tr>\n",
       "      <th>2012-01-06</th>\n",
       "      <td>308148.724558</td>\n",
       "      <td>202361.782072</td>\n",
       "      <td>391926.999463</td>\n",
       "      <td>101999.664861</td>\n",
       "    </tr>\n",
       "    <tr>\n",
       "      <th>2012-01-09</th>\n",
       "      <td>307659.946988</td>\n",
       "      <td>203650.026838</td>\n",
       "      <td>389887.278583</td>\n",
       "      <td>99737.474166</td>\n",
       "    </tr>\n",
       "  </tbody>\n",
       "</table>\n",
       "</div>"
      ],
      "text/plain": [
       "            Position Values  Position Values  Position Values  Position Values\n",
       "Date                                                                          \n",
       "2012-01-03    300000.000000    200000.000000    400000.000000    100000.000000\n",
       "2012-01-04    301612.236461    203864.734300    398368.223296     99150.980283\n",
       "2012-01-05    304960.727573    203113.258186    396478.797638     99206.836843\n",
       "2012-01-06    308148.724558    202361.782072    391926.999463    101999.664861\n",
       "2012-01-09    307659.946988    203650.026838    389887.278583     99737.474166"
      ]
     },
     "execution_count": 26,
     "metadata": {},
     "output_type": "execute_result"
    }
   ],
   "source": [
    "portfolio_val.head()"
   ]
  },
  {
   "cell_type": "code",
   "execution_count": 27,
   "metadata": {},
   "outputs": [
    {
     "data": {
      "text/html": [
       "<div>\n",
       "<style>\n",
       "    .dataframe thead tr:only-child th {\n",
       "        text-align: right;\n",
       "    }\n",
       "\n",
       "    .dataframe thead th {\n",
       "        text-align: left;\n",
       "    }\n",
       "\n",
       "    .dataframe tbody tr th {\n",
       "        vertical-align: top;\n",
       "    }\n",
       "</style>\n",
       "<table border=\"1\" class=\"dataframe\">\n",
       "  <thead>\n",
       "    <tr style=\"text-align: right;\">\n",
       "      <th></th>\n",
       "      <th>AAPL Pos</th>\n",
       "      <th>CISCO Pos</th>\n",
       "      <th>IBM Pos</th>\n",
       "      <th>AMZN Pos</th>\n",
       "    </tr>\n",
       "    <tr>\n",
       "      <th>Date</th>\n",
       "      <th></th>\n",
       "      <th></th>\n",
       "      <th></th>\n",
       "      <th></th>\n",
       "    </tr>\n",
       "  </thead>\n",
       "  <tbody>\n",
       "    <tr>\n",
       "      <th>2012-01-03</th>\n",
       "      <td>300000.000000</td>\n",
       "      <td>200000.000000</td>\n",
       "      <td>400000.000000</td>\n",
       "      <td>100000.000000</td>\n",
       "    </tr>\n",
       "    <tr>\n",
       "      <th>2012-01-04</th>\n",
       "      <td>301612.236461</td>\n",
       "      <td>203864.734300</td>\n",
       "      <td>398368.223296</td>\n",
       "      <td>99150.980283</td>\n",
       "    </tr>\n",
       "    <tr>\n",
       "      <th>2012-01-05</th>\n",
       "      <td>304960.727573</td>\n",
       "      <td>203113.258186</td>\n",
       "      <td>396478.797638</td>\n",
       "      <td>99206.836843</td>\n",
       "    </tr>\n",
       "    <tr>\n",
       "      <th>2012-01-06</th>\n",
       "      <td>308148.724558</td>\n",
       "      <td>202361.782072</td>\n",
       "      <td>391926.999463</td>\n",
       "      <td>101999.664861</td>\n",
       "    </tr>\n",
       "    <tr>\n",
       "      <th>2012-01-09</th>\n",
       "      <td>307659.946988</td>\n",
       "      <td>203650.026838</td>\n",
       "      <td>389887.278583</td>\n",
       "      <td>99737.474166</td>\n",
       "    </tr>\n",
       "  </tbody>\n",
       "</table>\n",
       "</div>"
      ],
      "text/plain": [
       "                 AAPL Pos      CISCO Pos        IBM Pos       AMZN Pos\n",
       "Date                                                                  \n",
       "2012-01-03  300000.000000  200000.000000  400000.000000  100000.000000\n",
       "2012-01-04  301612.236461  203864.734300  398368.223296   99150.980283\n",
       "2012-01-05  304960.727573  203113.258186  396478.797638   99206.836843\n",
       "2012-01-06  308148.724558  202361.782072  391926.999463  101999.664861\n",
       "2012-01-09  307659.946988  203650.026838  389887.278583   99737.474166"
      ]
     },
     "execution_count": 27,
     "metadata": {},
     "output_type": "execute_result"
    }
   ],
   "source": [
    "portfolio_val.columns = ['AAPL Pos','CISCO Pos','IBM Pos','AMZN Pos']\n",
    "portfolio_val.head()"
   ]
  },
  {
   "cell_type": "code",
   "execution_count": 28,
   "metadata": {},
   "outputs": [
    {
     "data": {
      "text/html": [
       "<div>\n",
       "<style>\n",
       "    .dataframe thead tr:only-child th {\n",
       "        text-align: right;\n",
       "    }\n",
       "\n",
       "    .dataframe thead th {\n",
       "        text-align: left;\n",
       "    }\n",
       "\n",
       "    .dataframe tbody tr th {\n",
       "        vertical-align: top;\n",
       "    }\n",
       "</style>\n",
       "<table border=\"1\" class=\"dataframe\">\n",
       "  <thead>\n",
       "    <tr style=\"text-align: right;\">\n",
       "      <th></th>\n",
       "      <th>AAPL Pos</th>\n",
       "      <th>CISCO Pos</th>\n",
       "      <th>IBM Pos</th>\n",
       "      <th>AMZN Pos</th>\n",
       "      <th>Total Pos</th>\n",
       "    </tr>\n",
       "    <tr>\n",
       "      <th>Date</th>\n",
       "      <th></th>\n",
       "      <th></th>\n",
       "      <th></th>\n",
       "      <th></th>\n",
       "      <th></th>\n",
       "    </tr>\n",
       "  </thead>\n",
       "  <tbody>\n",
       "    <tr>\n",
       "      <th>2012-01-03</th>\n",
       "      <td>300000.000000</td>\n",
       "      <td>200000.000000</td>\n",
       "      <td>400000.000000</td>\n",
       "      <td>100000.000000</td>\n",
       "      <td>1.000000e+06</td>\n",
       "    </tr>\n",
       "    <tr>\n",
       "      <th>2012-01-04</th>\n",
       "      <td>301612.236461</td>\n",
       "      <td>203864.734300</td>\n",
       "      <td>398368.223296</td>\n",
       "      <td>99150.980283</td>\n",
       "      <td>1.002996e+06</td>\n",
       "    </tr>\n",
       "    <tr>\n",
       "      <th>2012-01-05</th>\n",
       "      <td>304960.727573</td>\n",
       "      <td>203113.258186</td>\n",
       "      <td>396478.797638</td>\n",
       "      <td>99206.836843</td>\n",
       "      <td>1.003760e+06</td>\n",
       "    </tr>\n",
       "    <tr>\n",
       "      <th>2012-01-06</th>\n",
       "      <td>308148.724558</td>\n",
       "      <td>202361.782072</td>\n",
       "      <td>391926.999463</td>\n",
       "      <td>101999.664861</td>\n",
       "      <td>1.004437e+06</td>\n",
       "    </tr>\n",
       "    <tr>\n",
       "      <th>2012-01-09</th>\n",
       "      <td>307659.946988</td>\n",
       "      <td>203650.026838</td>\n",
       "      <td>389887.278583</td>\n",
       "      <td>99737.474166</td>\n",
       "      <td>1.000935e+06</td>\n",
       "    </tr>\n",
       "  </tbody>\n",
       "</table>\n",
       "</div>"
      ],
      "text/plain": [
       "                 AAPL Pos      CISCO Pos        IBM Pos       AMZN Pos  \\\n",
       "Date                                                                     \n",
       "2012-01-03  300000.000000  200000.000000  400000.000000  100000.000000   \n",
       "2012-01-04  301612.236461  203864.734300  398368.223296   99150.980283   \n",
       "2012-01-05  304960.727573  203113.258186  396478.797638   99206.836843   \n",
       "2012-01-06  308148.724558  202361.782072  391926.999463  101999.664861   \n",
       "2012-01-09  307659.946988  203650.026838  389887.278583   99737.474166   \n",
       "\n",
       "               Total Pos  \n",
       "Date                      \n",
       "2012-01-03  1.000000e+06  \n",
       "2012-01-04  1.002996e+06  \n",
       "2012-01-05  1.003760e+06  \n",
       "2012-01-06  1.004437e+06  \n",
       "2012-01-09  1.000935e+06  "
      ]
     },
     "execution_count": 28,
     "metadata": {},
     "output_type": "execute_result"
    }
   ],
   "source": [
    "portfolio_val['Total Pos'] = portfolio_val.sum(axis=1)\n",
    "portfolio_val.head()"
   ]
  },
  {
   "cell_type": "code",
   "execution_count": 29,
   "metadata": {},
   "outputs": [],
   "source": [
    "import matplotlib.pyplot as plt\n",
    "%matplotlib inline"
   ]
  },
  {
   "cell_type": "code",
   "execution_count": 30,
   "metadata": {},
   "outputs": [
    {
     "data": {
      "text/plain": [
       "<matplotlib.text.Text at 0xe7c539f3c8>"
      ]
     },
     "execution_count": 30,
     "metadata": {},
     "output_type": "execute_result"
    },
    {
     "data": {
      "image/png": "[encoded data removed]",
      "text/plain": [
       "<matplotlib.figure.Figure at 0xe7c51fc9b0>"
      ]
     },
     "metadata": {},
     "output_type": "display_data"
    }
   ],
   "source": [
    "portfolio_val['Total Pos'].plot(figsize=(10,8))\n",
    "plt.title('Total Portfolio Value')"
   ]
  },
  {
   "cell_type": "code",
   "execution_count": 34,
   "metadata": {},
   "outputs": [
    {
     "data": {
      "text/plain": [
       "<matplotlib.axes._subplots.AxesSubplot at 0xe7c59837f0>"
      ]
     },
     "execution_count": 34,
     "metadata": {},
     "output_type": "execute_result"
    },
    {
     "data": {
      "image/png": "[encoded data removed]",
      "text/plain": [
       "<matplotlib.figure.Figure at 0xe7c5a46240>"
      ]
     },
     "metadata": {},
     "output_type": "display_data"
    }
   ],
   "source": [
    "portfolio_val.drop('Total Pos',axis=1).plot(figsize=(10,8))"
   ]
  },
  {
   "cell_type": "markdown",
   "metadata": {},
   "source": [
    "## Portfolio Statistics"
   ]
  },
  {
   "cell_type": "markdown",
   "metadata": {},
   "source": [
    "**Daily Returns**"
   ]
  },
  {
   "cell_type": "code",
   "execution_count": 35,
   "metadata": {},
   "outputs": [
    {
     "data": {
      "text/html": [
       "<div>\n",
       "<style>\n",
       "    .dataframe thead tr:only-child th {\n",
       "        text-align: right;\n",
       "    }\n",
       "\n",
       "    .dataframe thead th {\n",
       "        text-align: left;\n",
       "    }\n",
       "\n",
       "    .dataframe tbody tr th {\n",
       "        vertical-align: top;\n",
       "    }\n",
       "</style>\n",
       "<table border=\"1\" class=\"dataframe\">\n",
       "  <thead>\n",
       "    <tr style=\"text-align: right;\">\n",
       "      <th></th>\n",
       "      <th>AAPL Pos</th>\n",
       "      <th>CISCO Pos</th>\n",
       "      <th>IBM Pos</th>\n",
       "      <th>AMZN Pos</th>\n",
       "      <th>Total Pos</th>\n",
       "    </tr>\n",
       "    <tr>\n",
       "      <th>Date</th>\n",
       "      <th></th>\n",
       "      <th></th>\n",
       "      <th></th>\n",
       "      <th></th>\n",
       "      <th></th>\n",
       "    </tr>\n",
       "  </thead>\n",
       "  <tbody>\n",
       "    <tr>\n",
       "      <th>2012-01-03</th>\n",
       "      <td>300000.000000</td>\n",
       "      <td>200000.000000</td>\n",
       "      <td>400000.000000</td>\n",
       "      <td>100000.000000</td>\n",
       "      <td>1.000000e+06</td>\n",
       "    </tr>\n",
       "    <tr>\n",
       "      <th>2012-01-04</th>\n",
       "      <td>301612.236461</td>\n",
       "      <td>203864.734300</td>\n",
       "      <td>398368.223296</td>\n",
       "      <td>99150.980283</td>\n",
       "      <td>1.002996e+06</td>\n",
       "    </tr>\n",
       "    <tr>\n",
       "      <th>2012-01-05</th>\n",
       "      <td>304960.727573</td>\n",
       "      <td>203113.258186</td>\n",
       "      <td>396478.797638</td>\n",
       "      <td>99206.836843</td>\n",
       "      <td>1.003760e+06</td>\n",
       "    </tr>\n",
       "    <tr>\n",
       "      <th>2012-01-06</th>\n",
       "      <td>308148.724558</td>\n",
       "      <td>202361.782072</td>\n",
       "      <td>391926.999463</td>\n",
       "      <td>101999.664861</td>\n",
       "      <td>1.004437e+06</td>\n",
       "    </tr>\n",
       "    <tr>\n",
       "      <th>2012-01-09</th>\n",
       "      <td>307659.946988</td>\n",
       "      <td>203650.026838</td>\n",
       "      <td>389887.278583</td>\n",
       "      <td>99737.474166</td>\n",
       "      <td>1.000935e+06</td>\n",
       "    </tr>\n",
       "  </tbody>\n",
       "</table>\n",
       "</div>"
      ],
      "text/plain": [
       "                 AAPL Pos      CISCO Pos        IBM Pos       AMZN Pos  \\\n",
       "Date                                                                     \n",
       "2012-01-03  300000.000000  200000.000000  400000.000000  100000.000000   \n",
       "2012-01-04  301612.236461  203864.734300  398368.223296   99150.980283   \n",
       "2012-01-05  304960.727573  203113.258186  396478.797638   99206.836843   \n",
       "2012-01-06  308148.724558  202361.782072  391926.999463  101999.664861   \n",
       "2012-01-09  307659.946988  203650.026838  389887.278583   99737.474166   \n",
       "\n",
       "               Total Pos  \n",
       "Date                      \n",
       "2012-01-03  1.000000e+06  \n",
       "2012-01-04  1.002996e+06  \n",
       "2012-01-05  1.003760e+06  \n",
       "2012-01-06  1.004437e+06  \n",
       "2012-01-09  1.000935e+06  "
      ]
     },
     "execution_count": 35,
     "metadata": {},
     "output_type": "execute_result"
    }
   ],
   "source": [
    "portfolio_val.head()"
   ]
  },
  {
   "cell_type": "code",
   "execution_count": 43,
   "metadata": {},
   "outputs": [],
   "source": [
    "portfolio_val[\"Daily Return\"] = portfolio_val[\"Total Pos\"].pct_change(1)"
   ]
  },
  {
   "cell_type": "code",
   "execution_count": 45,
   "metadata": {},
   "outputs": [
    {
     "data": {
      "text/html": [
       "<div>\n",
       "<style>\n",
       "    .dataframe thead tr:only-child th {\n",
       "        text-align: right;\n",
       "    }\n",
       "\n",
       "    .dataframe thead th {\n",
       "        text-align: left;\n",
       "    }\n",
       "\n",
       "    .dataframe tbody tr th {\n",
       "        vertical-align: top;\n",
       "    }\n",
       "</style>\n",
       "<table border=\"1\" class=\"dataframe\">\n",
       "  <thead>\n",
       "    <tr style=\"text-align: right;\">\n",
       "      <th></th>\n",
       "      <th>AAPL Pos</th>\n",
       "      <th>CISCO Pos</th>\n",
       "      <th>IBM Pos</th>\n",
       "      <th>AMZN Pos</th>\n",
       "      <th>Total Pos</th>\n",
       "      <th>Daily Return</th>\n",
       "    </tr>\n",
       "    <tr>\n",
       "      <th>Date</th>\n",
       "      <th></th>\n",
       "      <th></th>\n",
       "      <th></th>\n",
       "      <th></th>\n",
       "      <th></th>\n",
       "      <th></th>\n",
       "    </tr>\n",
       "  </thead>\n",
       "  <tbody>\n",
       "    <tr>\n",
       "      <th>2012-01-03</th>\n",
       "      <td>300000.000000</td>\n",
       "      <td>200000.000000</td>\n",
       "      <td>400000.000000</td>\n",
       "      <td>100000.000000</td>\n",
       "      <td>1.000000e+06</td>\n",
       "      <td>NaN</td>\n",
       "    </tr>\n",
       "    <tr>\n",
       "      <th>2012-01-04</th>\n",
       "      <td>301612.236461</td>\n",
       "      <td>203864.734300</td>\n",
       "      <td>398368.223296</td>\n",
       "      <td>99150.980283</td>\n",
       "      <td>1.002996e+06</td>\n",
       "      <td>0.002996</td>\n",
       "    </tr>\n",
       "    <tr>\n",
       "      <th>2012-01-05</th>\n",
       "      <td>304960.727573</td>\n",
       "      <td>203113.258186</td>\n",
       "      <td>396478.797638</td>\n",
       "      <td>99206.836843</td>\n",
       "      <td>1.003760e+06</td>\n",
       "      <td>0.000761</td>\n",
       "    </tr>\n",
       "    <tr>\n",
       "      <th>2012-01-06</th>\n",
       "      <td>308148.724558</td>\n",
       "      <td>202361.782072</td>\n",
       "      <td>391926.999463</td>\n",
       "      <td>101999.664861</td>\n",
       "      <td>1.004437e+06</td>\n",
       "      <td>0.000675</td>\n",
       "    </tr>\n",
       "    <tr>\n",
       "      <th>2012-01-09</th>\n",
       "      <td>307659.946988</td>\n",
       "      <td>203650.026838</td>\n",
       "      <td>389887.278583</td>\n",
       "      <td>99737.474166</td>\n",
       "      <td>1.000935e+06</td>\n",
       "      <td>-0.003487</td>\n",
       "    </tr>\n",
       "  </tbody>\n",
       "</table>\n",
       "</div>"
      ],
      "text/plain": [
       "                 AAPL Pos      CISCO Pos        IBM Pos       AMZN Pos  \\\n",
       "Date                                                                     \n",
       "2012-01-03  300000.000000  200000.000000  400000.000000  100000.000000   \n",
       "2012-01-04  301612.236461  203864.734300  398368.223296   99150.980283   \n",
       "2012-01-05  304960.727573  203113.258186  396478.797638   99206.836843   \n",
       "2012-01-06  308148.724558  202361.782072  391926.999463  101999.664861   \n",
       "2012-01-09  307659.946988  203650.026838  389887.278583   99737.474166   \n",
       "\n",
       "               Total Pos  Daily Return  \n",
       "Date                                    \n",
       "2012-01-03  1.000000e+06           NaN  \n",
       "2012-01-04  1.002996e+06      0.002996  \n",
       "2012-01-05  1.003760e+06      0.000761  \n",
       "2012-01-06  1.004437e+06      0.000675  \n",
       "2012-01-09  1.000935e+06     -0.003487  "
      ]
     },
     "execution_count": 45,
     "metadata": {},
     "output_type": "execute_result"
    }
   ],
   "source": [
    "portfolio_val.head()"
   ]
  },
  {
   "cell_type": "markdown",
   "metadata": {},
   "source": [
    "**Cumulative Return**"
   ]
  },
  {
   "cell_type": "code",
   "execution_count": 46,
   "metadata": {},
   "outputs": [
    {
     "name": "stdout",
     "output_type": "stream",
     "text": [
      "Our return 84.74285181665459 was percent!\n"
     ]
    }
   ],
   "source": [
    "cum_ret = 100 * (portfolio_val['Total Pos'][-1]/portfolio_val['Total Pos'][0] -1 )\n",
    "print('Our return {} was percent!'.format(cum_ret))"
   ]
  },
  {
   "cell_type": "markdown",
   "metadata": {},
   "source": [
    "**Avg Daily Return**"
   ]
  },
  {
   "cell_type": "code",
   "execution_count": 38,
   "metadata": {},
   "outputs": [
    {
     "data": {
      "text/plain": [
       "0.00054423307162152791"
      ]
     },
     "execution_count": 38,
     "metadata": {},
     "output_type": "execute_result"
    }
   ],
   "source": [
    "portfolio_val[\"Daily Return\"].mean()"
   ]
  },
  {
   "cell_type": "markdown",
   "metadata": {},
   "source": [
    "**Std Daily Return**"
   ]
  },
  {
   "cell_type": "code",
   "execution_count": 48,
   "metadata": {},
   "outputs": [
    {
     "data": {
      "text/plain": [
       "0.010568287769162552"
      ]
     },
     "execution_count": 48,
     "metadata": {},
     "output_type": "execute_result"
    }
   ],
   "source": [
    "portfolio_val['Daily Return'].std()"
   ]
  },
  {
   "cell_type": "markdown",
   "metadata": {},
   "source": [
    "**Plot**"
   ]
  },
  {
   "cell_type": "code",
   "execution_count": 41,
   "metadata": {},
   "outputs": [
    {
     "data": {
      "text/plain": [
       "<matplotlib.axes._subplots.AxesSubplot at 0xe7c63e4780>"
      ]
     },
     "execution_count": 41,
     "metadata": {},
     "output_type": "execute_result"
    },
    {
     "data": {
      "image/png": "[encoded data removed]",
      "text/plain": [
       "<matplotlib.figure.Figure at 0xe7c4fb1c50>"
      ]
     },
     "metadata": {},
     "output_type": "display_data"
    }
   ],
   "source": [
    "portfolio_val[\"Daily Return\"].plot(kind=\"hist\", bins=100, figsize=(10,5))"
   ]
  },
  {
   "cell_type": "code",
   "execution_count": 42,
   "metadata": {},
   "outputs": [
    {
     "data": {
      "text/plain": [
       "<matplotlib.axes._subplots.AxesSubplot at 0xe7c7790f60>"
      ]
     },
     "execution_count": 42,
     "metadata": {},
     "output_type": "execute_result"
    },
    {
     "data": {
      "image/png": "[encoded data removed]",
      "text/plain": [
       "<matplotlib.figure.Figure at 0xe7c77443c8>"
      ]
     },
     "metadata": {},
     "output_type": "display_data"
    }
   ],
   "source": [
    "portfolio_val[\"Daily Return\"].plot(kind=\"kde\", figsize=(10,5))"
   ]
  },
  {
   "cell_type": "markdown",
   "metadata": {},
   "source": [
    "## Sharpe Ratio\n",
    "\n",
    "The Sharpe Ratio is a measure for calculating risk-adjusted return, and this ratio has become the industry standard for such calculations. \n",
    "\n",
    "Sharpe ratio = (Mean portfolio return − Risk-free rate)/Standard deviation of portfolio return\n",
    "\n",
    "The original Sharpe Ratio\n",
    "\n",
    "Annualized Sharpe Ratio = K-value * SR\n",
    "\n",
    "K-values for various sampling rates:\n",
    "\n",
    "* Daily = sqrt(252)\n",
    "* Weekly = sqrt(52)\n",
    "* Monthly = sqrt(12)\n",
    "\n",
    "Since I'm based in the USA, I will use a very low risk-free rate (the rate you would get if you just put your money in a bank, its currently very low in the USA, let's just say its ~0% return). If you are in a different country with higher rates for your trading currency, you can use this trick to convert a yearly rate with a daily rate:\n",
    "\n",
    "daily_rate = ((1.0 + yearly_rate)**(1/252))-1\n",
    "\n",
    "Other values people use are things like the 3-month treasury bill or [LIBOR](http://www.investopedia.com/terms/l/libor.asp).\n",
    "\n",
    "Read more: Sharpe Ratio http://www.investopedia.com/terms/s/sharperatio"
   ]
  },
  {
   "cell_type": "code",
   "execution_count": 49,
   "metadata": {},
   "outputs": [
    {
     "data": {
      "text/plain": [
       "0.051496806626477189"
      ]
     },
     "execution_count": 49,
     "metadata": {},
     "output_type": "execute_result"
    }
   ],
   "source": [
    "SR = portfolio_val['Daily Return'].mean()/portfolio_val['Daily Return'].std()\n",
    "SR"
   ]
  },
  {
   "cell_type": "code",
   "execution_count": 50,
   "metadata": {},
   "outputs": [
    {
     "data": {
      "text/plain": [
       "0.81748646188585039"
      ]
     },
     "execution_count": 50,
     "metadata": {},
     "output_type": "execute_result"
    }
   ],
   "source": [
    "ASR = (252**0.5)*SR\n",
    "ASR"
   ]
  },
  {
   "cell_type": "markdown",
   "metadata": {},
   "source": [
    "# Portfolio Optimization"
   ]
  },
  {
   "cell_type": "markdown",
   "metadata": {},
   "source": [
    "## Monte Carlo Simulation for Optimization Search"
   ]
  },
  {
   "cell_type": "code",
   "execution_count": 1,
   "metadata": {},
   "outputs": [],
   "source": [
    "import numpy as np\n",
    "import pandas as pd\n",
    "import matplotlib.pyplot as plt\n",
    "%matplotlib inline"
   ]
  },
  {
   "cell_type": "code",
   "execution_count": 2,
   "metadata": {},
   "outputs": [],
   "source": [
    "aapl = pd.read_csv('../09-Python-Finance-Fundamentals/AAPL_CLOSE',index_col='Date',parse_dates=True)\n",
    "cisco = pd.read_csv('../09-Python-Finance-Fundamentals/CISCO_CLOSE',index_col='Date',parse_dates=True)\n",
    "ibm = pd.read_csv('../09-Python-Finance-Fundamentals/IBM_CLOSE',index_col='Date',parse_dates=True)\n",
    "amzn = pd.read_csv('../09-Python-Finance-Fundamentals/AMZN_CLOSE',index_col='Date',parse_dates=True)"
   ]
  },
  {
   "cell_type": "code",
   "execution_count": 3,
   "metadata": {},
   "outputs": [],
   "source": [
    "stocks = pd.concat([aapl,cisco,ibm,amzn],axis=1)\n",
    "stocks.columns = ['aapl','cisco','ibm','amzn']"
   ]
  },
  {
   "cell_type": "code",
   "execution_count": 4,
   "metadata": {},
   "outputs": [
    {
     "data": {
      "text/html": [
       "<div>\n",
       "<style scoped>\n",
       "    .dataframe tbody tr th:only-of-type {\n",
       "        vertical-align: middle;\n",
       "    }\n",
       "\n",
       "    .dataframe tbody tr th {\n",
       "        vertical-align: top;\n",
       "    }\n",
       "\n",
       "    .dataframe thead th {\n",
       "        text-align: right;\n",
       "    }\n",
       "</style>\n",
       "<table border=\"1\" class=\"dataframe\">\n",
       "  <thead>\n",
       "    <tr style=\"text-align: right;\">\n",
       "      <th></th>\n",
       "      <th>aapl</th>\n",
       "      <th>cisco</th>\n",
       "      <th>ibm</th>\n",
       "      <th>amzn</th>\n",
       "    </tr>\n",
       "    <tr>\n",
       "      <th>Date</th>\n",
       "      <th></th>\n",
       "      <th></th>\n",
       "      <th></th>\n",
       "      <th></th>\n",
       "    </tr>\n",
       "  </thead>\n",
       "  <tbody>\n",
       "    <tr>\n",
       "      <th>2012-01-03</th>\n",
       "      <td>53.063218</td>\n",
       "      <td>15.752778</td>\n",
       "      <td>160.830881</td>\n",
       "      <td>179.03</td>\n",
       "    </tr>\n",
       "    <tr>\n",
       "      <th>2012-01-04</th>\n",
       "      <td>53.348386</td>\n",
       "      <td>16.057180</td>\n",
       "      <td>160.174781</td>\n",
       "      <td>177.51</td>\n",
       "    </tr>\n",
       "    <tr>\n",
       "      <th>2012-01-05</th>\n",
       "      <td>53.940658</td>\n",
       "      <td>15.997991</td>\n",
       "      <td>159.415086</td>\n",
       "      <td>177.61</td>\n",
       "    </tr>\n",
       "    <tr>\n",
       "      <th>2012-01-06</th>\n",
       "      <td>54.504543</td>\n",
       "      <td>15.938801</td>\n",
       "      <td>157.584912</td>\n",
       "      <td>182.61</td>\n",
       "    </tr>\n",
       "    <tr>\n",
       "      <th>2012-01-09</th>\n",
       "      <td>54.418089</td>\n",
       "      <td>16.040268</td>\n",
       "      <td>156.764786</td>\n",
       "      <td>178.56</td>\n",
       "    </tr>\n",
       "  </tbody>\n",
       "</table>\n",
       "</div>"
      ],
      "text/plain": [
       "                 aapl      cisco         ibm    amzn\n",
       "Date                                                \n",
       "2012-01-03  53.063218  15.752778  160.830881  179.03\n",
       "2012-01-04  53.348386  16.057180  160.174781  177.51\n",
       "2012-01-05  53.940658  15.997991  159.415086  177.61\n",
       "2012-01-06  54.504543  15.938801  157.584912  182.61\n",
       "2012-01-09  54.418089  16.040268  156.764786  178.56"
      ]
     },
     "execution_count": 4,
     "metadata": {},
     "output_type": "execute_result"
    }
   ],
   "source": [
    "stocks.head()"
   ]
  },
  {
   "cell_type": "code",
   "execution_count": 5,
   "metadata": {},
   "outputs": [
    {
     "data": {
      "text/plain": [
       "aapl     0.000750\n",
       "cisco    0.000599\n",
       "ibm      0.000081\n",
       "amzn     0.001328\n",
       "dtype: float64"
      ]
     },
     "execution_count": 5,
     "metadata": {},
     "output_type": "execute_result"
    }
   ],
   "source": [
    "stocks.pct_change(1).mean()"
   ]
  },
  {
   "cell_type": "code",
   "execution_count": 7,
   "metadata": {},
   "outputs": [
    {
     "data": {
      "text/html": [
       "<div>\n",
       "<style scoped>\n",
       "    .dataframe tbody tr th:only-of-type {\n",
       "        vertical-align: middle;\n",
       "    }\n",
       "\n",
       "    .dataframe tbody tr th {\n",
       "        vertical-align: top;\n",
       "    }\n",
       "\n",
       "    .dataframe thead th {\n",
       "        text-align: right;\n",
       "    }\n",
       "</style>\n",
       "<table border=\"1\" class=\"dataframe\">\n",
       "  <thead>\n",
       "    <tr style=\"text-align: right;\">\n",
       "      <th></th>\n",
       "      <th>aapl</th>\n",
       "      <th>cisco</th>\n",
       "      <th>ibm</th>\n",
       "      <th>amzn</th>\n",
       "    </tr>\n",
       "  </thead>\n",
       "  <tbody>\n",
       "    <tr>\n",
       "      <th>aapl</th>\n",
       "      <td>1.000000</td>\n",
       "      <td>0.301990</td>\n",
       "      <td>0.297498</td>\n",
       "      <td>0.235487</td>\n",
       "    </tr>\n",
       "    <tr>\n",
       "      <th>cisco</th>\n",
       "      <td>0.301990</td>\n",
       "      <td>1.000000</td>\n",
       "      <td>0.424672</td>\n",
       "      <td>0.284470</td>\n",
       "    </tr>\n",
       "    <tr>\n",
       "      <th>ibm</th>\n",
       "      <td>0.297498</td>\n",
       "      <td>0.424672</td>\n",
       "      <td>1.000000</td>\n",
       "      <td>0.258492</td>\n",
       "    </tr>\n",
       "    <tr>\n",
       "      <th>amzn</th>\n",
       "      <td>0.235487</td>\n",
       "      <td>0.284470</td>\n",
       "      <td>0.258492</td>\n",
       "      <td>1.000000</td>\n",
       "    </tr>\n",
       "  </tbody>\n",
       "</table>\n",
       "</div>"
      ],
      "text/plain": [
       "           aapl     cisco       ibm      amzn\n",
       "aapl   1.000000  0.301990  0.297498  0.235487\n",
       "cisco  0.301990  1.000000  0.424672  0.284470\n",
       "ibm    0.297498  0.424672  1.000000  0.258492\n",
       "amzn   0.235487  0.284470  0.258492  1.000000"
      ]
     },
     "execution_count": 7,
     "metadata": {},
     "output_type": "execute_result"
    }
   ],
   "source": [
    "stocks.pct_change(1).corr()"
   ]
  },
  {
   "cell_type": "code",
   "execution_count": 8,
   "metadata": {},
   "outputs": [
    {
     "data": {
      "text/html": [
       "<div>\n",
       "<style scoped>\n",
       "    .dataframe tbody tr th:only-of-type {\n",
       "        vertical-align: middle;\n",
       "    }\n",
       "\n",
       "    .dataframe tbody tr th {\n",
       "        vertical-align: top;\n",
       "    }\n",
       "\n",
       "    .dataframe thead th {\n",
       "        text-align: right;\n",
       "    }\n",
       "</style>\n",
       "<table border=\"1\" class=\"dataframe\">\n",
       "  <thead>\n",
       "    <tr style=\"text-align: right;\">\n",
       "      <th></th>\n",
       "      <th>aapl</th>\n",
       "      <th>cisco</th>\n",
       "      <th>ibm</th>\n",
       "      <th>amzn</th>\n",
       "    </tr>\n",
       "    <tr>\n",
       "      <th>Date</th>\n",
       "      <th></th>\n",
       "      <th></th>\n",
       "      <th></th>\n",
       "      <th></th>\n",
       "    </tr>\n",
       "  </thead>\n",
       "  <tbody>\n",
       "    <tr>\n",
       "      <th>2012-01-03</th>\n",
       "      <td>NaN</td>\n",
       "      <td>NaN</td>\n",
       "      <td>NaN</td>\n",
       "      <td>NaN</td>\n",
       "    </tr>\n",
       "    <tr>\n",
       "      <th>2012-01-04</th>\n",
       "      <td>0.005374</td>\n",
       "      <td>0.019324</td>\n",
       "      <td>-0.004079</td>\n",
       "      <td>-0.008490</td>\n",
       "    </tr>\n",
       "    <tr>\n",
       "      <th>2012-01-05</th>\n",
       "      <td>0.011102</td>\n",
       "      <td>-0.003686</td>\n",
       "      <td>-0.004743</td>\n",
       "      <td>0.000563</td>\n",
       "    </tr>\n",
       "    <tr>\n",
       "      <th>2012-01-06</th>\n",
       "      <td>0.010454</td>\n",
       "      <td>-0.003700</td>\n",
       "      <td>-0.011481</td>\n",
       "      <td>0.028152</td>\n",
       "    </tr>\n",
       "    <tr>\n",
       "      <th>2012-01-09</th>\n",
       "      <td>-0.001586</td>\n",
       "      <td>0.006366</td>\n",
       "      <td>-0.005204</td>\n",
       "      <td>-0.022178</td>\n",
       "    </tr>\n",
       "  </tbody>\n",
       "</table>\n",
       "</div>"
      ],
      "text/plain": [
       "                aapl     cisco       ibm      amzn\n",
       "Date                                              \n",
       "2012-01-03       NaN       NaN       NaN       NaN\n",
       "2012-01-04  0.005374  0.019324 -0.004079 -0.008490\n",
       "2012-01-05  0.011102 -0.003686 -0.004743  0.000563\n",
       "2012-01-06  0.010454 -0.003700 -0.011481  0.028152\n",
       "2012-01-09 -0.001586  0.006366 -0.005204 -0.022178"
      ]
     },
     "execution_count": 8,
     "metadata": {},
     "output_type": "execute_result"
    }
   ],
   "source": [
    "stocks.pct_change(1).head()"
   ]
  },
  {
   "cell_type": "markdown",
   "metadata": {},
   "source": [
    "## Log Returns vs Arithmetic Returns"
   ]
  },
  {
   "cell_type": "code",
   "execution_count": 9,
   "metadata": {},
   "outputs": [
    {
     "data": {
      "text/html": [
       "<div>\n",
       "<style scoped>\n",
       "    .dataframe tbody tr th:only-of-type {\n",
       "        vertical-align: middle;\n",
       "    }\n",
       "\n",
       "    .dataframe tbody tr th {\n",
       "        vertical-align: top;\n",
       "    }\n",
       "\n",
       "    .dataframe thead th {\n",
       "        text-align: right;\n",
       "    }\n",
       "</style>\n",
       "<table border=\"1\" class=\"dataframe\">\n",
       "  <thead>\n",
       "    <tr style=\"text-align: right;\">\n",
       "      <th></th>\n",
       "      <th>aapl</th>\n",
       "      <th>cisco</th>\n",
       "      <th>ibm</th>\n",
       "      <th>amzn</th>\n",
       "    </tr>\n",
       "    <tr>\n",
       "      <th>Date</th>\n",
       "      <th></th>\n",
       "      <th></th>\n",
       "      <th></th>\n",
       "      <th></th>\n",
       "    </tr>\n",
       "  </thead>\n",
       "  <tbody>\n",
       "    <tr>\n",
       "      <th>2012-01-03</th>\n",
       "      <td>NaN</td>\n",
       "      <td>NaN</td>\n",
       "      <td>NaN</td>\n",
       "      <td>NaN</td>\n",
       "    </tr>\n",
       "    <tr>\n",
       "      <th>2012-01-04</th>\n",
       "      <td>0.005360</td>\n",
       "      <td>0.019139</td>\n",
       "      <td>-0.004088</td>\n",
       "      <td>-0.008526</td>\n",
       "    </tr>\n",
       "    <tr>\n",
       "      <th>2012-01-05</th>\n",
       "      <td>0.011041</td>\n",
       "      <td>-0.003693</td>\n",
       "      <td>-0.004754</td>\n",
       "      <td>0.000563</td>\n",
       "    </tr>\n",
       "    <tr>\n",
       "      <th>2012-01-06</th>\n",
       "      <td>0.010400</td>\n",
       "      <td>-0.003707</td>\n",
       "      <td>-0.011547</td>\n",
       "      <td>0.027763</td>\n",
       "    </tr>\n",
       "    <tr>\n",
       "      <th>2012-01-09</th>\n",
       "      <td>-0.001587</td>\n",
       "      <td>0.006346</td>\n",
       "      <td>-0.005218</td>\n",
       "      <td>-0.022428</td>\n",
       "    </tr>\n",
       "  </tbody>\n",
       "</table>\n",
       "</div>"
      ],
      "text/plain": [
       "                aapl     cisco       ibm      amzn\n",
       "Date                                              \n",
       "2012-01-03       NaN       NaN       NaN       NaN\n",
       "2012-01-04  0.005360  0.019139 -0.004088 -0.008526\n",
       "2012-01-05  0.011041 -0.003693 -0.004754  0.000563\n",
       "2012-01-06  0.010400 -0.003707 -0.011547  0.027763\n",
       "2012-01-09 -0.001587  0.006346 -0.005218 -0.022428"
      ]
     },
     "execution_count": 9,
     "metadata": {},
     "output_type": "execute_result"
    }
   ],
   "source": [
    "log_ret = np.log(stocks/stocks.shift(1))\n",
    "log_ret.head()"
   ]
  },
  {
   "cell_type": "code",
   "execution_count": 10,
   "metadata": {},
   "outputs": [
    {
     "data": {
      "image/png": "[encoded data removed]",
      "text/plain": [
       "<matplotlib.figure.Figure at 0x165f4fab828>"
      ]
     },
     "metadata": {},
     "output_type": "display_data"
    }
   ],
   "source": [
    "log_ret.hist(bins=100,figsize=(12,6));\n",
    "plt.tight_layout()"
   ]
  },
  {
   "cell_type": "code",
   "execution_count": 11,
   "metadata": {},
   "outputs": [
    {
     "data": {
      "text/plain": [
       "aapl     0.000614\n",
       "cisco    0.000497\n",
       "ibm      0.000011\n",
       "amzn     0.001139\n",
       "dtype: float64"
      ]
     },
     "execution_count": 11,
     "metadata": {},
     "output_type": "execute_result"
    }
   ],
   "source": [
    "log_ret.mean()"
   ]
  },
  {
   "cell_type": "code",
   "execution_count": 12,
   "metadata": {},
   "outputs": [
    {
     "data": {
      "text/plain": [
       "aapl     0.154803\n",
       "cisco    0.125291\n",
       "ibm      0.002788\n",
       "amzn     0.287153\n",
       "dtype: float64"
      ]
     },
     "execution_count": 12,
     "metadata": {},
     "output_type": "execute_result"
    }
   ],
   "source": [
    "log_ret.mean() * 252"
   ]
  },
  {
   "cell_type": "code",
   "execution_count": 13,
   "metadata": {},
   "outputs": [
    {
     "data": {
      "text/html": [
       "<div>\n",
       "<style scoped>\n",
       "    .dataframe tbody tr th:only-of-type {\n",
       "        vertical-align: middle;\n",
       "    }\n",
       "\n",
       "    .dataframe tbody tr th {\n",
       "        vertical-align: top;\n",
       "    }\n",
       "\n",
       "    .dataframe thead th {\n",
       "        text-align: right;\n",
       "    }\n",
       "</style>\n",
       "<table border=\"1\" class=\"dataframe\">\n",
       "  <thead>\n",
       "    <tr style=\"text-align: right;\">\n",
       "      <th></th>\n",
       "      <th>aapl</th>\n",
       "      <th>cisco</th>\n",
       "      <th>ibm</th>\n",
       "      <th>amzn</th>\n",
       "    </tr>\n",
       "  </thead>\n",
       "  <tbody>\n",
       "    <tr>\n",
       "      <th>aapl</th>\n",
       "      <td>0.000271</td>\n",
       "      <td>0.000071</td>\n",
       "      <td>0.000057</td>\n",
       "      <td>0.000075</td>\n",
       "    </tr>\n",
       "    <tr>\n",
       "      <th>cisco</th>\n",
       "      <td>0.000071</td>\n",
       "      <td>0.000204</td>\n",
       "      <td>0.000072</td>\n",
       "      <td>0.000079</td>\n",
       "    </tr>\n",
       "    <tr>\n",
       "      <th>ibm</th>\n",
       "      <td>0.000057</td>\n",
       "      <td>0.000072</td>\n",
       "      <td>0.000140</td>\n",
       "      <td>0.000059</td>\n",
       "    </tr>\n",
       "    <tr>\n",
       "      <th>amzn</th>\n",
       "      <td>0.000075</td>\n",
       "      <td>0.000079</td>\n",
       "      <td>0.000059</td>\n",
       "      <td>0.000375</td>\n",
       "    </tr>\n",
       "  </tbody>\n",
       "</table>\n",
       "</div>"
      ],
      "text/plain": [
       "           aapl     cisco       ibm      amzn\n",
       "aapl   0.000271  0.000071  0.000057  0.000075\n",
       "cisco  0.000071  0.000204  0.000072  0.000079\n",
       "ibm    0.000057  0.000072  0.000140  0.000059\n",
       "amzn   0.000075  0.000079  0.000059  0.000375"
      ]
     },
     "execution_count": 13,
     "metadata": {},
     "output_type": "execute_result"
    }
   ],
   "source": [
    "log_ret.cov()"
   ]
  },
  {
   "cell_type": "code",
   "execution_count": 14,
   "metadata": {},
   "outputs": [
    {
     "data": {
      "text/html": [
       "<div>\n",
       "<style scoped>\n",
       "    .dataframe tbody tr th:only-of-type {\n",
       "        vertical-align: middle;\n",
       "    }\n",
       "\n",
       "    .dataframe tbody tr th {\n",
       "        vertical-align: top;\n",
       "    }\n",
       "\n",
       "    .dataframe thead th {\n",
       "        text-align: right;\n",
       "    }\n",
       "</style>\n",
       "<table border=\"1\" class=\"dataframe\">\n",
       "  <thead>\n",
       "    <tr style=\"text-align: right;\">\n",
       "      <th></th>\n",
       "      <th>aapl</th>\n",
       "      <th>cisco</th>\n",
       "      <th>ibm</th>\n",
       "      <th>amzn</th>\n",
       "    </tr>\n",
       "  </thead>\n",
       "  <tbody>\n",
       "    <tr>\n",
       "      <th>aapl</th>\n",
       "      <td>0.068326</td>\n",
       "      <td>0.017854</td>\n",
       "      <td>0.014464</td>\n",
       "      <td>0.018986</td>\n",
       "    </tr>\n",
       "    <tr>\n",
       "      <th>cisco</th>\n",
       "      <td>0.017854</td>\n",
       "      <td>0.051381</td>\n",
       "      <td>0.018029</td>\n",
       "      <td>0.019956</td>\n",
       "    </tr>\n",
       "    <tr>\n",
       "      <th>ibm</th>\n",
       "      <td>0.014464</td>\n",
       "      <td>0.018029</td>\n",
       "      <td>0.035203</td>\n",
       "      <td>0.014939</td>\n",
       "    </tr>\n",
       "    <tr>\n",
       "      <th>amzn</th>\n",
       "      <td>0.018986</td>\n",
       "      <td>0.019956</td>\n",
       "      <td>0.014939</td>\n",
       "      <td>0.094470</td>\n",
       "    </tr>\n",
       "  </tbody>\n",
       "</table>\n",
       "</div>"
      ],
      "text/plain": [
       "           aapl     cisco       ibm      amzn\n",
       "aapl   0.068326  0.017854  0.014464  0.018986\n",
       "cisco  0.017854  0.051381  0.018029  0.019956\n",
       "ibm    0.014464  0.018029  0.035203  0.014939\n",
       "amzn   0.018986  0.019956  0.014939  0.094470"
      ]
     },
     "execution_count": 14,
     "metadata": {},
     "output_type": "execute_result"
    }
   ],
   "source": [
    "log_ret.cov() * 252"
   ]
  },
  {
   "cell_type": "markdown",
   "metadata": {},
   "source": [
    "## Single Run for Some Random Allocation"
   ]
  },
  {
   "cell_type": "code",
   "execution_count": 15,
   "metadata": {},
   "outputs": [
    {
     "name": "stdout",
     "output_type": "stream",
     "text": [
      "Stocks\n",
      "Index(['aapl', 'cisco', 'ibm', 'amzn'], dtype='object')\n",
      "Creating Random Weights\n",
      "[0.51639863 0.57066759 0.02847423 0.17152166]\n",
      "Rebalance to sum to 1.0\n",
      "[0.40122278 0.44338777 0.02212343 0.13326603]\n",
      "Expected Portfolio Return\n",
      "0.15599272049632004\n",
      "Expected Volatility\n",
      "0.18502649565909488\n",
      "Sharpe Ratio\n",
      "0.8430831483926032\n"
     ]
    }
   ],
   "source": [
    "# Set seed (optional)\n",
    "np.random.seed(101)\n",
    "\n",
    "# Stock Columns\n",
    "print('Stocks')\n",
    "print(stocks.columns)\n",
    "\n",
    "# Create Random Weights\n",
    "print('Creating Random Weights')\n",
    "weights = np.array(np.random.random(4))\n",
    "print(weights)\n",
    "\n",
    "# Rebalance Weights\n",
    "print('Rebalance to sum to 1.0')\n",
    "weights = weights / np.sum(weights)\n",
    "print(weights)\n",
    "\n",
    "# Expected Return\n",
    "print('Expected Portfolio Return')\n",
    "exp_ret = np.sum(log_ret.mean() * weights) *252\n",
    "print(exp_ret)\n",
    "\n",
    "# Expected Volatility\n",
    "print('Expected Volatility')\n",
    "exp_vol = np.sqrt(np.dot(weights.T, np.dot(log_ret.cov() * 252, weights)))\n",
    "print(exp_vol)\n",
    "\n",
    "# Sharpe Ratio\n",
    "SR = exp_ret/exp_vol\n",
    "print('Sharpe Ratio')\n",
    "print(SR)"
   ]
  },
  {
   "cell_type": "code",
   "execution_count": 16,
   "metadata": {},
   "outputs": [],
   "source": [
    "num_ports = 15000\n",
    "\n",
    "all_weights = np.zeros((num_ports,len(stocks.columns)))\n",
    "ret_arr = np.zeros(num_ports)\n",
    "vol_arr = np.zeros(num_ports)\n",
    "sharpe_arr = np.zeros(num_ports)\n",
    "\n",
    "for ind in range(num_ports):\n",
    "\n",
    "    # Create Random Weights\n",
    "    weights = np.array(np.random.random(4))\n",
    "\n",
    "    # Rebalance Weights\n",
    "    weights = weights / np.sum(weights)\n",
    "    \n",
    "    # Save Weights\n",
    "    all_weights[ind,:] = weights\n",
    "\n",
    "    # Expected Return\n",
    "    ret_arr[ind] = np.sum((log_ret.mean() * weights) *252)\n",
    "\n",
    "    # Expected Variance\n",
    "    vol_arr[ind] = np.sqrt(np.dot(weights.T, np.dot(log_ret.cov() * 252, weights)))\n",
    "\n",
    "    # Sharpe Ratio\n",
    "    sharpe_arr[ind] = ret_arr[ind]/vol_arr[ind]"
   ]
  },
  {
   "cell_type": "code",
   "execution_count": 17,
   "metadata": {},
   "outputs": [
    {
     "data": {
      "text/plain": [
       "1.0303260551271065"
      ]
     },
     "execution_count": 17,
     "metadata": {},
     "output_type": "execute_result"
    }
   ],
   "source": [
    "sharpe_arr.max()"
   ]
  },
  {
   "cell_type": "code",
   "execution_count": 18,
   "metadata": {},
   "outputs": [
    {
     "data": {
      "text/plain": [
       "1419"
      ]
     },
     "execution_count": 18,
     "metadata": {},
     "output_type": "execute_result"
    }
   ],
   "source": [
    "sharpe_arr.argmax()"
   ]
  },
  {
   "cell_type": "code",
   "execution_count": 19,
   "metadata": {},
   "outputs": [
    {
     "data": {
      "text/plain": [
       "array([0.26188068, 0.20759516, 0.00110226, 0.5294219 ])"
      ]
     },
     "execution_count": 19,
     "metadata": {},
     "output_type": "execute_result"
    }
   ],
   "source": [
    "all_weights[1419,:]"
   ]
  },
  {
   "cell_type": "markdown",
   "metadata": {},
   "source": [
    "**Plotting the data**"
   ]
  },
  {
   "cell_type": "code",
   "execution_count": 20,
   "metadata": {},
   "outputs": [],
   "source": [
    "max_sr_ret = ret_arr[1419]\n",
    "max_sr_vol = vol_arr[1419]"
   ]
  },
  {
   "cell_type": "code",
   "execution_count": 21,
   "metadata": {},
   "outputs": [
    {
     "data": {
      "text/plain": [
       "<matplotlib.collections.PathCollection at 0x165f5147c50>"
      ]
     },
     "execution_count": 21,
     "metadata": {},
     "output_type": "execute_result"
    },
    {
     "data": {
      "image/png": "[encoded data removed]",
      "text/plain": [
       "<matplotlib.figure.Figure at 0x165f4e18c18>"
      ]
     },
     "metadata": {},
     "output_type": "display_data"
    }
   ],
   "source": [
    "plt.figure(figsize=(12,8))\n",
    "plt.scatter(vol_arr,ret_arr,c=sharpe_arr,cmap='plasma')\n",
    "plt.colorbar(label='Sharpe Ratio')\n",
    "plt.xlabel('Volatility')\n",
    "plt.ylabel('Return')\n",
    "\n",
    "# Add red dot for max SR\n",
    "plt.scatter(max_sr_vol,max_sr_ret,c='red',s=50,edgecolors='black')"
   ]
  },
  {
   "cell_type": "markdown",
   "metadata": {},
   "source": [
    "## Mathematical Optimization"
   ]
  },
  {
   "cell_type": "markdown",
   "metadata": {},
   "source": [
    "**Functionalize Return and SR operations**"
   ]
  },
  {
   "cell_type": "code",
   "execution_count": 22,
   "metadata": {},
   "outputs": [],
   "source": [
    "def get_ret_vol_sr(weights):\n",
    "    \"\"\"\n",
    "    Takes in weights, returns array or return,volatility, sharpe ratio\n",
    "    \"\"\"\n",
    "    weights = np.array(weights)\n",
    "    ret = np.sum(log_ret.mean() * weights) * 252\n",
    "    vol = np.sqrt(np.dot(weights.T, np.dot(log_ret.cov() * 252, weights)))\n",
    "    sr = ret/vol\n",
    "    return np.array([ret,vol,sr])"
   ]
  },
  {
   "cell_type": "code",
   "execution_count": 23,
   "metadata": {},
   "outputs": [],
   "source": [
    "from scipy.optimize import minimize"
   ]
  },
  {
   "cell_type": "code",
   "execution_count": 24,
   "metadata": {},
   "outputs": [
    {
     "name": "stdout",
     "output_type": "stream",
     "text": [
      "Help on function minimize in module scipy.optimize._minimize:\n",
      "\n",
      "minimize(fun, x0, args=(), method=None, jac=None, hess=None, hessp=None, bounds=None, constraints=(), tol=None, callback=None, options=None)\n",
      "    Minimization of scalar function of one or more variables.\n",
      "    \n",
      "    In general, the optimization problems are of the form::\n",
      "    \n",
      "        minimize f(x) subject to\n",
      "    \n",
      "        g_i(x) >= 0,  i = 1,...,m\n",
      "        h_j(x)  = 0,  j = 1,...,p\n",
      "    \n",
      "    where x is a vector of one or more variables.\n",
      "    ``g_i(x)`` are the inequality constraints.\n",
      "    ``h_j(x)`` are the equality constrains.\n",
      "    \n",
      "    Optionally, the lower and upper bounds for each element in x can also be\n",
      "    specified using the `bounds` argument.\n",
      "    \n",
      "    Parameters\n",
      "    ----------\n",
      "    fun : callable\n",
      "        The objective function to be minimized. Must be in the form\n",
      "        ``f(x, *args)``. The optimizing argument, ``x``, is a 1-D array\n",
      "        of points, and ``args`` is a tuple of any additional fixed parameters\n",
      "        needed to completely specify the function.\n",
      "    x0 : ndarray\n",
      "        Initial guess. ``len(x0)`` is the dimensionality of the minimization\n",
      "        problem.\n",
      "    args : tuple, optional\n",
      "        Extra arguments passed to the objective function and its\n",
      "        derivatives (Jacobian, Hessian).\n",
      "    method : str or callable, optional\n",
      "        Type of solver.  Should be one of\n",
      "    \n",
      "            - 'Nelder-Mead' :ref:`(see here) <optimize.minimize-neldermead>`\n",
      "            - 'Powell'      :ref:`(see here) <optimize.minimize-powell>`\n",
      "            - 'CG'          :ref:`(see here) <optimize.minimize-cg>`\n",
      "            - 'BFGS'        :ref:`(see here) <optimize.minimize-bfgs>`\n",
      "            - 'Newton-CG'   :ref:`(see here) <optimize.minimize-newtoncg>`\n",
      "            - 'L-BFGS-B'    :ref:`(see here) <optimize.minimize-lbfgsb>`\n",
      "            - 'TNC'         :ref:`(see here) <optimize.minimize-tnc>`\n",
      "            - 'COBYLA'      :ref:`(see here) <optimize.minimize-cobyla>`\n",
      "            - 'SLSQP'       :ref:`(see here) <optimize.minimize-slsqp>`\n",
      "            - 'dogleg'      :ref:`(see here) <optimize.minimize-dogleg>`\n",
      "            - 'trust-ncg'   :ref:`(see here) <optimize.minimize-trustncg>`\n",
      "            - 'trust-exact' :ref:`(see here) <optimize.minimize-trustexact>`\n",
      "            - 'trust-krylov' :ref:`(see here) <optimize.minimize-trustkrylov>`\n",
      "            - custom - a callable object (added in version 0.14.0),\n",
      "              see below for description.\n",
      "    \n",
      "        If not given, chosen to be one of ``BFGS``, ``L-BFGS-B``, ``SLSQP``,\n",
      "        depending if the problem has constraints or bounds.\n",
      "    jac : bool or callable, optional\n",
      "        Jacobian (gradient) of objective function. Only for CG, BFGS,\n",
      "        Newton-CG, L-BFGS-B, TNC, SLSQP, dogleg, trust-ncg, trust-krylov,\n",
      "        trust-region-exact.\n",
      "        If `jac` is a Boolean and is True, `fun` is assumed to return the\n",
      "        gradient along with the objective function. If False, the\n",
      "        gradient will be estimated numerically.\n",
      "        `jac` can also be a callable returning the gradient of the\n",
      "        objective. In this case, it must accept the same arguments as `fun`.\n",
      "    hess, hessp : callable, optional\n",
      "        Hessian (matrix of second-order derivatives) of objective function or\n",
      "        Hessian of objective function times an arbitrary vector p.  Only for\n",
      "        Newton-CG, dogleg, trust-ncg, trust-krylov, trust-region-exact.\n",
      "        Only one of `hessp` or `hess` needs to be given.  If `hess` is\n",
      "        provided, then `hessp` will be ignored.  If neither `hess` nor\n",
      "        `hessp` is provided, then the Hessian product will be approximated\n",
      "        using finite differences on `jac`. `hessp` must compute the Hessian\n",
      "        times an arbitrary vector.\n",
      "    bounds : sequence, optional\n",
      "        Bounds for variables (only for L-BFGS-B, TNC and SLSQP).\n",
      "        ``(min, max)`` pairs for each element in ``x``, defining\n",
      "        the bounds on that parameter. Use None for one of ``min`` or\n",
      "        ``max`` when there is no bound in that direction.\n",
      "    constraints : dict or sequence of dict, optional\n",
      "        Constraints definition (only for COBYLA and SLSQP).\n",
      "        Each constraint is defined in a dictionary with fields:\n",
      "    \n",
      "            type : str\n",
      "                Constraint type: 'eq' for equality, 'ineq' for inequality.\n",
      "            fun : callable\n",
      "                The function defining the constraint.\n",
      "            jac : callable, optional\n",
      "                The Jacobian of `fun` (only for SLSQP).\n",
      "            args : sequence, optional\n",
      "                Extra arguments to be passed to the function and Jacobian.\n",
      "    \n",
      "        Equality constraint means that the constraint function result is to\n",
      "        be zero whereas inequality means that it is to be non-negative.\n",
      "        Note that COBYLA only supports inequality constraints.\n",
      "    tol : float, optional\n",
      "        Tolerance for termination. For detailed control, use solver-specific\n",
      "        options.\n",
      "    options : dict, optional\n",
      "        A dictionary of solver options. All methods accept the following\n",
      "        generic options:\n",
      "    \n",
      "            maxiter : int\n",
      "                Maximum number of iterations to perform.\n",
      "            disp : bool\n",
      "                Set to True to print convergence messages.\n",
      "    \n",
      "        For method-specific options, see :func:`show_options()`.\n",
      "    callback : callable, optional\n",
      "        Called after each iteration, as ``callback(xk)``, where ``xk`` is the\n",
      "        current parameter vector.\n",
      "    \n",
      "    Returns\n",
      "    -------\n",
      "    res : OptimizeResult\n",
      "        The optimization result represented as a ``OptimizeResult`` object.\n",
      "        Important attributes are: ``x`` the solution array, ``success`` a\n",
      "        Boolean flag indicating if the optimizer exited successfully and\n",
      "        ``message`` which describes the cause of the termination. See\n",
      "        `OptimizeResult` for a description of other attributes.\n",
      "    \n",
      "    \n",
      "    See also\n",
      "    --------\n",
      "    minimize_scalar : Interface to minimization algorithms for scalar\n",
      "        univariate functions\n",
      "    show_options : Additional options accepted by the solvers\n",
      "    \n",
      "    Notes\n",
      "    -----\n",
      "    This section describes the available solvers that can be selected by the\n",
      "    'method' parameter. The default method is *BFGS*.\n",
      "    \n",
      "    **Unconstrained minimization**\n",
      "    \n",
      "    Method :ref:`Nelder-Mead <optimize.minimize-neldermead>` uses the\n",
      "    Simplex algorithm [1]_, [2]_. This algorithm is robust in many\n",
      "    applications. However, if numerical computation of derivative can be\n",
      "    trusted, other algorithms using the first and/or second derivatives\n",
      "    information might be preferred for their better performance in\n",
      "    general.\n",
      "    \n",
      "    Method :ref:`Powell <optimize.minimize-powell>` is a modification\n",
      "    of Powell's method [3]_, [4]_ which is a conjugate direction\n",
      "    method. It performs sequential one-dimensional minimizations along\n",
      "    each vector of the directions set (`direc` field in `options` and\n",
      "    `info`), which is updated at each iteration of the main\n",
      "    minimization loop. The function need not be differentiable, and no\n",
      "    derivatives are taken.\n",
      "    \n",
      "    Method :ref:`CG <optimize.minimize-cg>` uses a nonlinear conjugate\n",
      "    gradient algorithm by Polak and Ribiere, a variant of the\n",
      "    Fletcher-Reeves method described in [5]_ pp.  120-122. Only the\n",
      "    first derivatives are used.\n",
      "    \n",
      "    Method :ref:`BFGS <optimize.minimize-bfgs>` uses the quasi-Newton\n",
      "    method of Broyden, Fletcher, Goldfarb, and Shanno (BFGS) [5]_\n",
      "    pp. 136. It uses the first derivatives only. BFGS has proven good\n",
      "    performance even for non-smooth optimizations. This method also\n",
      "    returns an approximation of the Hessian inverse, stored as\n",
      "    `hess_inv` in the OptimizeResult object.\n",
      "    \n",
      "    Method :ref:`Newton-CG <optimize.minimize-newtoncg>` uses a\n",
      "    Newton-CG algorithm [5]_ pp. 168 (also known as the truncated\n",
      "    Newton method). It uses a CG method to the compute the search\n",
      "    direction. See also *TNC* method for a box-constrained\n",
      "    minimization with a similar algorithm. Suitable for large-scale\n",
      "    problems.\n",
      "    \n",
      "    Method :ref:`dogleg <optimize.minimize-dogleg>` uses the dog-leg\n",
      "    trust-region algorithm [5]_ for unconstrained minimization. This\n",
      "    algorithm requires the gradient and Hessian; furthermore the\n",
      "    Hessian is required to be positive definite.\n",
      "    \n",
      "    Method :ref:`trust-ncg <optimize.minimize-trustncg>` uses the\n",
      "    Newton conjugate gradient trust-region algorithm [5]_ for\n",
      "    unconstrained minimization. This algorithm requires the gradient\n",
      "    and either the Hessian or a function that computes the product of\n",
      "    the Hessian with a given vector. Suitable for large-scale problems.\n",
      "    \n",
      "    Method :ref:`trust-krylov <optimize.minimize-trustkrylov>` uses\n",
      "    the Newton GLTR trust-region algorithm [14]_, [15]_ for unconstrained\n",
      "    minimization. This algorithm requires the gradient\n",
      "    and either the Hessian or a function that computes the product of\n",
      "    the Hessian with a given vector. Suitable for large-scale problems.\n",
      "    On indefinite problems it requires usually less iterations than the\n",
      "    `trust-ncg` method and is recommended for medium and large-scale problems.\n",
      "    \n",
      "    Method :ref:`trust-exact <optimize.minimize-trustexact>`\n",
      "    is a trust-region method for unconstrained minimization in which\n",
      "    quadratic subproblems are solved almost exactly [13]_. This\n",
      "    algorithm requires the gradient and the Hessian (which is\n",
      "    *not* required to be positive definite). It is, in many\n",
      "    situations, the Newton method to converge in fewer iteraction\n",
      "    and the most recommended for small and medium-size problems.\n",
      "    \n",
      "    **Constrained minimization**\n",
      "    \n",
      "    Method :ref:`L-BFGS-B <optimize.minimize-lbfgsb>` uses the L-BFGS-B\n",
      "    algorithm [6]_, [7]_ for bound constrained minimization.\n",
      "    \n",
      "    Method :ref:`TNC <optimize.minimize-tnc>` uses a truncated Newton\n",
      "    algorithm [5]_, [8]_ to minimize a function with variables subject\n",
      "    to bounds. This algorithm uses gradient information; it is also\n",
      "    called Newton Conjugate-Gradient. It differs from the *Newton-CG*\n",
      "    method described above as it wraps a C implementation and allows\n",
      "    each variable to be given upper and lower bounds.\n",
      "    \n",
      "    Method :ref:`COBYLA <optimize.minimize-cobyla>` uses the\n",
      "    Constrained Optimization BY Linear Approximation (COBYLA) method\n",
      "    [9]_, [10]_, [11]_. The algorithm is based on linear\n",
      "    approximations to the objective function and each constraint. The\n",
      "    method wraps a FORTRAN implementation of the algorithm. The\n",
      "    constraints functions 'fun' may return either a single number\n",
      "    or an array or list of numbers.\n",
      "    \n",
      "    Method :ref:`SLSQP <optimize.minimize-slsqp>` uses Sequential\n",
      "    Least SQuares Programming to minimize a function of several\n",
      "    variables with any combination of bounds, equality and inequality\n",
      "    constraints. The method wraps the SLSQP Optimization subroutine\n",
      "    originally implemented by Dieter Kraft [12]_. Note that the\n",
      "    wrapper handles infinite values in bounds by converting them into\n",
      "    large floating values.\n",
      "    \n",
      "    **Custom minimizers**\n",
      "    \n",
      "    It may be useful to pass a custom minimization method, for example\n",
      "    when using a frontend to this method such as `scipy.optimize.basinhopping`\n",
      "    or a different library.  You can simply pass a callable as the ``method``\n",
      "    parameter.\n",
      "    \n",
      "    The callable is called as ``method(fun, x0, args, **kwargs, **options)``\n",
      "    where ``kwargs`` corresponds to any other parameters passed to `minimize`\n",
      "    (such as `callback`, `hess`, etc.), except the `options` dict, which has\n",
      "    its contents also passed as `method` parameters pair by pair.  Also, if\n",
      "    `jac` has been passed as a bool type, `jac` and `fun` are mangled so that\n",
      "    `fun` returns just the function values and `jac` is converted to a function\n",
      "    returning the Jacobian.  The method shall return an ``OptimizeResult``\n",
      "    object.\n",
      "    \n",
      "    The provided `method` callable must be able to accept (and possibly ignore)\n",
      "    arbitrary parameters; the set of parameters accepted by `minimize` may\n",
      "    expand in future versions and then these parameters will be passed to\n",
      "    the method.  You can find an example in the scipy.optimize tutorial.\n",
      "    \n",
      "    .. versionadded:: 0.11.0\n",
      "    \n",
      "    References\n",
      "    ----------\n",
      "    .. [1] Nelder, J A, and R Mead. 1965. A Simplex Method for Function\n",
      "        Minimization. The Computer Journal 7: 308-13.\n",
      "    .. [2] Wright M H. 1996. Direct search methods: Once scorned, now\n",
      "        respectable, in Numerical Analysis 1995: Proceedings of the 1995\n",
      "        Dundee Biennial Conference in Numerical Analysis (Eds. D F\n",
      "        Griffiths and G A Watson). Addison Wesley Longman, Harlow, UK.\n",
      "        191-208.\n",
      "    .. [3] Powell, M J D. 1964. An efficient method for finding the minimum of\n",
      "       a function of several variables without calculating derivatives. The\n",
      "       Computer Journal 7: 155-162.\n",
      "    .. [4] Press W, S A Teukolsky, W T Vetterling and B P Flannery.\n",
      "       Numerical Recipes (any edition), Cambridge University Press.\n",
      "    .. [5] Nocedal, J, and S J Wright. 2006. Numerical Optimization.\n",
      "       Springer New York.\n",
      "    .. [6] Byrd, R H and P Lu and J. Nocedal. 1995. A Limited Memory\n",
      "       Algorithm for Bound Constrained Optimization. SIAM Journal on\n",
      "       Scientific and Statistical Computing 16 (5): 1190-1208.\n",
      "    .. [7] Zhu, C and R H Byrd and J Nocedal. 1997. L-BFGS-B: Algorithm\n",
      "       778: L-BFGS-B, FORTRAN routines for large scale bound constrained\n",
      "       optimization. ACM Transactions on Mathematical Software 23 (4):\n",
      "       550-560.\n",
      "    .. [8] Nash, S G. Newton-Type Minimization Via the Lanczos Method.\n",
      "       1984. SIAM Journal of Numerical Analysis 21: 770-778.\n",
      "    .. [9] Powell, M J D. A direct search optimization method that models\n",
      "       the objective and constraint functions by linear interpolation.\n",
      "       1994. Advances in Optimization and Numerical Analysis, eds. S. Gomez\n",
      "       and J-P Hennart, Kluwer Academic (Dordrecht), 51-67.\n",
      "    .. [10] Powell M J D. Direct search algorithms for optimization\n",
      "       calculations. 1998. Acta Numerica 7: 287-336.\n",
      "    .. [11] Powell M J D. A view of algorithms for optimization without\n",
      "       derivatives. 2007.Cambridge University Technical Report DAMTP\n",
      "       2007/NA03\n",
      "    .. [12] Kraft, D. A software package for sequential quadratic\n",
      "       programming. 1988. Tech. Rep. DFVLR-FB 88-28, DLR German Aerospace\n",
      "       Center -- Institute for Flight Mechanics, Koln, Germany.\n",
      "    .. [13] Conn, A. R., Gould, N. I., and Toint, P. L.\n",
      "       Trust region methods. 2000. Siam. pp. 169-200.\n",
      "    .. [14] F. Lenders, C. Kirches, A. Potschka: \"trlib: A vector-free\n",
      "       implementation of the GLTR method for iterative solution of\n",
      "       the trust region problem\", https://arxiv.org/abs/1611.04718\n",
      "    .. [15] N. Gould, S. Lucidi, M. Roma, P. Toint: \"Solving the\n",
      "       Trust-Region Subproblem using the Lanczos Method\",\n",
      "       SIAM J. Optim., 9(2), 504--525, (1999).\n",
      "    \n",
      "    Examples\n",
      "    --------\n",
      "    Let us consider the problem of minimizing the Rosenbrock function. This\n",
      "    function (and its respective derivatives) is implemented in `rosen`\n",
      "    (resp. `rosen_der`, `rosen_hess`) in the `scipy.optimize`.\n",
      "    \n",
      "    >>> from scipy.optimize import minimize, rosen, rosen_der\n",
      "    \n",
      "    A simple application of the *Nelder-Mead* method is:\n",
      "    \n",
      "    >>> x0 = [1.3, 0.7, 0.8, 1.9, 1.2]\n",
      "    >>> res = minimize(rosen, x0, method='Nelder-Mead', tol=1e-6)\n",
      "    >>> res.x\n",
      "    array([ 1.,  1.,  1.,  1.,  1.])\n",
      "    \n",
      "    Now using the *BFGS* algorithm, using the first derivative and a few\n",
      "    options:\n",
      "    \n",
      "    >>> res = minimize(rosen, x0, method='BFGS', jac=rosen_der,\n",
      "    ...                options={'gtol': 1e-6, 'disp': True})\n",
      "    Optimization terminated successfully.\n",
      "             Current function value: 0.000000\n",
      "             Iterations: 26\n",
      "             Function evaluations: 31\n",
      "             Gradient evaluations: 31\n",
      "    >>> res.x\n",
      "    array([ 1.,  1.,  1.,  1.,  1.])\n",
      "    >>> print(res.message)\n",
      "    Optimization terminated successfully.\n",
      "    >>> res.hess_inv\n",
      "    array([[ 0.00749589,  0.01255155,  0.02396251,  0.04750988,  0.09495377],  # may vary\n",
      "           [ 0.01255155,  0.02510441,  0.04794055,  0.09502834,  0.18996269],\n",
      "           [ 0.02396251,  0.04794055,  0.09631614,  0.19092151,  0.38165151],\n",
      "           [ 0.04750988,  0.09502834,  0.19092151,  0.38341252,  0.7664427 ],\n",
      "           [ 0.09495377,  0.18996269,  0.38165151,  0.7664427,   1.53713523]])\n",
      "    \n",
      "    \n",
      "    Next, consider a minimization problem with several constraints (namely\n",
      "    Example 16.4 from [5]_). The objective function is:\n",
      "    \n",
      "    >>> fun = lambda x: (x[0] - 1)**2 + (x[1] - 2.5)**2\n",
      "    \n",
      "    There are three constraints defined as:\n",
      "    \n",
      "    >>> cons = ({'type': 'ineq', 'fun': lambda x:  x[0] - 2 * x[1] + 2},\n",
      "    ...         {'type': 'ineq', 'fun': lambda x: -x[0] - 2 * x[1] + 6},\n",
      "    ...         {'type': 'ineq', 'fun': lambda x: -x[0] + 2 * x[1] + 2})\n",
      "    \n",
      "    And variables must be positive, hence the following bounds:\n",
      "    \n",
      "    >>> bnds = ((0, None), (0, None))\n",
      "    \n",
      "    The optimization problem is solved using the SLSQP method as:\n",
      "    \n",
      "    >>> res = minimize(fun, (2, 0), method='SLSQP', bounds=bnds,\n",
      "    ...                constraints=cons)\n",
      "    \n",
      "    It should converge to the theoretical solution (1.4 ,1.7).\n",
      "\n"
     ]
    }
   ],
   "source": [
    "help(minimize)"
   ]
  },
  {
   "cell_type": "code",
   "execution_count": 25,
   "metadata": {},
   "outputs": [],
   "source": [
    "def neg_sharpe(weights):\n",
    "    return  get_ret_vol_sr(weights)[2] * -1"
   ]
  },
  {
   "cell_type": "code",
   "execution_count": 26,
   "metadata": {},
   "outputs": [],
   "source": [
    "# Contraints\n",
    "def check_sum(weights):\n",
    "    '''\n",
    "    Returns 0 if sum of weights is 1.0\n",
    "    '''\n",
    "    return np.sum(weights) - 1"
   ]
  },
  {
   "cell_type": "code",
   "execution_count": 27,
   "metadata": {},
   "outputs": [],
   "source": [
    "# By convention of minimize function it should be a function that returns zero for conditions\n",
    "cons = ({'type':'eq','fun': check_sum})"
   ]
  },
  {
   "cell_type": "code",
   "execution_count": 28,
   "metadata": {},
   "outputs": [],
   "source": [
    "# 0-1 bounds for each weight\n",
    "bounds = ((0, 1), (0, 1), (0, 1), (0, 1))"
   ]
  },
  {
   "cell_type": "code",
   "execution_count": 29,
   "metadata": {},
   "outputs": [],
   "source": [
    "# Initial Guess (equal distribution)\n",
    "init_guess = [0.25,0.25,0.25,0.25]"
   ]
  },
  {
   "cell_type": "code",
   "execution_count": 30,
   "metadata": {},
   "outputs": [],
   "source": [
    "# Sequential Least SQuares Programming (SLSQP).\n",
    "opt_results = minimize(neg_sharpe,init_guess,method='SLSQP',bounds=bounds,constraints=cons)"
   ]
  },
  {
   "cell_type": "code",
   "execution_count": 31,
   "metadata": {},
   "outputs": [
    {
     "data": {
      "text/plain": [
       "     fun: -1.0307168703356437\n",
       "     jac: array([ 5.64306974e-05,  4.18275595e-05,  3.39921713e-01, -4.45097685e-05])\n",
       " message: 'Optimization terminated successfully.'\n",
       "    nfev: 42\n",
       "     nit: 7\n",
       "    njev: 7\n",
       "  status: 0\n",
       " success: True\n",
       "       x: array([2.66289773e-01, 2.04189816e-01, 5.44676066e-17, 5.29520411e-01])"
      ]
     },
     "execution_count": 31,
     "metadata": {},
     "output_type": "execute_result"
    }
   ],
   "source": [
    "opt_results"
   ]
  },
  {
   "cell_type": "code",
   "execution_count": 32,
   "metadata": {},
   "outputs": [
    {
     "data": {
      "text/plain": [
       "array([2.66289773e-01, 2.04189816e-01, 5.44676066e-17, 5.29520411e-01])"
      ]
     },
     "execution_count": 32,
     "metadata": {},
     "output_type": "execute_result"
    }
   ],
   "source": [
    "opt_results.x"
   ]
  },
  {
   "cell_type": "code",
   "execution_count": 33,
   "metadata": {},
   "outputs": [
    {
     "data": {
      "text/plain": [
       "array([0.21885916, 0.21233683, 1.03071687])"
      ]
     },
     "execution_count": 33,
     "metadata": {},
     "output_type": "execute_result"
    }
   ],
   "source": [
    "get_ret_vol_sr(opt_results.x)"
   ]
  },
  {
   "cell_type": "markdown",
   "metadata": {},
   "source": [
    "## All Optimal Portfolios (Efficient Frontier)"
   ]
  },
  {
   "cell_type": "code",
   "execution_count": 34,
   "metadata": {},
   "outputs": [],
   "source": [
    "# Our returns go from 0 to somewhere along 0.3\n",
    "# Create a linspace number of points to calculate x on\n",
    "frontier_y = np.linspace(0,0.3,100) # Change 100 to a lower number for slower computers!"
   ]
  },
  {
   "cell_type": "code",
   "execution_count": 35,
   "metadata": {},
   "outputs": [],
   "source": [
    "def minimize_volatility(weights):\n",
    "    return  get_ret_vol_sr(weights)[1] "
   ]
  },
  {
   "cell_type": "code",
   "execution_count": 36,
   "metadata": {},
   "outputs": [],
   "source": [
    "frontier_volatility = []\n",
    "\n",
    "for possible_return in frontier_y:\n",
    "    # function for return\n",
    "    cons = ({'type':'eq','fun': check_sum},\n",
    "            {'type':'eq','fun': lambda w: get_ret_vol_sr(w)[0] - possible_return})\n",
    "    \n",
    "    result = minimize(minimize_volatility,init_guess,method='SLSQP',bounds=bounds,constraints=cons)\n",
    "    \n",
    "    frontier_volatility.append(result['fun'])"
   ]
  },
  {
   "cell_type": "code",
   "execution_count": 37,
   "metadata": {},
   "outputs": [
    {
     "data": {
      "text/plain": [
       "[<matplotlib.lines.Line2D at 0x165f559eda0>]"
      ]
     },
     "execution_count": 37,
     "metadata": {},
     "output_type": "execute_result"
    },
    {
     "data": {
      "image/png": "[encoded data removed]",
      "text/plain": [
       "<matplotlib.figure.Figure at 0x165f4fac4e0>"
      ]
     },
     "metadata": {},
     "output_type": "display_data"
    }
   ],
   "source": [
    "plt.figure(figsize=(12,8))\n",
    "plt.scatter(vol_arr,ret_arr,c=sharpe_arr,cmap='plasma')\n",
    "plt.colorbar(label='Sharpe Ratio')\n",
    "plt.xlabel('Volatility')\n",
    "plt.ylabel('Return')\n",
    "\n",
    "# Add frontier line\n",
    "plt.plot(frontier_volatility,frontier_y,'g--',linewidth=3)"
   ]
  },
  {
   "cell_type": "markdown",
   "metadata": {},
   "source": [
    "# CAPM - Capital Asset Pricing Model\n",
    "\n",
    "Portfolio Returns:\n",
    "\n",
    "## $r_p(t) = \\sum\\limits_{i}^{n}w_i r_i(t)$\n",
    "\n",
    "Market Weights:\n",
    "\n",
    "## $ w_i = \\frac{MarketCap_i}{\\sum_{j}^{n}{MarketCap_j}} $\n",
    "\n",
    "### CAPM of a portfolio\n",
    "\n",
    "## $ r_p(t) = \\beta_pr_m(t) + \\sum\\limits_{i}^{n}w_i \\alpha_i(t)$"
   ]
  },
  {
   "cell_type": "code",
   "execution_count": 33,
   "metadata": {},
   "outputs": [],
   "source": [
    "from scipy import stats"
   ]
  },
  {
   "cell_type": "code",
   "execution_count": 39,
   "metadata": {},
   "outputs": [
    {
     "name": "stdout",
     "output_type": "stream",
     "text": [
      "Help on function linregress in module scipy.stats._stats_mstats_common:\n",
      "\n",
      "linregress(x, y=None)\n",
      "    Calculate a linear least-squares regression for two sets of measurements.\n",
      "    \n",
      "    Parameters\n",
      "    ----------\n",
      "    x, y : array_like\n",
      "        Two sets of measurements.  Both arrays should have the same length.\n",
      "        If only x is given (and y=None), then it must be a two-dimensional\n",
      "        array where one dimension has length 2.  The two sets of measurements\n",
      "        are then found by splitting the array along the length-2 dimension.\n",
      "    \n",
      "    Returns\n",
      "    -------\n",
      "    slope : float\n",
      "        slope of the regression line\n",
      "    intercept : float\n",
      "        intercept of the regression line\n",
      "    rvalue : float\n",
      "        correlation coefficient\n",
      "    pvalue : float\n",
      "        two-sided p-value for a hypothesis test whose null hypothesis is\n",
      "        that the slope is zero, using Wald Test with t-distribution of\n",
      "        the test statistic.\n",
      "    stderr : float\n",
      "        Standard error of the estimated gradient.\n",
      "    \n",
      "    See also\n",
      "    --------\n",
      "    :func:`scipy.optimize.curve_fit` : Use non-linear\n",
      "     least squares to fit a function to data.\n",
      "    :func:`scipy.optimize.leastsq` : Minimize the sum of\n",
      "     squares of a set of equations.\n",
      "    \n",
      "    Examples\n",
      "    --------\n",
      "    >>> import matplotlib.pyplot as plt\n",
      "    >>> from scipy import stats\n",
      "    >>> np.random.seed(12345678)\n",
      "    >>> x = np.random.random(10)\n",
      "    >>> y = np.random.random(10)\n",
      "    >>> slope, intercept, r_value, p_value, std_err = stats.linregress(x, y)\n",
      "    \n",
      "    To get coefficient of determination (r_squared)\n",
      "    \n",
      "    >>> print(\"r-squared:\", r_value**2)\n",
      "    r-squared: 0.080402268539\n",
      "    \n",
      "    Plot the data along with the fitted line\n",
      "    \n",
      "    >>> plt.plot(x, y, 'o', label='original data')\n",
      "    >>> plt.plot(x, intercept + slope*x, 'r', label='fitted line')\n",
      "    >>> plt.legend()\n",
      "    >>> plt.show()\n",
      "\n"
     ]
    }
   ],
   "source": [
    "help(stats.linregress)"
   ]
  },
  {
   "cell_type": "code",
   "execution_count": 1,
   "metadata": {},
   "outputs": [],
   "source": [
    "import pandas as pd\n",
    "import pandas_datareader as web"
   ]
  },
  {
   "cell_type": "code",
   "execution_count": 15,
   "metadata": {},
   "outputs": [],
   "source": [
    "spy_etf = web.DataReader('SPY','morningstar')"
   ]
  },
  {
   "cell_type": "code",
   "execution_count": 16,
   "metadata": {},
   "outputs": [],
   "source": [
    "spy_etf = spy_etf.loc[\"SPY\"][1:]"
   ]
  },
  {
   "cell_type": "code",
   "execution_count": 17,
   "metadata": {},
   "outputs": [
    {
     "data": {
      "text/html": [
       "<div>\n",
       "<style>\n",
       "    .dataframe thead tr:only-child th {\n",
       "        text-align: right;\n",
       "    }\n",
       "\n",
       "    .dataframe thead th {\n",
       "        text-align: left;\n",
       "    }\n",
       "\n",
       "    .dataframe tbody tr th {\n",
       "        vertical-align: top;\n",
       "    }\n",
       "</style>\n",
       "<table border=\"1\" class=\"dataframe\">\n",
       "  <thead>\n",
       "    <tr style=\"text-align: right;\">\n",
       "      <th></th>\n",
       "      <th>Close</th>\n",
       "      <th>High</th>\n",
       "      <th>Low</th>\n",
       "      <th>Open</th>\n",
       "      <th>Volume</th>\n",
       "    </tr>\n",
       "    <tr>\n",
       "      <th>Date</th>\n",
       "      <th></th>\n",
       "      <th></th>\n",
       "      <th></th>\n",
       "      <th></th>\n",
       "      <th></th>\n",
       "    </tr>\n",
       "  </thead>\n",
       "  <tbody>\n",
       "    <tr>\n",
       "      <th>2010-01-04</th>\n",
       "      <td>113.33</td>\n",
       "      <td>113.39</td>\n",
       "      <td>111.51</td>\n",
       "      <td>112.37</td>\n",
       "      <td>118944600</td>\n",
       "    </tr>\n",
       "    <tr>\n",
       "      <th>2010-01-05</th>\n",
       "      <td>113.63</td>\n",
       "      <td>113.68</td>\n",
       "      <td>112.85</td>\n",
       "      <td>113.26</td>\n",
       "      <td>111579900</td>\n",
       "    </tr>\n",
       "    <tr>\n",
       "      <th>2010-01-06</th>\n",
       "      <td>113.71</td>\n",
       "      <td>113.99</td>\n",
       "      <td>113.43</td>\n",
       "      <td>113.52</td>\n",
       "      <td>116074400</td>\n",
       "    </tr>\n",
       "    <tr>\n",
       "      <th>2010-01-07</th>\n",
       "      <td>114.19</td>\n",
       "      <td>114.33</td>\n",
       "      <td>113.18</td>\n",
       "      <td>113.50</td>\n",
       "      <td>131091100</td>\n",
       "    </tr>\n",
       "    <tr>\n",
       "      <th>2010-01-08</th>\n",
       "      <td>114.57</td>\n",
       "      <td>114.62</td>\n",
       "      <td>113.66</td>\n",
       "      <td>113.89</td>\n",
       "      <td>126402800</td>\n",
       "    </tr>\n",
       "  </tbody>\n",
       "</table>\n",
       "</div>"
      ],
      "text/plain": [
       "             Close    High     Low    Open     Volume\n",
       "Date                                                 \n",
       "2010-01-04  113.33  113.39  111.51  112.37  118944600\n",
       "2010-01-05  113.63  113.68  112.85  113.26  111579900\n",
       "2010-01-06  113.71  113.99  113.43  113.52  116074400\n",
       "2010-01-07  114.19  114.33  113.18  113.50  131091100\n",
       "2010-01-08  114.57  114.62  113.66  113.89  126402800"
      ]
     },
     "execution_count": 17,
     "metadata": {},
     "output_type": "execute_result"
    }
   ],
   "source": [
    "spy_etf.head()"
   ]
  },
  {
   "cell_type": "code",
   "execution_count": 18,
   "metadata": {},
   "outputs": [
    {
     "name": "stdout",
     "output_type": "stream",
     "text": [
      "<class 'pandas.core.frame.DataFrame'>\n",
      "DatetimeIndex: 2200 entries, 2010-01-04 to 2018-06-08\n",
      "Data columns (total 5 columns):\n",
      "Close     2200 non-null float64\n",
      "High      2200 non-null float64\n",
      "Low       2200 non-null float64\n",
      "Open      2200 non-null float64\n",
      "Volume    2200 non-null int64\n",
      "dtypes: float64(4), int64(1)\n",
      "memory usage: 103.1 KB\n"
     ]
    }
   ],
   "source": [
    "spy_etf.info()"
   ]
  },
  {
   "cell_type": "code",
   "execution_count": 19,
   "metadata": {},
   "outputs": [],
   "source": [
    "start = pd.to_datetime('2010-01-04')\n",
    "end = pd.to_datetime('2018-06-08')"
   ]
  },
  {
   "cell_type": "code",
   "execution_count": 20,
   "metadata": {},
   "outputs": [],
   "source": [
    "aapl = web.DataReader('AAPL','morningstar',start,end)"
   ]
  },
  {
   "cell_type": "code",
   "execution_count": 22,
   "metadata": {},
   "outputs": [],
   "source": [
    "aapl = aapl.loc[\"AAPL\"]"
   ]
  },
  {
   "cell_type": "code",
   "execution_count": 23,
   "metadata": {},
   "outputs": [
    {
     "data": {
      "text/html": [
       "<div>\n",
       "<style>\n",
       "    .dataframe thead tr:only-child th {\n",
       "        text-align: right;\n",
       "    }\n",
       "\n",
       "    .dataframe thead th {\n",
       "        text-align: left;\n",
       "    }\n",
       "\n",
       "    .dataframe tbody tr th {\n",
       "        vertical-align: top;\n",
       "    }\n",
       "</style>\n",
       "<table border=\"1\" class=\"dataframe\">\n",
       "  <thead>\n",
       "    <tr style=\"text-align: right;\">\n",
       "      <th></th>\n",
       "      <th>Close</th>\n",
       "      <th>High</th>\n",
       "      <th>Low</th>\n",
       "      <th>Open</th>\n",
       "      <th>Volume</th>\n",
       "    </tr>\n",
       "    <tr>\n",
       "      <th>Date</th>\n",
       "      <th></th>\n",
       "      <th></th>\n",
       "      <th></th>\n",
       "      <th></th>\n",
       "      <th></th>\n",
       "    </tr>\n",
       "  </thead>\n",
       "  <tbody>\n",
       "    <tr>\n",
       "      <th>2010-01-04</th>\n",
       "      <td>30.5729</td>\n",
       "      <td>30.6429</td>\n",
       "      <td>30.3400</td>\n",
       "      <td>30.5000</td>\n",
       "      <td>123432050</td>\n",
       "    </tr>\n",
       "    <tr>\n",
       "      <th>2010-01-05</th>\n",
       "      <td>30.6257</td>\n",
       "      <td>30.7986</td>\n",
       "      <td>30.4643</td>\n",
       "      <td>30.6843</td>\n",
       "      <td>150476004</td>\n",
       "    </tr>\n",
       "    <tr>\n",
       "      <th>2010-01-06</th>\n",
       "      <td>30.1386</td>\n",
       "      <td>30.7471</td>\n",
       "      <td>30.1071</td>\n",
       "      <td>30.6257</td>\n",
       "      <td>138039594</td>\n",
       "    </tr>\n",
       "    <tr>\n",
       "      <th>2010-01-07</th>\n",
       "      <td>30.0829</td>\n",
       "      <td>30.2857</td>\n",
       "      <td>29.8643</td>\n",
       "      <td>30.2400</td>\n",
       "      <td>119282324</td>\n",
       "    </tr>\n",
       "    <tr>\n",
       "      <th>2010-01-08</th>\n",
       "      <td>30.2829</td>\n",
       "      <td>30.2857</td>\n",
       "      <td>29.8657</td>\n",
       "      <td>30.0571</td>\n",
       "      <td>111969081</td>\n",
       "    </tr>\n",
       "  </tbody>\n",
       "</table>\n",
       "</div>"
      ],
      "text/plain": [
       "              Close     High      Low     Open     Volume\n",
       "Date                                                     \n",
       "2010-01-04  30.5729  30.6429  30.3400  30.5000  123432050\n",
       "2010-01-05  30.6257  30.7986  30.4643  30.6843  150476004\n",
       "2010-01-06  30.1386  30.7471  30.1071  30.6257  138039594\n",
       "2010-01-07  30.0829  30.2857  29.8643  30.2400  119282324\n",
       "2010-01-08  30.2829  30.2857  29.8657  30.0571  111969081"
      ]
     },
     "execution_count": 23,
     "metadata": {},
     "output_type": "execute_result"
    }
   ],
   "source": [
    "aapl.head()"
   ]
  },
  {
   "cell_type": "code",
   "execution_count": 24,
   "metadata": {},
   "outputs": [
    {
     "name": "stdout",
     "output_type": "stream",
     "text": [
      "<class 'pandas.core.frame.DataFrame'>\n",
      "DatetimeIndex: 2200 entries, 2010-01-04 to 2018-06-08\n",
      "Data columns (total 5 columns):\n",
      "Close     2200 non-null float64\n",
      "High      2200 non-null float64\n",
      "Low       2200 non-null float64\n",
      "Open      2200 non-null float64\n",
      "Volume    2200 non-null int64\n",
      "dtypes: float64(4), int64(1)\n",
      "memory usage: 103.1 KB\n"
     ]
    }
   ],
   "source": [
    "aapl.info()"
   ]
  },
  {
   "cell_type": "code",
   "execution_count": 25,
   "metadata": {},
   "outputs": [],
   "source": [
    "import matplotlib.pyplot as plt\n",
    "%matplotlib inline"
   ]
  },
  {
   "cell_type": "code",
   "execution_count": 26,
   "metadata": {},
   "outputs": [
    {
     "data": {
      "text/plain": [
       "<matplotlib.legend.Legend at 0x24f60f0e5f8>"
      ]
     },
     "execution_count": 26,
     "metadata": {},
     "output_type": "execute_result"
    },
    {
     "data": {
      "image/png": "[encoded data removed]",
      "text/plain": [
       "<matplotlib.figure.Figure at 0x24f60c9f668>"
      ]
     },
     "metadata": {},
     "output_type": "display_data"
    }
   ],
   "source": [
    "aapl['Close'].plot(label='AAPL',figsize=(10,8))\n",
    "spy_etf['Close'].plot(label='SPY Index')\n",
    "plt.legend()"
   ]
  },
  {
   "cell_type": "markdown",
   "metadata": {},
   "source": [
    "## Compare Cumulative Return"
   ]
  },
  {
   "cell_type": "code",
   "execution_count": 27,
   "metadata": {},
   "outputs": [],
   "source": [
    "aapl['Cumulative'] = aapl['Close']/aapl['Close'].iloc[0]\n",
    "spy_etf['Cumulative'] = spy_etf['Close']/spy_etf['Close'].iloc[0]"
   ]
  },
  {
   "cell_type": "code",
   "execution_count": 28,
   "metadata": {},
   "outputs": [
    {
     "data": {
      "text/plain": [
       "<matplotlib.text.Text at 0x24f60fce128>"
      ]
     },
     "execution_count": 28,
     "metadata": {},
     "output_type": "execute_result"
    },
    {
     "data": {
      "image/png": "[encoded data removed]",
      "text/plain": [
       "<matplotlib.figure.Figure at 0x24f5997f7f0>"
      ]
     },
     "metadata": {},
     "output_type": "display_data"
    }
   ],
   "source": [
    "aapl['Cumulative'].plot(label='AAPL',figsize=(10,8))\n",
    "spy_etf['Cumulative'].plot(label='SPY Index')\n",
    "plt.legend()\n",
    "plt.title('Cumulative Return')"
   ]
  },
  {
   "cell_type": "markdown",
   "metadata": {},
   "source": [
    "## Get Daily Return"
   ]
  },
  {
   "cell_type": "code",
   "execution_count": 29,
   "metadata": {},
   "outputs": [],
   "source": [
    "aapl['Daily Return'] = aapl['Close'].pct_change(1)\n",
    "spy_etf['Daily Return'] = spy_etf['Close'].pct_change(1)"
   ]
  },
  {
   "cell_type": "code",
   "execution_count": 31,
   "metadata": {},
   "outputs": [
    {
     "data": {
      "text/plain": [
       "<matplotlib.collections.PathCollection at 0x24f6138abe0>"
      ]
     },
     "execution_count": 31,
     "metadata": {},
     "output_type": "execute_result"
    },
    {
     "data": {
      "image/png": "[encoded data removed]",
      "text/plain": [
       "<matplotlib.figure.Figure at 0x24f61325a90>"
      ]
     },
     "metadata": {},
     "output_type": "display_data"
    }
   ],
   "source": [
    "plt.scatter(aapl['Daily Return'],spy_etf['Daily Return'],alpha=0.25)"
   ]
  },
  {
   "cell_type": "code",
   "execution_count": 34,
   "metadata": {},
   "outputs": [],
   "source": [
    "beta,alpha,r_value,p_value,std_err = stats.linregress(aapl['Daily Return'].iloc[1:],\n",
    "                                                      spy_etf['Daily Return'].iloc[1:])"
   ]
  },
  {
   "cell_type": "code",
   "execution_count": 35,
   "metadata": {},
   "outputs": [
    {
     "data": {
      "text/plain": [
       "0.32968896002725456"
      ]
     },
     "execution_count": 35,
     "metadata": {},
     "output_type": "execute_result"
    }
   ],
   "source": [
    "beta"
   ]
  },
  {
   "cell_type": "code",
   "execution_count": 36,
   "metadata": {},
   "outputs": [
    {
     "data": {
      "text/plain": [
       "0.00013469451993785669"
      ]
     },
     "execution_count": 36,
     "metadata": {},
     "output_type": "execute_result"
    }
   ],
   "source": [
    "alpha"
   ]
  },
  {
   "cell_type": "code",
   "execution_count": 37,
   "metadata": {},
   "outputs": [
    {
     "data": {
      "text/plain": [
       "0.56370873589139225"
      ]
     },
     "execution_count": 37,
     "metadata": {},
     "output_type": "execute_result"
    }
   ],
   "source": [
    "r_value"
   ]
  },
  {
   "cell_type": "markdown",
   "metadata": {},
   "source": [
    "## What if our stock was completely related to SP500?"
   ]
  },
  {
   "cell_type": "code",
   "execution_count": 38,
   "metadata": {},
   "outputs": [
    {
     "data": {
      "text/plain": [
       "Date\n",
       "2010-01-04         NaN\n",
       "2010-01-05    0.002647\n",
       "2010-01-06    0.000704\n",
       "2010-01-07    0.004221\n",
       "2010-01-08    0.003328\n",
       "Name: Daily Return, dtype: float64"
      ]
     },
     "execution_count": 38,
     "metadata": {},
     "output_type": "execute_result"
    }
   ],
   "source": [
    "spy_etf['Daily Return'].head()"
   ]
  },
  {
   "cell_type": "code",
   "execution_count": 39,
   "metadata": {},
   "outputs": [
    {
     "data": {
      "text/plain": [
       "array([ -6.15737117e-04,   1.05893612e-03,  -1.25708203e-03, ...,\n",
       "         1.41493869e-03,   6.40528771e-05,  -5.67230632e-04])"
      ]
     },
     "execution_count": 39,
     "metadata": {},
     "output_type": "execute_result"
    }
   ],
   "source": [
    "import numpy as np\n",
    "noise = np.random.normal(0,0.001,len(spy_etf['Daily Return'].iloc[1:]))\n",
    "noise"
   ]
  },
  {
   "cell_type": "code",
   "execution_count": 40,
   "metadata": {},
   "outputs": [],
   "source": [
    "fake_stock = spy_etf['Daily Return'].iloc[1:] + noise"
   ]
  },
  {
   "cell_type": "code",
   "execution_count": 41,
   "metadata": {},
   "outputs": [
    {
     "data": {
      "text/plain": [
       "<matplotlib.collections.PathCollection at 0x24f63044160>"
      ]
     },
     "execution_count": 41,
     "metadata": {},
     "output_type": "execute_result"
    },
    {
     "data": {
      "image/png": "[encoded data removed]",
      "text/plain": [
       "<matplotlib.figure.Figure at 0x24f62d9fa58>"
      ]
     },
     "metadata": {},
     "output_type": "display_data"
    }
   ],
   "source": [
    "plt.scatter(fake_stock,spy_etf['Daily Return'].iloc[1:],alpha=0.25)"
   ]
  },
  {
   "cell_type": "code",
   "execution_count": 42,
   "metadata": {},
   "outputs": [],
   "source": [
    "beta,alpha,r_value,p_value,std_err = stats.linregress(fake_stock,\n",
    "                                                      spy_etf['Daily Return'].iloc[1:])"
   ]
  },
  {
   "cell_type": "code",
   "execution_count": 43,
   "metadata": {},
   "outputs": [
    {
     "data": {
      "text/plain": [
       "0.98896525809693026"
      ]
     },
     "execution_count": 43,
     "metadata": {},
     "output_type": "execute_result"
    }
   ],
   "source": [
    "beta"
   ]
  },
  {
   "cell_type": "code",
   "execution_count": 44,
   "metadata": {},
   "outputs": [
    {
     "data": {
      "text/plain": [
       "-7.2684302758746619e-06"
      ]
     },
     "execution_count": 44,
     "metadata": {},
     "output_type": "execute_result"
    }
   ],
   "source": [
    "alpha"
   ]
  },
  {
   "cell_type": "code",
   "execution_count": 45,
   "metadata": {},
   "outputs": [
    {
     "data": {
      "text/plain": [
       "0.99390120894624889"
      ]
     },
     "execution_count": 45,
     "metadata": {},
     "output_type": "execute_result"
    }
   ],
   "source": [
    "r_value"
   ]
  },
  {
   "cell_type": "code",
   "execution_count": null,
   "metadata": {},
   "outputs": [],
   "source": []
  }
 ],
 "metadata": {
  "kernelspec": {
   "display_name": "Python 3",
   "language": "python",
   "name": "python3"
  },
  "language_info": {
   "codemirror_mode": {
    "name": "ipython",
    "version": 3
   },
   "file_extension": ".py",
   "mimetype": "text/x-python",
   "name": "python",
   "nbconvert_exporter": "python",
   "pygments_lexer": "ipython3",
   "version": "3.6.2"
  }
 },
 "nbformat": 4,
 "nbformat_minor": 2
}
